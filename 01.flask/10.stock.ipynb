{
 "metadata": {
  "language_info": {
   "codemirror_mode": {
    "name": "ipython",
    "version": 3
   },
   "file_extension": ".py",
   "mimetype": "text/x-python",
   "name": "python",
   "nbconvert_exporter": "python",
   "pygments_lexer": "ipython3",
   "version": "3.8.3-final"
  },
  "orig_nbformat": 2,
  "kernelspec": {
   "name": "Python 3.8.3 64-bit ('base': conda)",
   "display_name": "Python 3.8.3 64-bit ('base': conda)",
   "metadata": {
    "interpreter": {
     "hash": "c2224539028b414c7f0940cdc86eeb3c7deaf138deef25179eca5056c4d821b9"
    }
   }
  }
 },
 "nbformat": 4,
 "nbformat_minor": 2,
 "cells": [
  {
   "cell_type": "code",
   "execution_count": 1,
   "metadata": {},
   "outputs": [],
   "source": [
    "import numpy as np \n",
    "import pandas as pd \n",
    "import seaborn as sns \n",
    "import matplotlib as mpl \n",
    "import matplotlib.pyplot as plt \n",
    "%matplotlib inline\n",
    "# 한글폰트 사용\n",
    "mpl.rc('font', family='Malgun Gothic')\n",
    "mpl.rc('axes', unicode_minus=False)\n",
    "\n",
    "import warnings\n",
    "warnings.filterwarnings(\"ignore\")\n",
    "\n",
    "from fbprophet import Prophet\n",
    "from datetime import datetime\n",
    "import pandas_datareader as pdr"
   ]
  },
  {
   "cell_type": "code",
   "execution_count": 2,
   "metadata": {},
   "outputs": [
    {
     "output_type": "execute_result",
     "data": {
      "text/plain": [
       "     종목코드     기업명    업종코드               업종    상장주식수(주)          자본금(원) 액면가(원)  \\\n",
       "0   60310      3S   32902    특수 목적용 기계 제조업  44,802,511  22,401,255,500    500   \n",
       "1   95570  AJ네트웍스  147603  산업용 기계 및 장비 임대업  46,822,295  46,822,295,000  1,000   \n",
       "2    6840   AK홀딩스  116409           기타 금융업  13,247,561  66,237,805,000  5,000   \n",
       "3   54620  APS홀딩스  116409           기타 금융업  20,394,221  10,197,110,500    500   \n",
       "4  265520   AP시스템   32902    특수 목적용 기계 제조업  14,480,227   7,240,113,500    500   \n",
       "\n",
       "     통화구분          대표전화                              주소  \n",
       "0  원(KRW)   02-896-9474        서울특별시 금천구  시흥대로71길 30-1   \n",
       "1  원(KRW)  02-6363-9999    서울특별시 송파구 정의로8길 9 (문정동,AJ빌딩)  \n",
       "2  원(KRW)   02-768-2923            서울특별시 마포구 양화로 188 -   \n",
       "3  원(KRW)  031-776-1800  경기도 화성시 동탄면 동탄산단9길 23-12 (동탄면)  \n",
       "4  원(KRW)  031-379-2700  경기도 화성시  동탄면 동탄산단8길 15-5 &nbsp  "
      ],
      "text/html": "<div>\n<style scoped>\n    .dataframe tbody tr th:only-of-type {\n        vertical-align: middle;\n    }\n\n    .dataframe tbody tr th {\n        vertical-align: top;\n    }\n\n    .dataframe thead th {\n        text-align: right;\n    }\n</style>\n<table border=\"1\" class=\"dataframe\">\n  <thead>\n    <tr style=\"text-align: right;\">\n      <th></th>\n      <th>종목코드</th>\n      <th>기업명</th>\n      <th>업종코드</th>\n      <th>업종</th>\n      <th>상장주식수(주)</th>\n      <th>자본금(원)</th>\n      <th>액면가(원)</th>\n      <th>통화구분</th>\n      <th>대표전화</th>\n      <th>주소</th>\n    </tr>\n  </thead>\n  <tbody>\n    <tr>\n      <th>0</th>\n      <td>60310</td>\n      <td>3S</td>\n      <td>32902</td>\n      <td>특수 목적용 기계 제조업</td>\n      <td>44,802,511</td>\n      <td>22,401,255,500</td>\n      <td>500</td>\n      <td>원(KRW)</td>\n      <td>02-896-9474</td>\n      <td>서울특별시 금천구  시흥대로71길 30-1</td>\n    </tr>\n    <tr>\n      <th>1</th>\n      <td>95570</td>\n      <td>AJ네트웍스</td>\n      <td>147603</td>\n      <td>산업용 기계 및 장비 임대업</td>\n      <td>46,822,295</td>\n      <td>46,822,295,000</td>\n      <td>1,000</td>\n      <td>원(KRW)</td>\n      <td>02-6363-9999</td>\n      <td>서울특별시 송파구 정의로8길 9 (문정동,AJ빌딩)</td>\n    </tr>\n    <tr>\n      <th>2</th>\n      <td>6840</td>\n      <td>AK홀딩스</td>\n      <td>116409</td>\n      <td>기타 금융업</td>\n      <td>13,247,561</td>\n      <td>66,237,805,000</td>\n      <td>5,000</td>\n      <td>원(KRW)</td>\n      <td>02-768-2923</td>\n      <td>서울특별시 마포구 양화로 188 -</td>\n    </tr>\n    <tr>\n      <th>3</th>\n      <td>54620</td>\n      <td>APS홀딩스</td>\n      <td>116409</td>\n      <td>기타 금융업</td>\n      <td>20,394,221</td>\n      <td>10,197,110,500</td>\n      <td>500</td>\n      <td>원(KRW)</td>\n      <td>031-776-1800</td>\n      <td>경기도 화성시 동탄면 동탄산단9길 23-12 (동탄면)</td>\n    </tr>\n    <tr>\n      <th>4</th>\n      <td>265520</td>\n      <td>AP시스템</td>\n      <td>32902</td>\n      <td>특수 목적용 기계 제조업</td>\n      <td>14,480,227</td>\n      <td>7,240,113,500</td>\n      <td>500</td>\n      <td>원(KRW)</td>\n      <td>031-379-2700</td>\n      <td>경기도 화성시  동탄면 동탄산단8길 15-5 &amp;nbsp</td>\n    </tr>\n  </tbody>\n</table>\n</div>"
     },
     "metadata": {},
     "execution_count": 2
    }
   ],
   "source": [
    "pinkwink_web = pd.read_excel('./static/data/상장회사.xlsx')\n",
    "del pinkwink_web['번호']\n",
    "pinkwink_web.head()"
   ]
  },
  {
   "cell_type": "code",
   "execution_count": 3,
   "metadata": {},
   "outputs": [
    {
     "output_type": "stream",
     "name": "stdout",
     "text": [
      "<class 'pandas.core.frame.DataFrame'>\nRangeIndex: 2404 entries, 0 to 2403\nData columns (total 10 columns):\n #   Column    Non-Null Count  Dtype \n---  ------    --------------  ----- \n 0   종목코드      2404 non-null   int64 \n 1   기업명       2404 non-null   object\n 2   업종코드      2404 non-null   int64 \n 3   업종        2404 non-null   object\n 4   상장주식수(주)  2404 non-null   object\n 5   자본금(원)    2404 non-null   object\n 6   액면가(원)    2404 non-null   object\n 7   통화구분      2402 non-null   object\n 8   대표전화      2385 non-null   object\n 9   주소        2404 non-null   object\ndtypes: int64(2), object(8)\nmemory usage: 187.9+ KB\n"
     ]
    }
   ],
   "source": [
    "pinkwink_web.info()"
   ]
  },
  {
   "cell_type": "code",
   "execution_count": 4,
   "metadata": {},
   "outputs": [
    {
     "output_type": "execute_result",
     "data": {
      "text/plain": [
       "     종목코드     기업명    업종코드               업종    상장주식수(주)          자본금(원) 액면가(원)  \\\n",
       "0  060310      3S   32902    특수 목적용 기계 제조업  44,802,511  22,401,255,500    500   \n",
       "1  095570  AJ네트웍스  147603  산업용 기계 및 장비 임대업  46,822,295  46,822,295,000  1,000   \n",
       "2  006840   AK홀딩스  116409           기타 금융업  13,247,561  66,237,805,000  5,000   \n",
       "3  054620  APS홀딩스  116409           기타 금융업  20,394,221  10,197,110,500    500   \n",
       "4  265520   AP시스템   32902    특수 목적용 기계 제조업  14,480,227   7,240,113,500    500   \n",
       "\n",
       "     통화구분          대표전화                              주소  \n",
       "0  원(KRW)   02-896-9474        서울특별시 금천구  시흥대로71길 30-1   \n",
       "1  원(KRW)  02-6363-9999    서울특별시 송파구 정의로8길 9 (문정동,AJ빌딩)  \n",
       "2  원(KRW)   02-768-2923            서울특별시 마포구 양화로 188 -   \n",
       "3  원(KRW)  031-776-1800  경기도 화성시 동탄면 동탄산단9길 23-12 (동탄면)  \n",
       "4  원(KRW)  031-379-2700  경기도 화성시  동탄면 동탄산단8길 15-5 &nbsp  "
      ],
      "text/html": "<div>\n<style scoped>\n    .dataframe tbody tr th:only-of-type {\n        vertical-align: middle;\n    }\n\n    .dataframe tbody tr th {\n        vertical-align: top;\n    }\n\n    .dataframe thead th {\n        text-align: right;\n    }\n</style>\n<table border=\"1\" class=\"dataframe\">\n  <thead>\n    <tr style=\"text-align: right;\">\n      <th></th>\n      <th>종목코드</th>\n      <th>기업명</th>\n      <th>업종코드</th>\n      <th>업종</th>\n      <th>상장주식수(주)</th>\n      <th>자본금(원)</th>\n      <th>액면가(원)</th>\n      <th>통화구분</th>\n      <th>대표전화</th>\n      <th>주소</th>\n    </tr>\n  </thead>\n  <tbody>\n    <tr>\n      <th>0</th>\n      <td>060310</td>\n      <td>3S</td>\n      <td>32902</td>\n      <td>특수 목적용 기계 제조업</td>\n      <td>44,802,511</td>\n      <td>22,401,255,500</td>\n      <td>500</td>\n      <td>원(KRW)</td>\n      <td>02-896-9474</td>\n      <td>서울특별시 금천구  시흥대로71길 30-1</td>\n    </tr>\n    <tr>\n      <th>1</th>\n      <td>095570</td>\n      <td>AJ네트웍스</td>\n      <td>147603</td>\n      <td>산업용 기계 및 장비 임대업</td>\n      <td>46,822,295</td>\n      <td>46,822,295,000</td>\n      <td>1,000</td>\n      <td>원(KRW)</td>\n      <td>02-6363-9999</td>\n      <td>서울특별시 송파구 정의로8길 9 (문정동,AJ빌딩)</td>\n    </tr>\n    <tr>\n      <th>2</th>\n      <td>006840</td>\n      <td>AK홀딩스</td>\n      <td>116409</td>\n      <td>기타 금융업</td>\n      <td>13,247,561</td>\n      <td>66,237,805,000</td>\n      <td>5,000</td>\n      <td>원(KRW)</td>\n      <td>02-768-2923</td>\n      <td>서울특별시 마포구 양화로 188 -</td>\n    </tr>\n    <tr>\n      <th>3</th>\n      <td>054620</td>\n      <td>APS홀딩스</td>\n      <td>116409</td>\n      <td>기타 금융업</td>\n      <td>20,394,221</td>\n      <td>10,197,110,500</td>\n      <td>500</td>\n      <td>원(KRW)</td>\n      <td>031-776-1800</td>\n      <td>경기도 화성시 동탄면 동탄산단9길 23-12 (동탄면)</td>\n    </tr>\n    <tr>\n      <th>4</th>\n      <td>265520</td>\n      <td>AP시스템</td>\n      <td>32902</td>\n      <td>특수 목적용 기계 제조업</td>\n      <td>14,480,227</td>\n      <td>7,240,113,500</td>\n      <td>500</td>\n      <td>원(KRW)</td>\n      <td>031-379-2700</td>\n      <td>경기도 화성시  동탄면 동탄산단8길 15-5 &amp;nbsp</td>\n    </tr>\n  </tbody>\n</table>\n</div>"
     },
     "metadata": {},
     "execution_count": 4
    }
   ],
   "source": [
    "pinkwink_web1 = pd.read_excel('./static/data/상장회사.xlsx', dtype={'종목코드': str})\n",
    "del pinkwink_web1['번호']\n",
    "pinkwink_web1.head()"
   ]
  },
  {
   "cell_type": "code",
   "execution_count": 5,
   "metadata": {},
   "outputs": [
    {
     "output_type": "stream",
     "name": "stdout",
     "text": [
      "<class 'pandas.core.frame.DataFrame'>\nRangeIndex: 2404 entries, 0 to 2403\nData columns (total 10 columns):\n #   Column    Non-Null Count  Dtype \n---  ------    --------------  ----- \n 0   종목코드      2404 non-null   object\n 1   기업명       2404 non-null   object\n 2   업종코드      2404 non-null   int64 \n 3   업종        2404 non-null   object\n 4   상장주식수(주)  2404 non-null   object\n 5   자본금(원)    2404 non-null   object\n 6   액면가(원)    2404 non-null   object\n 7   통화구분      2402 non-null   object\n 8   대표전화      2385 non-null   object\n 9   주소        2404 non-null   object\ndtypes: int64(1), object(9)\nmemory usage: 187.9+ KB\n"
     ]
    }
   ],
   "source": [
    "pinkwink_web1.info()"
   ]
  },
  {
   "cell_type": "code",
   "execution_count": 6,
   "metadata": {},
   "outputs": [
    {
     "output_type": "execute_result",
     "data": {
      "text/plain": [
       "     종목코드     기업명\n",
       "0  060310      3S\n",
       "1  095570  AJ네트웍스\n",
       "2  006840   AK홀딩스\n",
       "3  054620  APS홀딩스\n",
       "4  265520   AP시스템"
      ],
      "text/html": "<div>\n<style scoped>\n    .dataframe tbody tr th:only-of-type {\n        vertical-align: middle;\n    }\n\n    .dataframe tbody tr th {\n        vertical-align: top;\n    }\n\n    .dataframe thead th {\n        text-align: right;\n    }\n</style>\n<table border=\"1\" class=\"dataframe\">\n  <thead>\n    <tr style=\"text-align: right;\">\n      <th></th>\n      <th>종목코드</th>\n      <th>기업명</th>\n    </tr>\n  </thead>\n  <tbody>\n    <tr>\n      <th>0</th>\n      <td>060310</td>\n      <td>3S</td>\n    </tr>\n    <tr>\n      <th>1</th>\n      <td>095570</td>\n      <td>AJ네트웍스</td>\n    </tr>\n    <tr>\n      <th>2</th>\n      <td>006840</td>\n      <td>AK홀딩스</td>\n    </tr>\n    <tr>\n      <th>3</th>\n      <td>054620</td>\n      <td>APS홀딩스</td>\n    </tr>\n    <tr>\n      <th>4</th>\n      <td>265520</td>\n      <td>AP시스템</td>\n    </tr>\n  </tbody>\n</table>\n</div>"
     },
     "metadata": {},
     "execution_count": 6
    }
   ],
   "source": [
    "pinkwink_da1 = pinkwink_web1[['종목코드', '기업명']]\n",
    "pinkwink_da1.head()"
   ]
  },
  {
   "cell_type": "code",
   "execution_count": null,
   "metadata": {},
   "outputs": [],
   "source": []
  }
 ]
}