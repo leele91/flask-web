{
 "metadata": {
  "language_info": {
   "codemirror_mode": {
    "name": "ipython",
    "version": 3
   },
   "file_extension": ".py",
   "mimetype": "text/x-python",
   "name": "python",
   "nbconvert_exporter": "python",
   "pygments_lexer": "ipython3",
   "version": "3.8.3-final"
  },
  "orig_nbformat": 2,
  "kernelspec": {
   "name": "python3",
   "display_name": "Python 3",
   "language": "python"
  }
 },
 "nbformat": 4,
 "nbformat_minor": 2,
 "cells": [
  {
   "source": [
    "# MNIST Original Hand-written Images"
   ],
   "cell_type": "markdown",
   "metadata": {}
  },
  {
   "cell_type": "code",
   "execution_count": 1,
   "metadata": {},
   "outputs": [],
   "source": [
    "import joblib\n",
    "import numpy as np \n",
    "import pandas as pd \n",
    "import matplotlib.pyplot as plt \n",
    "%matplotlib inline"
   ]
  },
  {
   "cell_type": "code",
   "execution_count": 2,
   "metadata": {},
   "outputs": [],
   "source": [
    "from sklearn.preprocessing import MinMaxScaler\n",
    "from sklearn.linear_model import LogisticRegression\n",
    "from sklearn.svm import SVC\n",
    "from sklearn.ensemble import RandomForestClassifier\n",
    "from sklearn.model_selection import GridSearchCV\n",
    "from sklearn.metrics import accuracy_score\n",
    "from sklearn.model_selection import train_test_split"
   ]
  },
  {
   "cell_type": "code",
   "execution_count": 19,
   "metadata": {},
   "outputs": [
    {
     "output_type": "execute_result",
     "data": {
      "text/plain": [
       "(42000, 785)"
      ]
     },
     "metadata": {},
     "execution_count": 19
    }
   ],
   "source": [
    "train=pd.read_csv('../static/data/mnist/train.csv', header=0, index_col=None)\n",
    "train.shape"
   ]
  },
  {
   "cell_type": "code",
   "execution_count": 4,
   "metadata": {},
   "outputs": [
    {
     "output_type": "execute_result",
     "data": {
      "text/plain": [
       "   label  pixel0  pixel1  pixel2  pixel3  pixel4  pixel5  pixel6  pixel7  \\\n",
       "0      1       0       0       0       0       0       0       0       0   \n",
       "1      0       0       0       0       0       0       0       0       0   \n",
       "\n",
       "   pixel8  ...  pixel774  pixel775  pixel776  pixel777  pixel778  pixel779  \\\n",
       "0       0  ...         0         0         0         0         0         0   \n",
       "1       0  ...         0         0         0         0         0         0   \n",
       "\n",
       "   pixel780  pixel781  pixel782  pixel783  \n",
       "0         0         0         0         0  \n",
       "1         0         0         0         0  \n",
       "\n",
       "[2 rows x 785 columns]"
      ],
      "text/html": "<div>\n<style scoped>\n    .dataframe tbody tr th:only-of-type {\n        vertical-align: middle;\n    }\n\n    .dataframe tbody tr th {\n        vertical-align: top;\n    }\n\n    .dataframe thead th {\n        text-align: right;\n    }\n</style>\n<table border=\"1\" class=\"dataframe\">\n  <thead>\n    <tr style=\"text-align: right;\">\n      <th></th>\n      <th>label</th>\n      <th>pixel0</th>\n      <th>pixel1</th>\n      <th>pixel2</th>\n      <th>pixel3</th>\n      <th>pixel4</th>\n      <th>pixel5</th>\n      <th>pixel6</th>\n      <th>pixel7</th>\n      <th>pixel8</th>\n      <th>...</th>\n      <th>pixel774</th>\n      <th>pixel775</th>\n      <th>pixel776</th>\n      <th>pixel777</th>\n      <th>pixel778</th>\n      <th>pixel779</th>\n      <th>pixel780</th>\n      <th>pixel781</th>\n      <th>pixel782</th>\n      <th>pixel783</th>\n    </tr>\n  </thead>\n  <tbody>\n    <tr>\n      <th>0</th>\n      <td>1</td>\n      <td>0</td>\n      <td>0</td>\n      <td>0</td>\n      <td>0</td>\n      <td>0</td>\n      <td>0</td>\n      <td>0</td>\n      <td>0</td>\n      <td>0</td>\n      <td>...</td>\n      <td>0</td>\n      <td>0</td>\n      <td>0</td>\n      <td>0</td>\n      <td>0</td>\n      <td>0</td>\n      <td>0</td>\n      <td>0</td>\n      <td>0</td>\n      <td>0</td>\n    </tr>\n    <tr>\n      <th>1</th>\n      <td>0</td>\n      <td>0</td>\n      <td>0</td>\n      <td>0</td>\n      <td>0</td>\n      <td>0</td>\n      <td>0</td>\n      <td>0</td>\n      <td>0</td>\n      <td>0</td>\n      <td>...</td>\n      <td>0</td>\n      <td>0</td>\n      <td>0</td>\n      <td>0</td>\n      <td>0</td>\n      <td>0</td>\n      <td>0</td>\n      <td>0</td>\n      <td>0</td>\n      <td>0</td>\n    </tr>\n  </tbody>\n</table>\n<p>2 rows × 785 columns</p>\n</div>"
     },
     "metadata": {},
     "execution_count": 4
    }
   ],
   "source": [
    "train.head(2)"
   ]
  },
  {
   "cell_type": "code",
   "execution_count": 5,
   "metadata": {},
   "outputs": [
    {
     "output_type": "execute_result",
     "data": {
      "text/plain": [
       "              label   pixel0   pixel1   pixel2   pixel3   pixel4   pixel5  \\\n",
       "count  42000.000000  42000.0  42000.0  42000.0  42000.0  42000.0  42000.0   \n",
       "mean       4.456643      0.0      0.0      0.0      0.0      0.0      0.0   \n",
       "std        2.887730      0.0      0.0      0.0      0.0      0.0      0.0   \n",
       "min        0.000000      0.0      0.0      0.0      0.0      0.0      0.0   \n",
       "25%        2.000000      0.0      0.0      0.0      0.0      0.0      0.0   \n",
       "50%        4.000000      0.0      0.0      0.0      0.0      0.0      0.0   \n",
       "75%        7.000000      0.0      0.0      0.0      0.0      0.0      0.0   \n",
       "max        9.000000      0.0      0.0      0.0      0.0      0.0      0.0   \n",
       "\n",
       "        pixel6   pixel7   pixel8  ...      pixel774      pixel775  \\\n",
       "count  42000.0  42000.0  42000.0  ...  42000.000000  42000.000000   \n",
       "mean       0.0      0.0      0.0  ...      0.219286      0.117095   \n",
       "std        0.0      0.0      0.0  ...      6.312890      4.633819   \n",
       "min        0.0      0.0      0.0  ...      0.000000      0.000000   \n",
       "25%        0.0      0.0      0.0  ...      0.000000      0.000000   \n",
       "50%        0.0      0.0      0.0  ...      0.000000      0.000000   \n",
       "75%        0.0      0.0      0.0  ...      0.000000      0.000000   \n",
       "max        0.0      0.0      0.0  ...    254.000000    254.000000   \n",
       "\n",
       "           pixel776     pixel777      pixel778      pixel779  pixel780  \\\n",
       "count  42000.000000  42000.00000  42000.000000  42000.000000   42000.0   \n",
       "mean       0.059024      0.02019      0.017238      0.002857       0.0   \n",
       "std        3.274488      1.75987      1.894498      0.414264       0.0   \n",
       "min        0.000000      0.00000      0.000000      0.000000       0.0   \n",
       "25%        0.000000      0.00000      0.000000      0.000000       0.0   \n",
       "50%        0.000000      0.00000      0.000000      0.000000       0.0   \n",
       "75%        0.000000      0.00000      0.000000      0.000000       0.0   \n",
       "max      253.000000    253.00000    254.000000     62.000000       0.0   \n",
       "\n",
       "       pixel781  pixel782  pixel783  \n",
       "count   42000.0   42000.0   42000.0  \n",
       "mean        0.0       0.0       0.0  \n",
       "std         0.0       0.0       0.0  \n",
       "min         0.0       0.0       0.0  \n",
       "25%         0.0       0.0       0.0  \n",
       "50%         0.0       0.0       0.0  \n",
       "75%         0.0       0.0       0.0  \n",
       "max         0.0       0.0       0.0  \n",
       "\n",
       "[8 rows x 785 columns]"
      ],
      "text/html": "<div>\n<style scoped>\n    .dataframe tbody tr th:only-of-type {\n        vertical-align: middle;\n    }\n\n    .dataframe tbody tr th {\n        vertical-align: top;\n    }\n\n    .dataframe thead th {\n        text-align: right;\n    }\n</style>\n<table border=\"1\" class=\"dataframe\">\n  <thead>\n    <tr style=\"text-align: right;\">\n      <th></th>\n      <th>label</th>\n      <th>pixel0</th>\n      <th>pixel1</th>\n      <th>pixel2</th>\n      <th>pixel3</th>\n      <th>pixel4</th>\n      <th>pixel5</th>\n      <th>pixel6</th>\n      <th>pixel7</th>\n      <th>pixel8</th>\n      <th>...</th>\n      <th>pixel774</th>\n      <th>pixel775</th>\n      <th>pixel776</th>\n      <th>pixel777</th>\n      <th>pixel778</th>\n      <th>pixel779</th>\n      <th>pixel780</th>\n      <th>pixel781</th>\n      <th>pixel782</th>\n      <th>pixel783</th>\n    </tr>\n  </thead>\n  <tbody>\n    <tr>\n      <th>count</th>\n      <td>42000.000000</td>\n      <td>42000.0</td>\n      <td>42000.0</td>\n      <td>42000.0</td>\n      <td>42000.0</td>\n      <td>42000.0</td>\n      <td>42000.0</td>\n      <td>42000.0</td>\n      <td>42000.0</td>\n      <td>42000.0</td>\n      <td>...</td>\n      <td>42000.000000</td>\n      <td>42000.000000</td>\n      <td>42000.000000</td>\n      <td>42000.00000</td>\n      <td>42000.000000</td>\n      <td>42000.000000</td>\n      <td>42000.0</td>\n      <td>42000.0</td>\n      <td>42000.0</td>\n      <td>42000.0</td>\n    </tr>\n    <tr>\n      <th>mean</th>\n      <td>4.456643</td>\n      <td>0.0</td>\n      <td>0.0</td>\n      <td>0.0</td>\n      <td>0.0</td>\n      <td>0.0</td>\n      <td>0.0</td>\n      <td>0.0</td>\n      <td>0.0</td>\n      <td>0.0</td>\n      <td>...</td>\n      <td>0.219286</td>\n      <td>0.117095</td>\n      <td>0.059024</td>\n      <td>0.02019</td>\n      <td>0.017238</td>\n      <td>0.002857</td>\n      <td>0.0</td>\n      <td>0.0</td>\n      <td>0.0</td>\n      <td>0.0</td>\n    </tr>\n    <tr>\n      <th>std</th>\n      <td>2.887730</td>\n      <td>0.0</td>\n      <td>0.0</td>\n      <td>0.0</td>\n      <td>0.0</td>\n      <td>0.0</td>\n      <td>0.0</td>\n      <td>0.0</td>\n      <td>0.0</td>\n      <td>0.0</td>\n      <td>...</td>\n      <td>6.312890</td>\n      <td>4.633819</td>\n      <td>3.274488</td>\n      <td>1.75987</td>\n      <td>1.894498</td>\n      <td>0.414264</td>\n      <td>0.0</td>\n      <td>0.0</td>\n      <td>0.0</td>\n      <td>0.0</td>\n    </tr>\n    <tr>\n      <th>min</th>\n      <td>0.000000</td>\n      <td>0.0</td>\n      <td>0.0</td>\n      <td>0.0</td>\n      <td>0.0</td>\n      <td>0.0</td>\n      <td>0.0</td>\n      <td>0.0</td>\n      <td>0.0</td>\n      <td>0.0</td>\n      <td>...</td>\n      <td>0.000000</td>\n      <td>0.000000</td>\n      <td>0.000000</td>\n      <td>0.00000</td>\n      <td>0.000000</td>\n      <td>0.000000</td>\n      <td>0.0</td>\n      <td>0.0</td>\n      <td>0.0</td>\n      <td>0.0</td>\n    </tr>\n    <tr>\n      <th>25%</th>\n      <td>2.000000</td>\n      <td>0.0</td>\n      <td>0.0</td>\n      <td>0.0</td>\n      <td>0.0</td>\n      <td>0.0</td>\n      <td>0.0</td>\n      <td>0.0</td>\n      <td>0.0</td>\n      <td>0.0</td>\n      <td>...</td>\n      <td>0.000000</td>\n      <td>0.000000</td>\n      <td>0.000000</td>\n      <td>0.00000</td>\n      <td>0.000000</td>\n      <td>0.000000</td>\n      <td>0.0</td>\n      <td>0.0</td>\n      <td>0.0</td>\n      <td>0.0</td>\n    </tr>\n    <tr>\n      <th>50%</th>\n      <td>4.000000</td>\n      <td>0.0</td>\n      <td>0.0</td>\n      <td>0.0</td>\n      <td>0.0</td>\n      <td>0.0</td>\n      <td>0.0</td>\n      <td>0.0</td>\n      <td>0.0</td>\n      <td>0.0</td>\n      <td>...</td>\n      <td>0.000000</td>\n      <td>0.000000</td>\n      <td>0.000000</td>\n      <td>0.00000</td>\n      <td>0.000000</td>\n      <td>0.000000</td>\n      <td>0.0</td>\n      <td>0.0</td>\n      <td>0.0</td>\n      <td>0.0</td>\n    </tr>\n    <tr>\n      <th>75%</th>\n      <td>7.000000</td>\n      <td>0.0</td>\n      <td>0.0</td>\n      <td>0.0</td>\n      <td>0.0</td>\n      <td>0.0</td>\n      <td>0.0</td>\n      <td>0.0</td>\n      <td>0.0</td>\n      <td>0.0</td>\n      <td>...</td>\n      <td>0.000000</td>\n      <td>0.000000</td>\n      <td>0.000000</td>\n      <td>0.00000</td>\n      <td>0.000000</td>\n      <td>0.000000</td>\n      <td>0.0</td>\n      <td>0.0</td>\n      <td>0.0</td>\n      <td>0.0</td>\n    </tr>\n    <tr>\n      <th>max</th>\n      <td>9.000000</td>\n      <td>0.0</td>\n      <td>0.0</td>\n      <td>0.0</td>\n      <td>0.0</td>\n      <td>0.0</td>\n      <td>0.0</td>\n      <td>0.0</td>\n      <td>0.0</td>\n      <td>0.0</td>\n      <td>...</td>\n      <td>254.000000</td>\n      <td>254.000000</td>\n      <td>253.000000</td>\n      <td>253.00000</td>\n      <td>254.000000</td>\n      <td>62.000000</td>\n      <td>0.0</td>\n      <td>0.0</td>\n      <td>0.0</td>\n      <td>0.0</td>\n    </tr>\n  </tbody>\n</table>\n<p>8 rows × 785 columns</p>\n</div>"
     },
     "metadata": {},
     "execution_count": 5
    }
   ],
   "source": [
    "train.describe()"
   ]
  },
  {
   "cell_type": "code",
   "execution_count": 6,
   "metadata": {},
   "outputs": [
    {
     "output_type": "execute_result",
     "data": {
      "text/plain": [
       "((31500, 784), (10500, 784), (31500,), (10500,))"
      ]
     },
     "metadata": {},
     "execution_count": 6
    }
   ],
   "source": [
    "X_train, X_test, y_train, y_test = train_test_split(\n",
    "    train.iloc[:, 1:], train.label, stratify=train.label, test_size=0.25, random_state=2021\n",
    ")\n",
    "X_train.shape, X_test.shape, y_train.shape, y_test.shape"
   ]
  },
  {
   "cell_type": "code",
   "execution_count": 18,
   "metadata": {},
   "outputs": [],
   "source": [
    "df_test = pd.DataFrame(X_test, columns=test.columns)\n",
    "df_test['target'] = y_test\n",
    "df_test.to_csv('../static/data/mnist/mnist_test.csv', index=False)"
   ]
  },
  {
   "cell_type": "code",
   "execution_count": 7,
   "metadata": {},
   "outputs": [
    {
     "output_type": "execute_result",
     "data": {
      "text/plain": [
       "MinMaxScaler()"
      ]
     },
     "metadata": {},
     "execution_count": 7
    }
   ],
   "source": [
    "scaler = MinMaxScaler()\n",
    "scaler.fit(X_train)"
   ]
  },
  {
   "cell_type": "code",
   "execution_count": 8,
   "metadata": {},
   "outputs": [
    {
     "output_type": "execute_result",
     "data": {
      "text/plain": [
       "((31500, 784), (10500, 784))"
      ]
     },
     "metadata": {},
     "execution_count": 8
    }
   ],
   "source": [
    "X_train_scaled = scaler.transform(X_train)\n",
    "X_test_scaled = scaler.transform(X_test)\n",
    "X_train_scaled.shape, X_test_scaled.shape"
   ]
  },
  {
   "cell_type": "code",
   "execution_count": 9,
   "metadata": {},
   "outputs": [
    {
     "output_type": "execute_result",
     "data": {
      "text/plain": [
       "['../static/model/mnist_scaler.pkl']"
      ]
     },
     "metadata": {},
     "execution_count": 9
    }
   ],
   "source": [
    "joblib.dump(scaler, '../static/model/mnist_scaler.pkl')"
   ]
  },
  {
   "cell_type": "code",
   "execution_count": 10,
   "metadata": {},
   "outputs": [
    {
     "output_type": "execute_result",
     "data": {
      "text/plain": [
       "{'C': 1.0,\n",
       " 'break_ties': False,\n",
       " 'cache_size': 200,\n",
       " 'class_weight': None,\n",
       " 'coef0': 0.0,\n",
       " 'decision_function_shape': 'ovr',\n",
       " 'degree': 3,\n",
       " 'gamma': 'scale',\n",
       " 'kernel': 'rbf',\n",
       " 'max_iter': -1,\n",
       " 'probability': False,\n",
       " 'random_state': None,\n",
       " 'shrinking': True,\n",
       " 'tol': 0.001,\n",
       " 'verbose': False}"
      ]
     },
     "metadata": {},
     "execution_count": 10
    }
   ],
   "source": [
    "sv_clf = SVC()\n",
    "sv_clf.get_params()"
   ]
  },
  {
   "cell_type": "code",
   "execution_count": 11,
   "metadata": {},
   "outputs": [],
   "source": [
    "params = {\n",
    "    #'C': [0.1, 1, 10]\n",
    "    'C': [5, 10, 20]\n",
    "}"
   ]
  },
  {
   "cell_type": "code",
   "execution_count": 12,
   "metadata": {},
   "outputs": [
    {
     "output_type": "stream",
     "name": "stdout",
     "text": [
      "Fitting 5 folds for each of 3 candidates, totalling 15 fits\n",
      "[Parallel(n_jobs=-1)]: Using backend LokyBackend with 4 concurrent workers.\n",
      "[Parallel(n_jobs=-1)]: Done  15 out of  15 | elapsed: 13.8min finished\n",
      "최고 평균 정확도: 0.9789\n",
      "최적 파라미터: {'C': 10}\n"
     ]
    }
   ],
   "source": [
    "grid_cv = GridSearchCV(sv_clf, param_grid=params, scoring='accuracy', cv=5, \n",
    "                       verbose=1, n_jobs=-1)\n",
    "grid_cv.fit(X_train_scaled, y_train)\n",
    "print(f'최고 평균 정확도: {grid_cv.best_score_:.4f}')\n",
    "print('최적 파라미터:', grid_cv.best_params_)"
   ]
  },
  {
   "cell_type": "code",
   "execution_count": 13,
   "metadata": {},
   "outputs": [
    {
     "output_type": "execute_result",
     "data": {
      "text/plain": [
       "0.9767619047619047"
      ]
     },
     "metadata": {},
     "execution_count": 13
    }
   ],
   "source": [
    "best_sv = grid_cv.best_estimator_\n",
    "pred = best_sv.predict(X_test_scaled)\n",
    "accuracy_score(y_test, pred)"
   ]
  },
  {
   "source": [
    "joblib.dump(best_sv, '../static/model/mnist_sv.pkl')"
   ],
   "cell_type": "code",
   "metadata": {},
   "execution_count": 14,
   "outputs": [
    {
     "output_type": "execute_result",
     "data": {
      "text/plain": [
       "['../static/model/mnist_sv.pkl']"
      ]
     },
     "metadata": {},
     "execution_count": 14
    }
   ]
  },
  {
   "source": [
    "### Test"
   ],
   "cell_type": "markdown",
   "metadata": {}
  },
  {
   "cell_type": "code",
   "execution_count": 8,
   "metadata": {},
   "outputs": [],
   "source": [
    "scaler = joblib.load('../static/model/mnist_scaler.pkl')\n",
    "best_sv = joblib.load('../static/model/mnist_sv.pkl')"
   ]
  },
  {
   "cell_type": "code",
   "execution_count": 31,
   "metadata": {},
   "outputs": [
    {
     "output_type": "execute_result",
     "data": {
      "text/plain": [
       "(3, 784)"
      ]
     },
     "metadata": {},
     "execution_count": 31
    }
   ],
   "source": [
    "index = 900\n",
    "test_data = X_test.iloc[index:index+3, :].values\n",
    "test_data.shape"
   ]
  },
  {
   "cell_type": "code",
   "execution_count": 32,
   "metadata": {},
   "outputs": [],
   "source": [
    "test_scaled = scaler.transform(test_data)"
   ]
  },
  {
   "cell_type": "code",
   "execution_count": 26,
   "metadata": {},
   "outputs": [
    {
     "output_type": "execute_result",
     "data": {
      "text/plain": [
       "26912    3\n",
       "20086    3\n",
       "36337    0\n",
       "Name: label, dtype: int64"
      ]
     },
     "metadata": {},
     "execution_count": 26
    }
   ],
   "source": [
    "label_list = y_test[index:index+3]\n",
    "label_list"
   ]
  },
  {
   "cell_type": "code",
   "execution_count": 27,
   "metadata": {},
   "outputs": [
    {
     "output_type": "execute_result",
     "data": {
      "text/plain": [
       "array([3, 3, 0], dtype=int64)"
      ]
     },
     "metadata": {},
     "execution_count": 27
    }
   ],
   "source": [
    "pred_sv = best_sv.predict(test_scaled)\n",
    "pred_sv"
   ]
  },
  {
   "source": [
    "- 시각화하기"
   ],
   "cell_type": "markdown",
   "metadata": {}
  },
  {
   "cell_type": "code",
   "execution_count": 34,
   "metadata": {},
   "outputs": [
    {
     "output_type": "display_data",
     "data": {
      "text/plain": "<Figure size 288x288 with 1 Axes>",
      "image/svg+xml": "<?xml version=\"1.0\" encoding=\"utf-8\" standalone=\"no\"?>\r\n<!DOCTYPE svg PUBLIC \"-//W3C//DTD SVG 1.1//EN\"\r\n  \"http://www.w3.org/Graphics/SVG/1.1/DTD/svg11.dtd\">\r\n<!-- Created with matplotlib (https://matplotlib.org/) -->\r\n<svg height=\"235.34pt\" version=\"1.1\" viewBox=\"0 0 235.34 235.34\" width=\"235.34pt\" xmlns=\"http://www.w3.org/2000/svg\" xmlns:xlink=\"http://www.w3.org/1999/xlink\">\r\n <defs>\r\n  <style type=\"text/css\">\r\n*{stroke-linecap:butt;stroke-linejoin:round;}\r\n  </style>\r\n </defs>\r\n <g id=\"figure_1\">\r\n  <g id=\"patch_1\">\r\n   <path d=\"M 0 235.34 \r\nL 235.34 235.34 \r\nL 235.34 0 \r\nL 0 0 \r\nz\r\n\" style=\"fill:none;\"/>\r\n  </g>\r\n  <g id=\"axes_1\">\r\n   <g id=\"patch_2\">\r\n    <path d=\"M 10.7 224.64 \r\nL 228.14 224.64 \r\nL 228.14 7.2 \r\nL 10.7 7.2 \r\nz\r\n\" style=\"fill:#ffffff;\"/>\r\n   </g>\r\n   <g clip-path=\"url(#pf9b0ccd613)\">\r\n    <image height=\"218\" id=\"imageda74ac939c\" transform=\"scale(1 -1)translate(0 -218)\" width=\"218\" x=\"10.7\" xlink:href=\"data:image/png;base64,\r\niVBORw0KGgoAAAANSUhEUgAAANoAAADaCAYAAADAHVzbAAAABHNCSVQICAgIfAhkiAAABOVJREFUeJzt3bFL1H8cx3H94aFcaxEJkjSFa+1uEjnp4tI/4BC5BDWE2BhIEP4PkUNRrQ6Kk9giQVOlLf0HTUrXP/D7vg/07nXn+XisL77HF+HJB/xwOt7pdDpjQF/9N+gXgKtAaBAgNAgQGgQIDQKEBgFCg4CJQb/AqNre3m7cVlZWymeXlpbK/f379+d6JwbHiQYBQoMAoUGA0CBAaBAgNAgQGgS4R+uT4+Pjcz/79evXHr4Jw8CJBgFCgwChQYDQIEBoECA0CPDr/T45Ojo697MPHz7s4ZswDJxoECA0CBAaBAgNAoQGAUKDAKFBgNAgQGgQIDQIEBoECA0ChAYBQoMAoUGA76P1ycLCQuP29u3b8ll/bm70ONEgQGgQIDQIEBoECA0ChAYBQoMA92h90m63z/3s9+/fe/gmDAMnGgQIDQKEBgFCgwChQYDQIEBoEDDe6XQ6g36JUXR8fNy43blz50Kf/eXLl3K/d+/ehT6f3nOiQYDQIEBoECA0CBAaBAgNAnxNpk9mZmYat1arVT57enpa7m5kLh8nGgQIDQKEBgFCgwChQYDQIEBoEOAerU8mJpp/tA8ePCif/fz5c7nv7++X+/3798udPCcaBAgNAoQGAUKDAKFBgNAgQGgQ4B5tAObn58u92z3ayclJD9+GBCcaBAgNAoQGAUKDAKFBgNAgQGgQ4N82DcCHDx/KfXl5udyvX79e7t++fSv3GzdulDu950SDAKFBgNAgQGgQIDQIEBoE+PX+APz9+7fcl5aWyv3Tp0/l/vr163JfW1srd3rPiQYBQoMAoUGA0CBAaBAgNAgQGgS4RxtCb968KfcnT56U+61bt8p9Z2encZubmyuf5XycaBAgNAgQGgQIDQKEBgFCgwChQYB7tCH058+fcl9cXCz3vb29cl9YWGjcPn78WD47NTVV7vw/JxoECA0ChAYBQoMAoUGA0CBAaBDgHu0SevfuXbk/evSo3M/Ozhq358+fl8+ur6+X++TkZLlfVU40CBAaBAgNAoQGAUKDAKFBgNAgwD3aCHr27Fm5b25uNm7VHdvY2NjYixcvyv3ly5flflU50SBAaBAgNAgQGgQIDQKEBgF+vX8FPX78uHHb2toqnx0fHy/3V69elfvq6mrjdu3atfLZy8yJBgFCgwChQYDQIEBoECA0CBAaBEwM+gUG5ejoqNwPDg7K/cePH718najqLqzVapXPnp6elvvTp0/LfXd3t3Hr9mf0LvM9mxMNAoQGAUKDAKFBgNAgQGgQIDQIGNnvo/38+bPc7969W+7d7ovovcXFxXLf3t4u93a73cvX6SknGgQIDQKEBgFCgwChQYDQIEBoEDCy30ebnZ0t942NjXI/PDws95s3b5b77du3G7fp6eny2W66Pf/79+8Lff5FPvvXr1/lXt2FdfsuXLd/KTXMnGgQIDQIEBoECA0ChAYBQoMAoUHAyH4fDYaJEw0ChAYBQoMAoUGA0CBAaBAgNAgQGgQIDQKEBgFCgwChQYDQIEBoECA0CBAaBAgNAoQGAUKDAKFBgNAgQGgQIDQIEBoECA0ChAYBQoMAoUGA0CBAaBAgNAgQGgQIDQKEBgFCgwChQYDQIEBoECA0CBAaBAgNAoQGAUKDAKFBgNAgQGgQIDQIEBoECA0ChAYBQoMAoUGA0CDgHwBEvUSfDl/UAAAAAElFTkSuQmCC\" y=\"-6.64\"/>\r\n   </g>\r\n   <g id=\"matplotlib.axis_1\"/>\r\n   <g id=\"matplotlib.axis_2\"/>\r\n   <g id=\"patch_3\">\r\n    <path d=\"M 10.7 224.64 \r\nL 10.7 7.2 \r\n\" style=\"fill:none;stroke:#000000;stroke-linecap:square;stroke-linejoin:miter;stroke-width:0.8;\"/>\r\n   </g>\r\n   <g id=\"patch_4\">\r\n    <path d=\"M 228.14 224.64 \r\nL 228.14 7.2 \r\n\" style=\"fill:none;stroke:#000000;stroke-linecap:square;stroke-linejoin:miter;stroke-width:0.8;\"/>\r\n   </g>\r\n   <g id=\"patch_5\">\r\n    <path d=\"M 10.7 224.64 \r\nL 228.14 224.64 \r\n\" style=\"fill:none;stroke:#000000;stroke-linecap:square;stroke-linejoin:miter;stroke-width:0.8;\"/>\r\n   </g>\r\n   <g id=\"patch_6\">\r\n    <path d=\"M 10.7 7.2 \r\nL 228.14 7.2 \r\n\" style=\"fill:none;stroke:#000000;stroke-linecap:square;stroke-linejoin:miter;stroke-width:0.8;\"/>\r\n   </g>\r\n  </g>\r\n </g>\r\n <defs>\r\n  <clipPath id=\"pf9b0ccd613\">\r\n   <rect height=\"217.44\" width=\"217.44\" x=\"10.7\" y=\"7.2\"/>\r\n  </clipPath>\r\n </defs>\r\n</svg>\r\n",
      "image/png": "[encoded data removed]"
     },
     "metadata": {}
    },
    {
     "output_type": "display_data",
     "data": {
      "text/plain": "<Figure size 288x288 with 1 Axes>",
      "image/svg+xml": "<?xml version=\"1.0\" encoding=\"utf-8\" standalone=\"no\"?>\r\n<!DOCTYPE svg PUBLIC \"-//W3C//DTD SVG 1.1//EN\"\r\n  \"http://www.w3.org/Graphics/SVG/1.1/DTD/svg11.dtd\">\r\n<!-- Created with matplotlib (https://matplotlib.org/) -->\r\n<svg height=\"235.34pt\" version=\"1.1\" viewBox=\"0 0 235.34 235.34\" width=\"235.34pt\" xmlns=\"http://www.w3.org/2000/svg\" xmlns:xlink=\"http://www.w3.org/1999/xlink\">\r\n <defs>\r\n  <style type=\"text/css\">\r\n*{stroke-linecap:butt;stroke-linejoin:round;}\r\n  </style>\r\n </defs>\r\n <g id=\"figure_1\">\r\n  <g id=\"patch_1\">\r\n   <path d=\"M 0 235.34 \r\nL 235.34 235.34 \r\nL 235.34 0 \r\nL 0 0 \r\nz\r\n\" style=\"fill:none;\"/>\r\n  </g>\r\n  <g id=\"axes_1\">\r\n   <g id=\"patch_2\">\r\n    <path d=\"M 10.7 224.64 \r\nL 228.14 224.64 \r\nL 228.14 7.2 \r\nL 10.7 7.2 \r\nz\r\n\" style=\"fill:#ffffff;\"/>\r\n   </g>\r\n   <g clip-path=\"url(#p833cfa4611)\">\r\n    <image height=\"218\" id=\"image56f63539db\" transform=\"scale(1 -1)translate(0 -218)\" width=\"218\" x=\"10.7\" xlink:href=\"data:image/png;base64,\r\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\" y=\"-6.64\"/>\r\n   </g>\r\n   <g id=\"matplotlib.axis_1\"/>\r\n   <g id=\"matplotlib.axis_2\"/>\r\n   <g id=\"patch_3\">\r\n    <path d=\"M 10.7 224.64 \r\nL 10.7 7.2 \r\n\" style=\"fill:none;stroke:#000000;stroke-linecap:square;stroke-linejoin:miter;stroke-width:0.8;\"/>\r\n   </g>\r\n   <g id=\"patch_4\">\r\n    <path d=\"M 228.14 224.64 \r\nL 228.14 7.2 \r\n\" style=\"fill:none;stroke:#000000;stroke-linecap:square;stroke-linejoin:miter;stroke-width:0.8;\"/>\r\n   </g>\r\n   <g id=\"patch_5\">\r\n    <path d=\"M 10.7 224.64 \r\nL 228.14 224.64 \r\n\" style=\"fill:none;stroke:#000000;stroke-linecap:square;stroke-linejoin:miter;stroke-width:0.8;\"/>\r\n   </g>\r\n   <g id=\"patch_6\">\r\n    <path d=\"M 10.7 7.2 \r\nL 228.14 7.2 \r\n\" style=\"fill:none;stroke:#000000;stroke-linecap:square;stroke-linejoin:miter;stroke-width:0.8;\"/>\r\n   </g>\r\n  </g>\r\n </g>\r\n <defs>\r\n  <clipPath id=\"p833cfa4611\">\r\n   <rect height=\"217.44\" width=\"217.44\" x=\"10.7\" y=\"7.2\"/>\r\n  </clipPath>\r\n </defs>\r\n</svg>\r\n",
      "image/png": "[encoded data removed]"
     },
     "metadata": {}
    },
    {
     "output_type": "display_data",
     "data": {
      "text/plain": "<Figure size 288x288 with 1 Axes>",
      "image/svg+xml": "<?xml version=\"1.0\" encoding=\"utf-8\" standalone=\"no\"?>\r\n<!DOCTYPE svg PUBLIC \"-//W3C//DTD SVG 1.1//EN\"\r\n  \"http://www.w3.org/Graphics/SVG/1.1/DTD/svg11.dtd\">\r\n<!-- Created with matplotlib (https://matplotlib.org/) -->\r\n<svg height=\"235.34pt\" version=\"1.1\" viewBox=\"0 0 235.34 235.34\" width=\"235.34pt\" xmlns=\"http://www.w3.org/2000/svg\" xmlns:xlink=\"http://www.w3.org/1999/xlink\">\r\n <defs>\r\n  <style type=\"text/css\">\r\n*{stroke-linecap:butt;stroke-linejoin:round;}\r\n  </style>\r\n </defs>\r\n <g id=\"figure_1\">\r\n  <g id=\"patch_1\">\r\n   <path d=\"M 0 235.34 \r\nL 235.34 235.34 \r\nL 235.34 0 \r\nL 0 0 \r\nz\r\n\" style=\"fill:none;\"/>\r\n  </g>\r\n  <g id=\"axes_1\">\r\n   <g id=\"patch_2\">\r\n    <path d=\"M 10.7 224.64 \r\nL 228.14 224.64 \r\nL 228.14 7.2 \r\nL 10.7 7.2 \r\nz\r\n\" style=\"fill:#ffffff;\"/>\r\n   </g>\r\n   <g clip-path=\"url(#p2f30823b93)\">\r\n    <image height=\"218\" id=\"image4959f58ef6\" transform=\"scale(1 -1)translate(0 -218)\" width=\"218\" x=\"10.7\" xlink:href=\"data:image/png;base64,\r\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\" y=\"-6.64\"/>\r\n   </g>\r\n   <g id=\"matplotlib.axis_1\"/>\r\n   <g id=\"matplotlib.axis_2\"/>\r\n   <g id=\"patch_3\">\r\n    <path d=\"M 10.7 224.64 \r\nL 10.7 7.2 \r\n\" style=\"fill:none;stroke:#000000;stroke-linecap:square;stroke-linejoin:miter;stroke-width:0.8;\"/>\r\n   </g>\r\n   <g id=\"patch_4\">\r\n    <path d=\"M 228.14 224.64 \r\nL 228.14 7.2 \r\n\" style=\"fill:none;stroke:#000000;stroke-linecap:square;stroke-linejoin:miter;stroke-width:0.8;\"/>\r\n   </g>\r\n   <g id=\"patch_5\">\r\n    <path d=\"M 10.7 224.64 \r\nL 228.14 224.64 \r\n\" style=\"fill:none;stroke:#000000;stroke-linecap:square;stroke-linejoin:miter;stroke-width:0.8;\"/>\r\n   </g>\r\n   <g id=\"patch_6\">\r\n    <path d=\"M 10.7 7.2 \r\nL 228.14 7.2 \r\n\" style=\"fill:none;stroke:#000000;stroke-linecap:square;stroke-linejoin:miter;stroke-width:0.8;\"/>\r\n   </g>\r\n  </g>\r\n </g>\r\n <defs>\r\n  <clipPath id=\"p2f30823b93\">\r\n   <rect height=\"217.44\" width=\"217.44\" x=\"10.7\" y=\"7.2\"/>\r\n  </clipPath>\r\n </defs>\r\n</svg>\r\n",
      "image/png": "[encoded data removed]"
     },
     "metadata": {}
    }
   ],
   "source": [
    "for i in range(3):\n",
    "    digit = test_data[i].reshape(28,28)\n",
    "    plt.figure(figsize=(4,4))\n",
    "    plt.xticks([]); plt.yticks([])\n",
    "    plt.imshow(digit, cmap=plt.cm.binary, interpolation='nearest')"
   ]
  },
  {
   "cell_type": "code",
   "execution_count": 33,
   "metadata": {},
   "outputs": [
    {
     "output_type": "display_data",
     "data": {
      "text/plain": "<Figure size 288x288 with 1 Axes>",
      "image/svg+xml": "<?xml version=\"1.0\" encoding=\"utf-8\" standalone=\"no\"?>\r\n<!DOCTYPE svg PUBLIC \"-//W3C//DTD SVG 1.1//EN\"\r\n  \"http://www.w3.org/Graphics/SVG/1.1/DTD/svg11.dtd\">\r\n<!-- Created with matplotlib (https://matplotlib.org/) -->\r\n<svg height=\"235.34pt\" version=\"1.1\" viewBox=\"0 0 235.34 235.34\" width=\"235.34pt\" xmlns=\"http://www.w3.org/2000/svg\" xmlns:xlink=\"http://www.w3.org/1999/xlink\">\r\n <defs>\r\n  <style type=\"text/css\">\r\n*{stroke-linecap:butt;stroke-linejoin:round;}\r\n  </style>\r\n </defs>\r\n <g id=\"figure_1\">\r\n  <g id=\"patch_1\">\r\n   <path d=\"M 0 235.34 \r\nL 235.34 235.34 \r\nL 235.34 0 \r\nL 0 0 \r\nz\r\n\" style=\"fill:none;\"/>\r\n  </g>\r\n  <g id=\"axes_1\">\r\n   <g id=\"patch_2\">\r\n    <path d=\"M 10.7 224.64 \r\nL 228.14 224.64 \r\nL 228.14 7.2 \r\nL 10.7 7.2 \r\nz\r\n\" style=\"fill:#ffffff;\"/>\r\n   </g>\r\n   <g clip-path=\"url(#p0bc81476ce)\">\r\n    <image height=\"218\" id=\"image3854511a48\" transform=\"scale(1 -1)translate(0 -218)\" width=\"218\" x=\"10.7\" xlink:href=\"data:image/png;base64,\r\niVBORw0KGgoAAAANSUhEUgAAANoAAADaCAYAAADAHVzbAAAABHNCSVQICAgIfAhkiAAABOVJREFUeJzt3bFL1H8cx3H94aFcaxEJkjSFa+1uEjnp4tI/4BC5BDWE2BhIEP4PkUNRrQ6Kk9giQVOlLf0HTUrXP/D7vg/07nXn+XisL77HF+HJB/xwOt7pdDpjQF/9N+gXgKtAaBAgNAgQGgQIDQKEBgFCg4CJQb/AqNre3m7cVlZWymeXlpbK/f379+d6JwbHiQYBQoMAoUGA0CBAaBAgNAgQGgS4R+uT4+Pjcz/79evXHr4Jw8CJBgFCgwChQYDQIEBoECA0CPDr/T45Ojo697MPHz7s4ZswDJxoECA0CBAaBAgNAoQGAUKDAKFBgNAgQGgQIDQIEBoECA0ChAYBQoMAoUGA76P1ycLCQuP29u3b8ll/bm70ONEgQGgQIDQIEBoECA0ChAYBQoMA92h90m63z/3s9+/fe/gmDAMnGgQIDQKEBgFCgwChQYDQIEBoEDDe6XQ6g36JUXR8fNy43blz50Kf/eXLl3K/d+/ehT6f3nOiQYDQIEBoECA0CBAaBAgNAnxNpk9mZmYat1arVT57enpa7m5kLh8nGgQIDQKEBgFCgwChQYDQIEBoEOAerU8mJpp/tA8ePCif/fz5c7nv7++X+/3798udPCcaBAgNAoQGAUKDAKFBgNAgQGgQ4B5tAObn58u92z3ayclJD9+GBCcaBAgNAoQGAUKDAKFBgNAgQGgQ4N82DcCHDx/KfXl5udyvX79e7t++fSv3GzdulDu950SDAKFBgNAgQGgQIDQIEBoE+PX+APz9+7fcl5aWyv3Tp0/l/vr163JfW1srd3rPiQYBQoMAoUGA0CBAaBAgNAgQGgS4RxtCb968KfcnT56U+61bt8p9Z2encZubmyuf5XycaBAgNAgQGgQIDQKEBgFCgwChQYB7tCH058+fcl9cXCz3vb29cl9YWGjcPn78WD47NTVV7vw/JxoECA0ChAYBQoMAoUGA0CBAaBDgHu0SevfuXbk/evSo3M/Ozhq358+fl8+ur6+X++TkZLlfVU40CBAaBAgNAoQGAUKDAKFBgNAgwD3aCHr27Fm5b25uNm7VHdvY2NjYixcvyv3ly5flflU50SBAaBAgNAgQGgQIDQKEBgF+vX8FPX78uHHb2toqnx0fHy/3V69elfvq6mrjdu3atfLZy8yJBgFCgwChQYDQIEBoECA0CBAaBEwM+gUG5ejoqNwPDg7K/cePH718najqLqzVapXPnp6elvvTp0/LfXd3t3Hr9mf0LvM9mxMNAoQGAUKDAKFBgNAgQGgQIDQIGNnvo/38+bPc7969W+7d7ovovcXFxXLf3t4u93a73cvX6SknGgQIDQKEBgFCgwChQYDQIEBoEDCy30ebnZ0t942NjXI/PDws95s3b5b77du3G7fp6eny2W66Pf/79+8Lff5FPvvXr1/lXt2FdfsuXLd/KTXMnGgQIDQIEBoECA0ChAYBQoMAoUHAyH4fDYaJEw0ChAYBQoMAoUGA0CBAaBAgNAgQGgQIDQKEBgFCgwChQYDQIEBoECA0CBAaBAgNAoQGAUKDAKFBgNAgQGgQIDQIEBoECA0ChAYBQoMAoUGA0CBAaBAgNAgQGgQIDQKEBgFCgwChQYDQIEBoECA0CBAaBAgNAoQGAUKDAKFBgNAgQGgQIDQIEBoECA0ChAYBQoMAoUGA0CDgHwBEvUSfDl/UAAAAAElFTkSuQmCC\" y=\"-6.64\"/>\r\n   </g>\r\n   <g id=\"matplotlib.axis_1\"/>\r\n   <g id=\"matplotlib.axis_2\"/>\r\n   <g id=\"patch_3\">\r\n    <path d=\"M 10.7 224.64 \r\nL 10.7 7.2 \r\n\" style=\"fill:none;stroke:#000000;stroke-linecap:square;stroke-linejoin:miter;stroke-width:0.8;\"/>\r\n   </g>\r\n   <g id=\"patch_4\">\r\n    <path d=\"M 228.14 224.64 \r\nL 228.14 7.2 \r\n\" style=\"fill:none;stroke:#000000;stroke-linecap:square;stroke-linejoin:miter;stroke-width:0.8;\"/>\r\n   </g>\r\n   <g id=\"patch_5\">\r\n    <path d=\"M 10.7 224.64 \r\nL 228.14 224.64 \r\n\" style=\"fill:none;stroke:#000000;stroke-linecap:square;stroke-linejoin:miter;stroke-width:0.8;\"/>\r\n   </g>\r\n   <g id=\"patch_6\">\r\n    <path d=\"M 10.7 7.2 \r\nL 228.14 7.2 \r\n\" style=\"fill:none;stroke:#000000;stroke-linecap:square;stroke-linejoin:miter;stroke-width:0.8;\"/>\r\n   </g>\r\n  </g>\r\n </g>\r\n <defs>\r\n  <clipPath id=\"p0bc81476ce\">\r\n   <rect height=\"217.44\" width=\"217.44\" x=\"10.7\" y=\"7.2\"/>\r\n  </clipPath>\r\n </defs>\r\n</svg>\r\n",
      "image/png": "[encoded data removed]"
     },
     "metadata": {}
    }
   ],
   "source": [
    "plt.figure(figsize=(4,4))\n",
    "plt.xticks([]); plt.yticks([])\n",
    "plt.imshow(test_data[0].reshape(28,28), cmap=plt.cm.binary, interpolation='nearest')\n",
    "plt.show()"
   ]
  },
  {
   "cell_type": "code",
   "execution_count": 36,
   "metadata": {},
   "outputs": [
    {
     "output_type": "display_data",
     "data": {
      "text/plain": "<Figure size 864x288 with 3 Axes>",
      "image/svg+xml": "<?xml version=\"1.0\" encoding=\"utf-8\" standalone=\"no\"?>\r\n<!DOCTYPE svg PUBLIC \"-//W3C//DTD SVG 1.1//EN\"\r\n  \"http://www.w3.org/Graphics/SVG/1.1/DTD/svg11.dtd\">\r\n<!-- Created with matplotlib (https://matplotlib.org/) -->\r\n<svg height=\"226.092771pt\" version=\"1.1\" viewBox=\"0 0 663.29759 226.092771\" width=\"663.29759pt\" xmlns=\"http://www.w3.org/2000/svg\" xmlns:xlink=\"http://www.w3.org/1999/xlink\">\r\n <defs>\r\n  <style type=\"text/css\">\r\n*{stroke-linecap:butt;stroke-linejoin:round;}\r\n  </style>\r\n </defs>\r\n <g id=\"figure_1\">\r\n  <g id=\"patch_1\">\r\n   <path d=\"M 0 226.092771 \r\nL 663.29759 226.092771 \r\nL 663.29759 0 \r\nL 0 0 \r\nz\r\n\" style=\"fill:none;\"/>\r\n  </g>\r\n  <g id=\"axes_1\">\r\n   <g id=\"patch_2\">\r\n    <path d=\"M 10.7 215.392771 \r\nL 218.892771 215.392771 \r\nL 218.892771 7.2 \r\nL 10.7 7.2 \r\nz\r\n\" style=\"fill:#ffffff;\"/>\r\n   </g>\r\n   <g clip-path=\"url(#pa05a760666)\">\r\n    <image height=\"209\" id=\"imageb0b6f427a1\" transform=\"scale(1 -1)translate(0 -209)\" width=\"209\" x=\"10.7\" xlink:href=\"data:image/png;base64,\r\niVBORw0KGgoAAAANSUhEUgAAANEAAADRCAYAAABSOlfvAAAABHNCSVQICAgIfAhkiAAABLlJREFUeJzt3b9LlW0cx/HHB6XQVZGCMJzE1fa2g9hkS4v/QEPoEuggkqMQgfg/SGcosrWhaIpcRHDy5+J/0GR4Gp/pus7D+dwef/R6rV+umwvhzQXXze0Z6HQ6nX+Anv173RuA205EEBIRhEQEIRFBSEQQGrzuDdwV7Xa7On/x4kVxNj8/X5x9+PCh5z3RH04iCIkIQiKCkIggJCIIiQhCIoKQ90QNOTk56Xnt/v5+gzuh35xEEBIRhEQEIRFBSEQQEhGEXHE3ZG9vr+e1c3NzDe6EfnMSQUhEEBIRhEQEIRFBSEQQEhGERAQhEUFIRBASEYREBCERQUhEEPIpRENarVZ1vr29XZz5bz+3m5MIQiKCkIggJCIIiQhCIoKQiCDkPVFDhoeHe157eHjY4E7oNycRhEQEIRFBSEQQEhGERAShgU6n07nuTdwF3X74eHJysqfn7u7uVuczMzM9PZfmOIkgJCIIiQhCIoKQiCAkIgiJCEI+hWjIo0ePqvOhoaHi7OLiojjzGu/mcxJBSEQQEhGERAQhEUFIRBByxd2QwcH6n3J2drY4+/z5c3H2/fv36nOfPHlS3xhXzkkEIRFBSEQQEhGERAQhEUFIRBDynqhPnj59WpzV3hOdnp5ewW5okpMIQiKCkIggJCIIiQhCIoKQX4Xok48fPxZnz58/L85GR0erzz04OCjOxsbGum+MmJMIQiKCkIggJCIIiQhCIoKQiCDkPVGfXF5eFmfz8/PF2c7OTvW57969K86Wlpa6b4yYkwhCIoKQiCAkIgiJCEIigpAr7htgc3OzOFtcXKyuffDgQXH25cuX6trp6en6xvhfnEQQEhGERAQhEUFIRBASEYREBCHviW6AX79+FWfPnj2rrv327Vtx1mq1qms/ffpUnN2/f7+6lv84iSAkIgiJCEIigpCIICQiCLnivuHev39fnS8sLBRnv3//rq5dWVkpztbW1qpr7927V53/TZxEEBIRhEQEIRFBSEQQEhGEXHHfcsvLy8XZ27dvq2trV+Crq6vVtevr6/WN/UWcRBASEYREBCERQUhEEBIRhEQEIe+J7rBXr15V51tbW8XZwMBAde3GxkZx9vLly+rakZGR6vy2cRJBSEQQEhGERAQhEUFIRBAavO4N9Nve3l5x9uPHj+rao6OjprdzpbpdUw8NDRVnFxcX1bWvX78uzr5+/VpdW/sPRrfx+ttJBCERQUhEEBIRhEQEIRFBSEQQunOfQhwfH1fnU1NTxVm3dyM0o/Zjzu12u7p2eHi46e3EnEQQEhGERAQhEUFIRBASEYTu3KcQjx8/rs7fvHlTnP38+bO6dnx8vDibmJiorn348GF13uu68/Pznp7bTbfnnp2dFWfdrqlrn2B0+7Hmm8hJBCERQUhEEBIRhEQEIRFBSEQQunOfQkC/OYkgJCIIiQhCIoKQiCAkIgiJCEIigpCIICQiCIkIQiKCkIggJCIIiQhCIoKQiCAkIgiJCEIigpCIICQiCIkIQiKCkIggJCIIiQhCIoKQiCAkIgiJCEIigpCIICQiCIkIQiKCkIggJCIIiQhCIoKQiCAkIgiJCEIigpCIICQiCIkIQiKCkIggJCIIiQhCfwCBtL0yg2nb1QAAAABJRU5ErkJggg==\" y=\"-6.392771\"/>\r\n   </g>\r\n   <g id=\"matplotlib.axis_1\"/>\r\n   <g id=\"matplotlib.axis_2\"/>\r\n   <g id=\"patch_3\">\r\n    <path d=\"M 10.7 215.392771 \r\nL 10.7 7.2 \r\n\" style=\"fill:none;stroke:#000000;stroke-linecap:square;stroke-linejoin:miter;stroke-width:0.8;\"/>\r\n   </g>\r\n   <g id=\"patch_4\">\r\n    <path d=\"M 218.892771 215.392771 \r\nL 218.892771 7.2 \r\n\" style=\"fill:none;stroke:#000000;stroke-linecap:square;stroke-linejoin:miter;stroke-width:0.8;\"/>\r\n   </g>\r\n   <g id=\"patch_5\">\r\n    <path d=\"M 10.7 215.392771 \r\nL 218.892771 215.392771 \r\n\" style=\"fill:none;stroke:#000000;stroke-linecap:square;stroke-linejoin:miter;stroke-width:0.8;\"/>\r\n   </g>\r\n   <g id=\"patch_6\">\r\n    <path d=\"M 10.7 7.2 \r\nL 218.892771 7.2 \r\n\" style=\"fill:none;stroke:#000000;stroke-linecap:square;stroke-linejoin:miter;stroke-width:0.8;\"/>\r\n   </g>\r\n  </g>\r\n  <g id=\"axes_2\">\r\n   <g id=\"patch_7\">\r\n    <path d=\"M 229.30241 215.392771 \r\nL 437.495181 215.392771 \r\nL 437.495181 7.2 \r\nL 229.30241 7.2 \r\nz\r\n\" style=\"fill:#ffffff;\"/>\r\n   </g>\r\n   <g clip-path=\"url(#pbe7d11010b)\">\r\n    <image height=\"209\" id=\"imagec7585bb44a\" transform=\"scale(1 -1)translate(0 -209)\" width=\"209\" x=\"229.30241\" xlink:href=\"data:image/png;base64,\r\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\" y=\"-6.392771\"/>\r\n   </g>\r\n   <g id=\"matplotlib.axis_3\"/>\r\n   <g id=\"matplotlib.axis_4\"/>\r\n   <g id=\"patch_8\">\r\n    <path d=\"M 229.30241 215.392771 \r\nL 229.30241 7.2 \r\n\" style=\"fill:none;stroke:#000000;stroke-linecap:square;stroke-linejoin:miter;stroke-width:0.8;\"/>\r\n   </g>\r\n   <g id=\"patch_9\">\r\n    <path d=\"M 437.495181 215.392771 \r\nL 437.495181 7.2 \r\n\" style=\"fill:none;stroke:#000000;stroke-linecap:square;stroke-linejoin:miter;stroke-width:0.8;\"/>\r\n   </g>\r\n   <g id=\"patch_10\">\r\n    <path d=\"M 229.30241 215.392771 \r\nL 437.495181 215.392771 \r\n\" style=\"fill:none;stroke:#000000;stroke-linecap:square;stroke-linejoin:miter;stroke-width:0.8;\"/>\r\n   </g>\r\n   <g id=\"patch_11\">\r\n    <path d=\"M 229.30241 7.2 \r\nL 437.495181 7.2 \r\n\" style=\"fill:none;stroke:#000000;stroke-linecap:square;stroke-linejoin:miter;stroke-width:0.8;\"/>\r\n   </g>\r\n  </g>\r\n  <g id=\"axes_3\">\r\n   <g id=\"patch_12\">\r\n    <path d=\"M 447.904819 215.392771 \r\nL 656.09759 215.392771 \r\nL 656.09759 7.2 \r\nL 447.904819 7.2 \r\nz\r\n\" style=\"fill:#ffffff;\"/>\r\n   </g>\r\n   <g clip-path=\"url(#pac82a356a7)\">\r\n    <image height=\"209\" id=\"imageaea7b81378\" transform=\"scale(1 -1)translate(0 -209)\" width=\"209\" x=\"447.904819\" xlink:href=\"data:image/png;base64,\r\niVBORw0KGgoAAAANSUhEUgAAANEAAADRCAYAAABSOlfvAAAABHNCSVQICAgIfAhkiAAABYxJREFUeJzt3U+ITm0cx+HzIDKRslCysFUsFBY2khEb0UjJShJhzwYhTdmwsWFhRVZY2NhZKaamlCJTFjQhycK/KU3Mu+Rd3PeM8+Wdmfdc1/bX78wpfdx1Ts/z9CYmJiYaoLU5030DMNuJCEIigpCIICQiCIkIQiKCkIggJCIIiQhCIoKQiCAkIgiJCELzpvsGZpLbt29X52fPni3Onj592vrvnjx5sjg7d+5cdXfOHP8PTjf/AhASEYREBCERQUhEEBIRhDr3iPvHjx/F2WSPuJ8/f16c9fX1VXfHxsaKs8HBweKs1+tVr3vmzJnibO7cudVd/gwnEYREBCERQUhEEBIRhEQEIRFBqNe1X4UYHR0tzvr7+6u7p0+fLs62b99e3d25c2dx9vjx4+JsfHy8et379+8XZ5s3b67u8mc4iSAkIgiJCEIigpCIICQiCHXuEfdMdPHixeLs+PHj1d2VK1cWZ/fu3avurlq1qn5jTImTCEIigpCIICQiCIkIQiKCkIgg5D3RDPD27dvibNeuXdXd4eHh4mxgYKC6O9lXhDE1TiIIiQhCIoKQiCAkIgiJCEKd+1WImWj58uXF2aVLl6q727ZtK86+fv1a3f327VtxtmDBguouPzmJICQiCIkIQiKCkIggJCIIiQhCPgoxy23cuLE4Gxoaqu4+efKkOFuzZk3re+oaJxGERAQhEUFIRBASEYREBCEfheiwd+/eFWcecU+dkwhCIoKQiCAkIgiJCEIigpCIIOQ9UYddu3atOOvv7/8P72R2cxJBSEQQEhGERAQhEUFIRBDyiPsXIyMj1fmXL1+Ks3Xr1v3p22GWcBJBSEQQEhGERAQhEUFIRBASEYQ6957o4cOHxdnu3buru7X3ROvXr6/uHj58uDjbt29fcfbhw4fqdT9+/FicLVu2rLp75MiR6pypcRJBSEQQEhGERAQhEUFIRBDq3A8fP3jwoDjbtGnTX/u7ixcvLs5Wr15dnH369Kl63WfPnhVnJ06cqO5euHChOmdqnEQQEhGERAQhEUFIRBASEYREBKHOfRRiw4YNxdnw8HB1986dO8VZ7X1N09Q/gvHo0aPqbltr1679K9fl35xEEBIRhEQEIRFBSEQQEhGEOvdRiOny6tWr4uzq1avFWe3HiZumad6/f1+cLVmypLp7/vz54mz//v3V3dpHO7rGSQQhEUFIRBASEYREBCERQcgj7hludHS0Oj916lRxdv369dZ/99atW9X5ZF/+3yVOIgiJCEIigpCIICQiCIkIQiKCkPdEs9zY2FhxNtl7oqNHjxZnixYtqu7evHmzONuxY0d19//GSQQhEUFIRBASEYREBCERQahzX2j/+fPn4uzGjRvV3aVLlxZne/fubX1Pib6+vuJssm/sqb3dOHbsWHX37t27xZlH3MBvERGERAQhEUFIRBASEYREBKHOvScaHx8vzi5fvlzdffHiRXE2ODhY3T148GBxtmLFiuJsz5491evW1H6ouWmaZmhoqPW1+clJBCERQUhEEBIRhEQEIRFByLf9/OL169fV+datW4uzkZGR1n933rzym4aFCxe2vm7tm4Capmm+f//e+tq1H2Q+cOBA6+vORk4iCIkIQiKCkIggJCIIiQhCIoKQ90S/4c2bN8XZlStXWl+39usNL1++bH3dQ4cOVedbtmwpzgYGBqq78+fPL856vV79xv5nnEQQEhGERAQhEUFIRBASEYQ84oaQkwhCIoKQiCAkIgiJCEIigpCIICQiCIkIQiKCkIggJCIIiQhCIoKQiCAkIgiJCEIigpCIICQiCIkIQiKCkIggJCIIiQhCIoKQiCAkIgiJCEIigpCIICQiCIkIQiKCkIggJCIIiQhCIoKQiCAkIgiJCEIigpCIICQiCP0DyrwAqEWG48IAAAAASUVORK5CYII=\" y=\"-6.392771\"/>\r\n   </g>\r\n   <g id=\"matplotlib.axis_5\"/>\r\n   <g id=\"matplotlib.axis_6\"/>\r\n   <g id=\"patch_13\">\r\n    <path d=\"M 447.904819 215.392771 \r\nL 447.904819 7.2 \r\n\" style=\"fill:none;stroke:#000000;stroke-linecap:square;stroke-linejoin:miter;stroke-width:0.8;\"/>\r\n   </g>\r\n   <g id=\"patch_14\">\r\n    <path d=\"M 656.09759 215.392771 \r\nL 656.09759 7.2 \r\n\" style=\"fill:none;stroke:#000000;stroke-linecap:square;stroke-linejoin:miter;stroke-width:0.8;\"/>\r\n   </g>\r\n   <g id=\"patch_15\">\r\n    <path d=\"M 447.904819 215.392771 \r\nL 656.09759 215.392771 \r\n\" style=\"fill:none;stroke:#000000;stroke-linecap:square;stroke-linejoin:miter;stroke-width:0.8;\"/>\r\n   </g>\r\n   <g id=\"patch_16\">\r\n    <path d=\"M 447.904819 7.2 \r\nL 656.09759 7.2 \r\n\" style=\"fill:none;stroke:#000000;stroke-linecap:square;stroke-linejoin:miter;stroke-width:0.8;\"/>\r\n   </g>\r\n  </g>\r\n </g>\r\n <defs>\r\n  <clipPath id=\"pa05a760666\">\r\n   <rect height=\"208.192771\" width=\"208.192771\" x=\"10.7\" y=\"7.2\"/>\r\n  </clipPath>\r\n  <clipPath id=\"pbe7d11010b\">\r\n   <rect height=\"208.192771\" width=\"208.192771\" x=\"229.30241\" y=\"7.2\"/>\r\n  </clipPath>\r\n  <clipPath id=\"pac82a356a7\">\r\n   <rect height=\"208.192771\" width=\"208.192771\" x=\"447.904819\" y=\"7.2\"/>\r\n  </clipPath>\r\n </defs>\r\n</svg>\r\n",
      "image/png": "[encoded data removed]"
     },
     "metadata": {}
    }
   ],
   "source": [
    "fig = plt.figure(figsize=(12, 4))  \n",
    "fig.subplots_adjust(left=0, right=1, bottom=0, top=1, hspace=0.05, wspace=0.05)\n",
    "\n",
    "for i in range(3):\n",
    "    ax = fig.add_subplot(1, 4, i + 1, xticks=[], yticks=[])\n",
    "    ax.imshow(test_data[i].reshape(28,28), cmap=plt.cm.binary, interpolation='nearest')"
   ]
  },
  {
   "cell_type": "code",
   "execution_count": null,
   "metadata": {},
   "outputs": [],
   "source": []
  }
 ]
}