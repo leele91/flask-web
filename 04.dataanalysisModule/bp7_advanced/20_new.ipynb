{
 "metadata": {
  "language_info": {
   "codemirror_mode": {
    "name": "ipython",
    "version": 3
   },
   "file_extension": ".py",
   "mimetype": "text/x-python",
   "name": "python",
   "nbconvert_exporter": "python",
   "pygments_lexer": "ipython3",
   "version": "3.8.3-final"
  },
  "orig_nbformat": 2,
  "kernelspec": {
   "name": "python3",
   "display_name": "Python 3",
   "language": "python"
  }
 },
 "nbformat": 4,
 "nbformat_minor": 2,
 "cells": [
  {
   "cell_type": "code",
   "execution_count": 1,
   "metadata": {},
   "outputs": [],
   "source": [
    "import numpy as np\n",
    "import pandas as pd\n",
    "from sklearn.datasets import fetch_20newsgroups"
   ]
  },
  {
   "cell_type": "code",
   "execution_count": 2,
   "metadata": {},
   "outputs": [],
   "source": [
    "news_data = fetch_20newsgroups(subset='all', random_state=156)"
   ]
  },
  {
   "cell_type": "code",
   "execution_count": 3,
   "metadata": {},
   "outputs": [],
   "source": [
    "# 훈련 데이터 추출\n",
    "train_news = fetch_20newsgroups(subset='train', random_state=156,\n",
    "                                remove=('headers', 'footers', 'quotes'))"
   ]
  },
  {
   "cell_type": "code",
   "execution_count": 4,
   "metadata": {},
   "outputs": [
    {
     "output_type": "execute_result",
     "data": {
      "text/plain": [
       "data      0\n",
       "target    0\n",
       "dtype: int64"
      ]
     },
     "metadata": {},
     "execution_count": 4
    }
   ],
   "source": [
    "df_train = pd.DataFrame(train_news.data, columns=['data'])\n",
    "df_train['target'] = train_news.target\n",
    "df_train.isna().sum()"
   ]
  },
  {
   "cell_type": "code",
   "execution_count": 5,
   "metadata": {},
   "outputs": [
    {
     "output_type": "execute_result",
     "data": {
      "text/plain": [
       "data      218\n",
       "target    218\n",
       "dtype: int64"
      ]
     },
     "metadata": {},
     "execution_count": 5
    }
   ],
   "source": [
    "df_train[df_train.data == ''].count()"
   ]
  },
  {
   "cell_type": "code",
   "execution_count": 6,
   "metadata": {},
   "outputs": [
    {
     "output_type": "execute_result",
     "data": {
      "text/plain": [
       "data      0\n",
       "target    0\n",
       "dtype: int64"
      ]
     },
     "metadata": {},
     "execution_count": 6
    }
   ],
   "source": [
    "df_train = df_train.drop(df_train[df_train.data == ''].index)\n",
    "df_train[df_train.data == ''].count()"
   ]
  },
  {
   "cell_type": "code",
   "execution_count": 7,
   "metadata": {},
   "outputs": [
    {
     "output_type": "execute_result",
     "data": {
      "text/plain": [
       "Index(['data', 'target'], dtype='object')"
      ]
     },
     "metadata": {},
     "execution_count": 7
    }
   ],
   "source": [
    "df_train.keys()"
   ]
  },
  {
   "cell_type": "code",
   "execution_count": 8,
   "metadata": {},
   "outputs": [],
   "source": [
    "# 훈련/테스트용 데이터 추출\n",
    "X_train = df_train.data.values\n",
    "y_train = df_train.target.values"
   ]
  },
  {
   "cell_type": "code",
   "execution_count": 9,
   "metadata": {},
   "outputs": [
    {
     "output_type": "stream",
     "name": "stdout",
     "text": [
      "\n\nWhat I did NOT get with my drive (CD300i) is the System Install CD you\nlisted as #1.  Any ideas about how I can get one?  I bought my IIvx 8/120\nfrom Direct Express in Chicago (no complaints at all -- good price & good\nservice).\n\nBTW, I've heard that the System Install CD can be used to boot the mac;\nhowever, my drive will NOT accept a CD caddy is the machine is off.  How can\nyou boot with it then?\n\n--Dave\n\n"
     ]
    }
   ],
   "source": [
    "print(train_news.data[0])"
   ]
  },
  {
   "cell_type": "code",
   "execution_count": 10,
   "metadata": {},
   "outputs": [
    {
     "output_type": "execute_result",
     "data": {
      "text/plain": [
       "4"
      ]
     },
     "metadata": {},
     "execution_count": 10
    }
   ],
   "source": [
    "train_news.target[0]"
   ]
  },
  {
   "cell_type": "code",
   "execution_count": 11,
   "metadata": {},
   "outputs": [],
   "source": [
    "# 테스트용 데이터 추출\n",
    "test_news = fetch_20newsgroups(subset='test', random_state=156,\n",
    "                                remove=('headers', 'footers', 'quotes'))"
   ]
  },
  {
   "cell_type": "code",
   "execution_count": 12,
   "metadata": {},
   "outputs": [
    {
     "output_type": "execute_result",
     "data": {
      "text/plain": [
       "data      0\n",
       "target    0\n",
       "dtype: int64"
      ]
     },
     "metadata": {},
     "execution_count": 12
    }
   ],
   "source": [
    "df_test = pd.DataFrame(test_news.data, columns=['data'])\n",
    "df_test['target'] = test_news.target\n",
    "df_test.isna().sum()"
   ]
  },
  {
   "cell_type": "code",
   "execution_count": 13,
   "metadata": {},
   "outputs": [
    {
     "output_type": "execute_result",
     "data": {
      "text/plain": [
       "data      162\n",
       "target    162\n",
       "dtype: int64"
      ]
     },
     "metadata": {},
     "execution_count": 13
    }
   ],
   "source": [
    "df_test[df_test.data == ''].count()"
   ]
  },
  {
   "cell_type": "code",
   "execution_count": 14,
   "metadata": {},
   "outputs": [
    {
     "output_type": "execute_result",
     "data": {
      "text/plain": [
       "data      0\n",
       "target    0\n",
       "dtype: int64"
      ]
     },
     "metadata": {},
     "execution_count": 14
    }
   ],
   "source": [
    "df_test = df_test.drop(df_test[df_test.data == ''].index)\n",
    "df_test[df_test.data == ''].count()"
   ]
  },
  {
   "cell_type": "code",
   "execution_count": 15,
   "metadata": {},
   "outputs": [],
   "source": [
    "X_test = df_test.data.values\n",
    "y_test = df_test.target.values"
   ]
  },
  {
   "cell_type": "code",
   "execution_count": 16,
   "metadata": {},
   "outputs": [
    {
     "output_type": "execute_result",
     "data": {
      "text/plain": [
       "(11096, 7370)"
      ]
     },
     "metadata": {},
     "execution_count": 16
    }
   ],
   "source": [
    "len(X_train), len(X_test)"
   ]
  },
  {
   "cell_type": "code",
   "execution_count": 17,
   "metadata": {},
   "outputs": [],
   "source": [
    "df_test.to_csv('../static/data/news/test.csv', index=False)"
   ]
  },
  {
   "source": [
    "### 피처 벡터화 변환과 머신러닝 모델 학습/예측/평가"
   ],
   "cell_type": "markdown",
   "metadata": {}
  },
  {
   "cell_type": "code",
   "execution_count": 18,
   "metadata": {},
   "outputs": [],
   "source": [
    "from sklearn.feature_extraction.text import TfidfVectorizer\n",
    "from sklearn.feature_extraction.text import CountVectorizer\n",
    "from sklearn.linear_model import LogisticRegression\n",
    "from sklearn.metrics import accuracy_score"
   ]
  },
  {
   "cell_type": "code",
   "execution_count": 19,
   "metadata": {},
   "outputs": [],
   "source": [
    "from sklearn.svm import SVC"
   ]
  },
  {
   "source": [
    "- Case 1. Count Vectorizer"
   ],
   "cell_type": "markdown",
   "metadata": {}
  },
  {
   "cell_type": "code",
   "execution_count": 20,
   "metadata": {},
   "outputs": [],
   "source": [
    "count_vect = CountVectorizer()\n",
    "count_vect.fit(X_train) # fit_fransform()을 쓰면 훈련한게 사라지므로 나중에 사용 불가\n",
    "X_train_count = count_vect.transform(X_train)\n",
    "X_test_count = count_vect.transform(X_test)"
   ]
  },
  {
   "cell_type": "code",
   "execution_count": 21,
   "metadata": {},
   "outputs": [
    {
     "output_type": "execute_result",
     "data": {
      "text/plain": [
       "LogisticRegression()"
      ]
     },
     "metadata": {},
     "execution_count": 21
    }
   ],
   "source": [
    "lr_clf = LogisticRegression()\n",
    "lr_clf.fit(X_train_count, y_train)"
   ]
  },
  {
   "cell_type": "code",
   "execution_count": 22,
   "metadata": {},
   "outputs": [
    {
     "output_type": "stream",
     "name": "stdout",
     "text": [
      "Count Vectorizer : 0.6210\n"
     ]
    }
   ],
   "source": [
    "lr_pred = lr_clf.predict(X_test_count) # 인자로 X_test_count 줌\n",
    "lr_acc = accuracy_score(y_test, lr_pred)\n",
    "print(f'Count Vectorizer : {lr_acc:.4f}')"
   ]
  },
  {
   "source": [
    "- Case 2. Tf - idf vectorizer"
   ],
   "cell_type": "markdown",
   "metadata": {}
  },
  {
   "cell_type": "code",
   "execution_count": 23,
   "metadata": {},
   "outputs": [],
   "source": [
    "tfidf_vect = TfidfVectorizer()\n",
    "tfidf_vect.fit(X_train)\n",
    "X_train_tfidf = tfidf_vect.transform(X_train)\n",
    "X_test_tfidf = tfidf_vect.transform(X_test)"
   ]
  },
  {
   "cell_type": "code",
   "execution_count": 24,
   "metadata": {},
   "outputs": [
    {
     "output_type": "execute_result",
     "data": {
      "text/plain": [
       "LogisticRegression()"
      ]
     },
     "metadata": {},
     "execution_count": 24
    }
   ],
   "source": [
    "lr_clf = LogisticRegression()\n",
    "lr_clf.fit(X_train_tfidf, y_train)"
   ]
  },
  {
   "cell_type": "code",
   "execution_count": 25,
   "metadata": {},
   "outputs": [
    {
     "output_type": "stream",
     "name": "stdout",
     "text": [
      "Count Vectorizer : 0.6872\n"
     ]
    }
   ],
   "source": [
    "tf_pred = lr_clf.predict(X_test_tfidf)\n",
    "tf_acc = accuracy_score(y_test, tf_pred)\n",
    "print(f'Count Vectorizer : {tf_acc:.4f}')"
   ]
  },
  {
   "source": [
    "- Case 3. Count Vectorizer + LogisticRegression"
   ],
   "cell_type": "markdown",
   "metadata": {}
  },
  {
   "cell_type": "code",
   "execution_count": 26,
   "metadata": {},
   "outputs": [
    {
     "output_type": "execute_result",
     "data": {
      "text/plain": [
       "{'analyzer': 'word',\n",
       " 'binary': False,\n",
       " 'decode_error': 'strict',\n",
       " 'dtype': numpy.int64,\n",
       " 'encoding': 'utf-8',\n",
       " 'input': 'content',\n",
       " 'lowercase': True,\n",
       " 'max_df': 1.0,\n",
       " 'max_features': None,\n",
       " 'min_df': 1,\n",
       " 'ngram_range': (1, 1),\n",
       " 'preprocessor': None,\n",
       " 'stop_words': None,\n",
       " 'strip_accents': None,\n",
       " 'token_pattern': '(?u)\\\\b\\\\w\\\\w+\\\\b',\n",
       " 'tokenizer': None,\n",
       " 'vocabulary': None}"
      ]
     },
     "metadata": {},
     "execution_count": 26
    }
   ],
   "source": [
    "count_vect.get_params()"
   ]
  },
  {
   "cell_type": "code",
   "execution_count": 27,
   "metadata": {},
   "outputs": [],
   "source": [
    "from sklearn.pipeline import Pipeline\n",
    "\n",
    "pipeline = Pipeline([\n",
    "    ('count_vect', CountVectorizer(stop_words='english')),\n",
    "    ('lr_clf', LogisticRegression())\n",
    "])"
   ]
  },
  {
   "cell_type": "code",
   "execution_count": 28,
   "metadata": {},
   "outputs": [],
   "source": [
    "params = {\n",
    "    'count_vect__max_df': [200, 300],\n",
    "    'lr_clf__C': [0.5, 1, 5]\n",
    "}"
   ]
  },
  {
   "cell_type": "code",
   "execution_count": 29,
   "metadata": {},
   "outputs": [
    {
     "output_type": "stream",
     "name": "stdout",
     "text": [
      "Fitting 3 folds for each of 6 candidates, totalling 18 fits\n",
      "[Parallel(n_jobs=1)]: Using backend SequentialBackend with 1 concurrent workers.\n",
      "[Parallel(n_jobs=1)]: Done  18 out of  18 | elapsed: 13.4min finished\n",
      "{'count_vect__max_df': 200, 'lr_clf__C': 0.5} 0.7071022951988398\n"
     ]
    }
   ],
   "source": [
    "from sklearn.model_selection import GridSearchCV\n",
    "\n",
    "grid_pipe = GridSearchCV(pipeline, param_grid=params, cv=3,\n",
    "                        scoring='accuracy', verbose=1)\n",
    "grid_pipe.fit(X_train, y_train)\n",
    "print(grid_pipe.best_params_, grid_pipe.best_score_)"
   ]
  },
  {
   "cell_type": "code",
   "execution_count": 30,
   "metadata": {},
   "outputs": [
    {
     "output_type": "stream",
     "name": "stdout",
     "text": [
      "Count Vectorizer + LogisticRegression 평균 정확도 : 0.6476\n"
     ]
    }
   ],
   "source": [
    "best_count_lr = grid_pipe.best_estimator_ # best_estimator_ : 최적의 파라미터로 모델 생성\n",
    "pred_count_lr = best_count_lr.predict(X_test)\n",
    "acc_count_lr = accuracy_score(y_test, pred_count_lr)\n",
    "print(f'Count Vectorizer + LogisticRegression 평균 정확도 : {acc_count_lr:.4f}')"
   ]
  },
  {
   "cell_type": "code",
   "execution_count": 31,
   "metadata": {},
   "outputs": [],
   "source": [
    "import joblib"
   ]
  },
  {
   "cell_type": "code",
   "execution_count": 32,
   "metadata": {},
   "outputs": [
    {
     "output_type": "execute_result",
     "data": {
      "text/plain": [
       "['../static/model/20news_count_lr.pkl']"
      ]
     },
     "metadata": {},
     "execution_count": 32
    }
   ],
   "source": [
    "joblib.dump(best_count_lr, '../static/model/20news_count_lr.pkl')"
   ]
  },
  {
   "source": [
    "- Case 4. Tf - idf vectorizer + LogisticRegression"
   ],
   "cell_type": "markdown",
   "metadata": {}
  },
  {
   "cell_type": "code",
   "execution_count": 33,
   "metadata": {},
   "outputs": [],
   "source": [
    "pipeline = Pipeline([\n",
    "    ('tfidf_vect', TfidfVectorizer(stop_words='english')),\n",
    "    ('lr_clf', LogisticRegression())\n",
    "])"
   ]
  },
  {
   "cell_type": "code",
   "execution_count": 34,
   "metadata": {},
   "outputs": [],
   "source": [
    "params = {\n",
    "    'tfidf_vect__max_df': [100, 300, 500],\n",
    "    'lr_clf__C': [5, 10, 15]\n",
    "}"
   ]
  },
  {
   "cell_type": "code",
   "execution_count": 35,
   "metadata": {},
   "outputs": [
    {
     "output_type": "stream",
     "name": "stdout",
     "text": [
      "Fitting 3 folds for each of 9 candidates, totalling 27 fits\n",
      "[Parallel(n_jobs=1)]: Using backend SequentialBackend with 1 concurrent workers.\n",
      "[Parallel(n_jobs=1)]: Done  27 out of  27 | elapsed: 18.1min finished\n",
      "{'lr_clf__C': 5, 'tfidf_vect__max_df': 500} 0.7621671193589465\n"
     ]
    }
   ],
   "source": [
    "grid_pipe = GridSearchCV(pipeline, param_grid=params, cv=3,\n",
    "                        scoring='accuracy', verbose=1)\n",
    "grid_pipe.fit(X_train, y_train)\n",
    "print(grid_pipe.best_params_, grid_pipe.best_score_)"
   ]
  },
  {
   "cell_type": "code",
   "execution_count": 36,
   "metadata": {},
   "outputs": [
    {
     "output_type": "stream",
     "name": "stdout",
     "text": [
      "Tf - idf vectorizer + LogisticRegression 평균 정확도 : 0.7045\n"
     ]
    }
   ],
   "source": [
    "best_tfid_lr = grid_pipe.best_estimator_ # best_estimator_ : 최적의 파라미터로 모델 생성\n",
    "pred_tfid_lr = best_tfid_lr.predict(X_test)\n",
    "acc_tfid_lr = accuracy_score(y_test, pred_tfid_lr)\n",
    "print(f'Tf - idf vectorizer + LogisticRegression 평균 정확도 : {acc_tfid_lr:.4f}')"
   ]
  },
  {
   "cell_type": "code",
   "execution_count": 37,
   "metadata": {},
   "outputs": [
    {
     "output_type": "execute_result",
     "data": {
      "text/plain": [
       "['../static/model/20news_tfid_lr.pkl']"
      ]
     },
     "metadata": {},
     "execution_count": 37
    }
   ],
   "source": [
    "joblib.dump(best_tfid_lr, '../static/model/20news_tfid_lr.pkl')"
   ]
  },
  {
   "source": [
    "- Case 4. Tf - idf vectorizer + SVM"
   ],
   "cell_type": "markdown",
   "metadata": {}
  },
  {
   "cell_type": "code",
   "execution_count": 38,
   "metadata": {},
   "outputs": [
    {
     "output_type": "execute_result",
     "data": {
      "text/plain": [
       "{'C': 1.0,\n",
       " 'break_ties': False,\n",
       " 'cache_size': 200,\n",
       " 'class_weight': None,\n",
       " 'coef0': 0.0,\n",
       " 'decision_function_shape': 'ovr',\n",
       " 'degree': 3,\n",
       " 'gamma': 'scale',\n",
       " 'kernel': 'rbf',\n",
       " 'max_iter': -1,\n",
       " 'probability': False,\n",
       " 'random_state': None,\n",
       " 'shrinking': True,\n",
       " 'tol': 0.001,\n",
       " 'verbose': False}"
      ]
     },
     "metadata": {},
     "execution_count": 38
    }
   ],
   "source": [
    "sv_clf = SVC()\n",
    "sv_clf.get_params()"
   ]
  },
  {
   "cell_type": "code",
   "execution_count": 39,
   "metadata": {},
   "outputs": [],
   "source": [
    "pipeline = Pipeline([\n",
    "    ('tfidf_vect', TfidfVectorizer(stop_words='english')),\n",
    "    ('sv_clf', SVC())\n",
    "])"
   ]
  },
  {
   "cell_type": "code",
   "execution_count": 53,
   "metadata": {},
   "outputs": [],
   "source": [
    "params = {\n",
    "    'tfidf_vect__max_df': [100, 300, 500],\n",
    "    'sv_clf__C': [1, 10, 20]\n",
    "}"
   ]
  },
  {
   "cell_type": "code",
   "execution_count": 54,
   "metadata": {},
   "outputs": [
    {
     "output_type": "stream",
     "name": "stdout",
     "text": [
      "Fitting 3 folds for each of 9 candidates, totalling 27 fits\n",
      "[Parallel(n_jobs=1)]: Using backend SequentialBackend with 1 concurrent workers.\n",
      "[Parallel(n_jobs=1)]: Done  27 out of  27 | elapsed: 21.4min finished\n",
      "{'sv_clf__C': 10, 'tfidf_vect__max_df': 300} 0.7586518518323572\n"
     ]
    }
   ],
   "source": [
    "grid_pipe = GridSearchCV(pipeline, param_grid=params, cv=3,\n",
    "                        scoring='accuracy', verbose=1)\n",
    "grid_pipe.fit(X_train, y_train)\n",
    "print(grid_pipe.best_params_, grid_pipe.best_score_)"
   ]
  },
  {
   "cell_type": "code",
   "execution_count": 55,
   "metadata": {},
   "outputs": [
    {
     "output_type": "stream",
     "name": "stdout",
     "text": [
      "Tf - idf vectorizer + SVM 평균 정확도 : 0.6958\n"
     ]
    }
   ],
   "source": [
    "best_tfid_sv = grid_pipe.best_estimator_ # best_estimator_ : 최적의 파라미터로 모델 생성\n",
    "pred_tfid_sv = best_tfid_sv.predict(X_test)\n",
    "acc_tfid_sv = accuracy_score(y_test, pred_tfid_sv)\n",
    "print(f'Tf - idf vectorizer + SVM 평균 정확도 : {acc_tfid_sv:.4f}')"
   ]
  },
  {
   "cell_type": "code",
   "execution_count": 56,
   "metadata": {},
   "outputs": [
    {
     "output_type": "execute_result",
     "data": {
      "text/plain": [
       "['../static/model/20news_tfid_sv.pkl']"
      ]
     },
     "metadata": {},
     "execution_count": 56
    }
   ],
   "source": [
    "joblib.dump(best_tfid_sv, '../static/model/20news_tfid_sv.pkl')"
   ]
  },
  {
   "source": [
    "### test"
   ],
   "cell_type": "markdown",
   "metadata": {}
  },
  {
   "cell_type": "code",
   "execution_count": 57,
   "metadata": {},
   "outputs": [],
   "source": [
    "index = 100"
   ]
  },
  {
   "cell_type": "code",
   "execution_count": 58,
   "metadata": {},
   "outputs": [
    {
     "output_type": "execute_result",
     "data": {
      "text/plain": [
       "                                                   data  target\n",
       "7367  \\n\\n\\n-- That means that there cannot be any a...      13\n",
       "7368  s:\\n  I have a 1991 Toyota Camry Deluxe for sa...       6\n",
       "7369  May 13, 1993  _Five Russian soldiers sentenced...      17"
      ],
      "text/html": "<div>\n<style scoped>\n    .dataframe tbody tr th:only-of-type {\n        vertical-align: middle;\n    }\n\n    .dataframe tbody tr th {\n        vertical-align: top;\n    }\n\n    .dataframe thead th {\n        text-align: right;\n    }\n</style>\n<table border=\"1\" class=\"dataframe\">\n  <thead>\n    <tr style=\"text-align: right;\">\n      <th></th>\n      <th>data</th>\n      <th>target</th>\n    </tr>\n  </thead>\n  <tbody>\n    <tr>\n      <th>7367</th>\n      <td>\\n\\n\\n-- That means that there cannot be any a...</td>\n      <td>13</td>\n    </tr>\n    <tr>\n      <th>7368</th>\n      <td>s:\\n  I have a 1991 Toyota Camry Deluxe for sa...</td>\n      <td>6</td>\n    </tr>\n    <tr>\n      <th>7369</th>\n      <td>May 13, 1993  _Five Russian soldiers sentenced...</td>\n      <td>17</td>\n    </tr>\n  </tbody>\n</table>\n</div>"
     },
     "metadata": {},
     "execution_count": 58
    }
   ],
   "source": [
    "df = pd.read_csv('../static/data/news/test.csv')\n",
    "df.tail(3)"
   ]
  },
  {
   "cell_type": "code",
   "execution_count": 60,
   "metadata": {},
   "outputs": [
    {
     "output_type": "execute_result",
     "data": {
      "text/plain": [
       "11"
      ]
     },
     "metadata": {},
     "execution_count": 60
    }
   ],
   "source": [
    "label = df.target[index]\n",
    "label"
   ]
  },
  {
   "source": [
    "### test data 만드는 방법 1"
   ],
   "cell_type": "markdown",
   "metadata": {}
  },
  {
   "cell_type": "code",
   "execution_count": 61,
   "metadata": {},
   "outputs": [
    {
     "output_type": "execute_result",
     "data": {
      "text/plain": [
       "onservative\" position is that we should not\\nsell these computers to the Soviets, because they could  use\\nthem  in weapons systems.  The \"liberal\" position is that we\\nshould sell them, in  the  interests  of  mutual  trade  and\\ncooperation--and  anyway,  if  we don\\'t make the sale, there\\nwill certainly be some other nation willing to.\\n\\n     For my part, I\\'m ready to suggest that the  Libertarian\\nposition should be to give them to the Soviets for free, and\\nif  necessary, make them take them . . . and if that doesn\\'t\\nwork load up an SR-71  Blackbird  and  air  drop  them  over\\nMoscow in the middle of the night.  Paid for by private sub-\\nscription, of course, not taxation . . . I confess that this\\nis not a position that has gained much support among members\\nof  the conventional left-right political spectrum, but, af-\\nter all, in the words of one of Illuminatus\\'s characters, we\\nare political non-Euclideans:   The shortest distance  to  a\\nparticular  goal may not look anything like what most people\\nwould consider a \"straight line.\"    Taking  a  long  enough\\nworld-view,  it is arguable that breaking the Soviet govern-\\nment monopoly on information transfer could better  lead  to\\nthe enfeeblement and, indeed, to the ultimate dissolution of\\nthe Soviet empire than would the production of another dozen\\nmissiles aimed at Moscow.\\n\\n     But  there\\'s  the rub:  A \"long enough\" world view does\\nsuggest that the evil, the oppressive, the coercive and  the\\nsimply  stupid  will \"get what they deserve,\" but what\\'s not\\nimmediately clear is how the rest of  us  can  escape  being\\nkilled, enslaved, or pauperized in the process.\\n\\n    When  the  liberals and other collectivists began to at-\\ntack freedom, they possessed a reasonably  stable,  healthy,\\nfunctioning economy, and almost unlimited time to proceed to\\nhamstring   and   dismantle  it.    A  policy  of  political\\ngradualism was at least  conceivable.    But  now,  we  have\\npatchwork  crazy-quilt  economy held together by baling wire\\nand spit.  The state not only taxes us to  \"feed  the  poor\"\\nwhile also inducing farmers to slaughter milk cows and drive\\nup food prices--it then simultaneously turns around and sub-\\nsidizes research into agricultural chemicals designed to in-\\ncrease  yields of milk from the cows left alive.  Or witness\\nthe fact that a decline in the price of oil is considered as\\npotentially frightening as a comparable increase a few years\\nago.  When the price went up,  we  were  told,  the  economy\\nrisked  collapse for for want of energy.  The price increase\\nwas called the \"moral equivalent of war\" and the Feds  swung\\ninto  action.    For the first time in American history, the\\nspeed at which you drive your car to work in the morning be-\\ncame an issue of Federal concern.   Now, when the  price  of\\noil  drops, again we risk problems, this time because Ameri-\\ncan oil companies and Third World  basket-case  nations  who\\nsell  oil  may  not  be  able to ever pay their debts to our\\ngrossly over-extended banks.  The suggested panacea is  that\\ngovernment  should now re-raise the oil prices that OPEC has\\nlowered, via a new oil tax.  Since the government is seeking\\nto raise oil prices to about the same extent  as  OPEC  did,\\nwhat  can we call this except the \"moral equivalent of civil\\nwar--the government against its own people?\"\\n\\n     And, classically, in international trade, can you imag-\\nine any entity in the world except  a  government  going  to\\ncourt  claiming  that  a  vendor  was  selling  it goods too\\ncheaply and demanding not only that that naughty  vendor  be\\ncompelled by the court to raise its prices, but also that it\\nbe punished for the act of lowering them in the first place?\\n\\n     So  while the statists could afford to take a couple of\\nhundred years to trash our  economy  and  our  liberties--we\\ncertainly  cannot  count  on  having an equivalent period of\\nstability in which to reclaim them.   I contend  that  there\\nexists  almost  a  \"black  hole\"  effect in the evolution of\\nnation-states just as in the evolution of stars.  Once free-\\ndom contracts beyond a certain  minimum  extent,  the  state\\nwarps  the fabric of the political continuum about itself to\\nthe degree that subsequent re-emergence of  freedom  becomes\\nall but impossible.  A good illustration of this can be seen\\nin the area of so-called \"welfare\" payments.  When those who\\nsup  at the public trough outnumber (and thus outvote) those\\nwhose taxes must replenish the trough,  then  what  possible\\nchoice has a democracy but to perpetuate and expand the tak-\\ning  from  the few for the unearned benefit of the many?  Go\\ndown to the nearest \"welfare\" office, find just  two  people\\non  the dole . . . and recognize that between them they form\\na voting bloc that can forever outvote you on  the  question\\nof who owns your life--and the fruits of your life\\'s labor.\\n\\n     So essentially those who love liberty need an \"edge\" of\\nsome  sort  if  we\\'re ultimately going to prevail.  We obvi-\\nously  can\\'t  use  the  altruists\\'  \"other-directedness\"  of\\n\"work,  slave, suffer, sacrifice, so that next generation of\\na billion random strangers can  live  in  a  better  world.\"\\nRecognize  that, however immoral such an appeal might be, it\\nis nonetheless an extremely powerful one in today\\'s culture.\\nIf you can convince  people  to  work  energetically  for  a\\n\"cause,\" caring only enough for their personal welfare so as\\nto  remain  alive  enough  and  healthy  enough  to continue\\nworking--then you have a truly massive reservoir  of  energy\\nto draw from.  Equally clearly, this is just the sort of ap-\\npeal which tautologically cannot be utilized for egoistic or\\nlibertarian goals.  If I were to stand up before you tonight\\nand say something like, \"Listen, follow me as I enunciate my\\nnoble \"cause,\" contribute your money to support the \"cause,\"\\ngive  up  your  free  time  to  work for the \"cause,\" strive\\nselflessly to bring it about, and then (after you  and  your\\nchildren are dead) maybe your children\\'s children will actu-\\nally  live under egoism\"--you\\'d all think I\\'d gone mad.  And\\nof course you\\'d be right.  Because the point I\\'m  trying  to\\nmake is that libertarianism and/or egoism will be spread if,\\nwhen, and as, individual libertarians and/or egoists find it\\nprofitable and/or enjoyable to do so.    And  probably  only\\nthen.\\n\\n     While I certainly do not disparage the concept of poli-\\ntical  action, I don\\'t believe that it is the only, nor even\\nnecessarily the most cost-effective path  toward  increasing\\nfreedom  in  our time.  Consider that, for a fraction of the\\ninvestment in time, money and effort I might expend in  try-\\ning  to  convince  the  state to abolish wiretapping and all\\nforms of censorship--I can teach every libertarian who\\'s in-\\nterested  how  to   use   cryptography   to   abolish   them\\nunilaterally.\\n\\n     There  is  a  maxim--a proverb--generally attributed to\\nthe Eskimoes, which very likely most Libertarians  have  al-\\nready  heard.    And while you likely would not quarrel with\\nthe saying, you might well feel that you\\'ve heard  it  often\\nenough already, and that it has nothing further to teach us,\\nand moreover, that maybe you\\'re even tired of hearing it.  I\\nshall therefore repeat it now:\\n\\n     If you give a man a fish, the saying runs, you feed him\\nfor a day.  But if you teach a man how to fish, you feed him\\nfor a lifetime.\\n\\n     Your exposure to the quote was probably in some sort of\\na  \"workfare\"  vs.  \"welfare\"  context;  namely, that if you\\ngenuinely wish to help someone in need, you should teach him\\nhow to earn his sustenance, not simply how to  beg  for  it.\\nAnd of course this is true, if only because the next time he\\nis hungry, there might not be anybody around willing or even\\nable to give him a fish, whereas with the information on how\\nto fish, he is completely self sufficient.\\n\\n     But  I  submit  that this exhausts only the first order\\ncontent of the quote, and if there were nothing  further  to\\nglean  from  it,  I would have wasted your time by citing it\\nagain.  After all, it seems to have almost a crypto-altruist\\nslant, as though to imply that we should structure  our  ac-\\ntivities  so  as  to  maximize  the  benefits to such hungry\\nbeggars as we may encounter.\\n\\n     But consider:\\n\\n     Suppose this Eskimo doesn\\'t know how to  fish,  but  he\\ndoes  know  how  to hunt walruses.   You, on the other hand,\\nhave often gone hungry while traveling thru  walrus  country\\nbecause  you  had  no idea how to catch the damn things, and\\nthey ate most of the fish you could catch.  And now  suppose\\nthe  two  of  you  decide to exchange information, bartering\\nfishing knowledge for hunting knowledge.   Well,  the  first\\nthing  to  observe  is  that  a  transaction  of  this  type\\ncategorically and unambiguously refutes the Marxist  premise\\nthat  every  trade  must  have a \"winner\" and a \"loser;\" the\\nidea that if one person gains, it must necessarily be at the\\n\"expense\" of another person who loses.  Clearly, under  this\\nscenario, such is not the case.  Each party has gained some-\\nthing  he  did  not have before, and neither has been dimin-\\nished in any way.  When it comes to exchange of  information\\n(rather  than material objects) life is no longer a zero-sum\\ngame.  This is an extremely powerful notion.   The  \"law  of\\ndiminishing   returns,\"   the  \"first  and  second  laws  of\\nthermodynamics\"--all those \"laws\" which constrain our possi-\\nbilities in other contexts--no longer bind us!   Now  that\\'s\\nanarchy!\\n\\n     Or  consider  another possibility:  Suppose this hungry\\nEskimo never learned  to  fish  because  the  ruler  of  his\\nnation-state    had  decreed fishing illegal.   Because fish\\ncontain dangerous tiny bones, and sometimes sharp spines, he\\ntells us, the state has decreed that their  consumption--and\\neven  their  possession--are  too  hazardous to the people\\'s\\nhealth to be permitted . . . even by knowledgeable,  willing\\nadults.   Perhaps it is because citizens\\' bodies are thought\\nto be government property, and therefore it is the  function\\nof the state to punish those who improperly care for govern-\\nment  property.    Or perhaps it is because the state gener-\\nously extends to competent adults the \"benefits\" it provides\\nto children and to the mentally ill:  namely,  a  full-time,\\nall-pervasive supervisory conservatorship--so that they need\\nnot  trouble  themselves  with making choices about behavior\\nthought physically risky or morally \"naughty.\"  But, in  any\\ncase,  you  stare stupefied, while your Eskimo informant re-\\nlates how this law is taken so seriously that  a  friend  of\\nhis was recently imprisoned for years for the crime of \"pos-\\nsession of nine ounces of trout with intent to distribute.\"\\n\\n     Now  you  may  conclude  that  a society so grotesquely\\noppressive as to enforce a law of this  type  is  simply  an\\naffront to the dignity of all human beings.  You may go far-\\nther  and  decide to commit some portion of your discretion-\\nary, recreational time specifically to the task of thwarting\\nthis tyrant\\'s goal.  (Your rationale may be \"altruistic\"  in\\nthe   sense   of  wanting  to  liberate  the  oppressed,  or\\n\"egoistic\" in the sense of  proving  you  can  outsmart  the\\noppressor--or  very likely some combination of these or per-\\nhaps even other motives.)\\n\\n     But, since you have zero desire to become a  martyr  to\\nyour \"cause,\" you\\'re not about to mount a military campaign,\\nor  even try to run a boatload of fish through the blockade.\\nHowever, it is here that technology--and in  particular  in-\\nformation technology--can multiply your efficacy literally a\\nhundredfold.    I say \"literally,\" because for a fraction of\\nthe effort (and virtually none of  the  risk)  attendant  to\\nsmuggling in a hundred fish, you can quite readily produce a\\nhundred  Xerox copies of fishing instructions.  (If the tar-\\ngeted government, like present-day America, at least permits\\nopen  discussion  of  topics  whose  implementation  is  re-\\nstricted,  then that should suffice.  But, if the government\\nattempts to suppress the flow of information as  well,  then\\nyou will have to take a little more effort and perhaps write\\nyour  fishing manual on a floppy disk encrypted according to\\nyour mythical Eskimo\\'s public-key parameters.  But as far as\\nincreasing real-world access to fish you have  made  genuine\\nnonzero  headway--which  may  continue to snowball as others\\nre-disseminate the information you have provided.   And  you\\nhave not had to waste any of your time trying to convert id-\\neological  adversaries, or even trying to win over the unde-\\ncided.  Recall Harry Browne\\'s dictum  from  \"Freedom  in  an\\nUnfree World\" that the success of any endeavor is in general\\ninversely proportional to the number of people whose persua-\\nsion is necessary to its fulfilment.\\n\\n     If  you  look  at  history, you cannot deny that it has\\nbeen dramatically shaped by men with names like  Washington,\\nLincoln,  .  .  .  Nixon  .  . . Marcos . . . Duvalier . . .\\nKhadaffi . . .  and their ilk.  But it has also been  shaped\\nby  people with names like Edison, Curie, Marconi, Tesla and\\nWozniak.  And this latter shaping has been at least as  per-\\nvasive, and not nearly so bloody.\\n\\n     And  that\\'s  where  I\\'m  trying  to  take The LiberTech\\nProject.  Rather than beseeching the state to please not en-\\nslave, plunder or constrain us, I propose a libertarian net-\\nwork spreading  the  technologies  by  which  we  may  seize\\nfreedom for ourselves.\\n\\n     But here we must be a bit careful.  While it is not (at\\npresent)  illegal  to  encrypt  information  when government\\nwants to spy on you, there is no guarantee of what  the  fu-\\nture  may hold.  There have been bills introduced, for exam-\\nple, which would have made it a crime  to  wear  body  armor\\nwhen government wants to shoot you.  That is, if you were to\\ncommit certain crimes while wearing a Kevlar vest, then that\\nfact  would  constitute a separate federal crime of its own.\\nThis law to my knowledge has not passed . . . yet . . .  but\\nit does indicate how government thinks.\\n\\n     Other  technological  applications,  however, do indeed\\npose legal risks.  We recognize, for  example,  that  anyone\\nwho  helped a pre-Civil War slave escape on the \"underground\\nrailroad\" was making a clearly illegal use of technology--as\\nthe sovereign government of the United States of America  at\\nthat time found the buying and selling of human beings quite\\nas  acceptable  as  the buying and selling of cattle.  Simi-\\nlarly, during Prohibition, anyone who used  his  bathtub  to\\nferment  yeast and sugar into the illegal psychoactive drug,\\nalcohol--the controlled substance, wine--was using  technol-\\nogy  in a way that could get him shot dead by federal agents\\nfor his \"crime\"--unfortunately not to be  restored  to  life\\nwhen  Congress  reversed itself and re-permitted use of this\\ndrug.\\n\\n     So . . . to quote a former President,  un-indicted  co-\\nconspirator  and pardoned felon . . . \"Let me make one thing\\nperfectly clear:\"  The LiberTech Project does not  advocate,\\nparticipate  in, or conspire in the violation of any law--no\\nmatter how oppressive,  unconstitutional  or  simply  stupid\\nsuch  law may be.  It does engage in description (for educa-\\ntional and informational  purposes  only)  of  technological\\nprocesses,  and some of these processes (like flying a plane\\nor manufacturing a firearm) may well require appropriate li-\\ncensing to perform legally.    Fortunately,  no  license  is\\nneeded  for  the  distribution or receipt of information it-\\nself.\\n\\n     So, the next time you look at the political  scene  and\\ndespair,  thinking,  \"Well,  if 51% of the nation and 51% of\\nthis State, and 51% of this city have  to  turn  Libertarian\\nbefore  I\\'ll  be  free,  then  somebody might as well cut my\\ngoddamn throat now, and put me out of my  misery\"--recognize\\nthat  such  is not the case.  There exist ways to make your-\\nself free.\\n\\n     If you wish to explore such techniques via the Project,\\nyou are welcome to give me your name and address--or a  fake\\nname  and  mail  drop, for that matter--and you\\'ll go on the\\nmailing list for my erratically-published newsletter.    Any\\nfriends  or acquaintances whom you think would be interested\\nare welcome as well.  I\\'m not even asking for stamped  self-\\naddressed envelopes, since my printer can handle mailing la-\\nbels and actual postage costs are down in the noise compared\\nwith  the  other  efforts  in getting an issue out.   If you\\nshould have an idea to share, or even a  useful  product  to\\nplug,  I\\'ll be glad to have you write it up for publication.\\nEven if you want to be the proverbial \"free rider\" and  just\\nbenefit  from  what others contribute--you\\'re still welcome:\\nEverything will be public domain; feel free to  copy  it  or\\ngive it away (or sell it, for that matter, \\'cause if you can\\nget  money  for  it while I\\'m taking full-page ads trying to\\ngive it away, you\\'re certainly entitled to  your  capitalist\\nprofit . . .)  Anyway, every application of these principles\\nshould make the world just a little freer, and I\\'m certainly\\nwilling to underwrite that, at least for the forseeable  fu-\\nture.\\n\\n     I  will leave you with one final thought:  If you don\\'t\\nlearn how to beat your plowshares into  swords  before  they\\noutlaw  swords,  then you sure as HELL ought to learn before\\nthey outlaw plowshares too.\\n\\n                                       --Chuck Hammill\\n\\n                                 THE LIBERTECH PROJECT\\n                                 3194 Queensbury Drive\\n                               Los Angeles, California\\n                                                 90064\\n                                          310-836-4157\\n\\n                                    hammill@netcom.com\\n\\n[The above LiberTech address was updated December 1992, with the\\n permission of Chuck Hammill, by Russell Whitaker]\\n\\nThose interested in the issues raised in this piece should participate\\nin at least these newsgroups:\\n\\n                alt.privacy\\n                alt.security.pgp\\n                comp.org.eff.talk\\n                sci.crypt\\n\\nA copy of the RSA-based public key encryption program, PGP 2.1 (Pretty\\nGood Privacy), can be obtained at various ftp sites around the world.\\nOne such site is gate.demon.co.uk, where an MS-DOS version can be had by\\nanonymous ftp as pgp22.zip in /pub/pgp.\\n\\nVersions for other operating systems, including UNIX variants\\nand Macintosh, are also available.  Source code is also\\navailable.\\n\\nHere\\'s the blurb for PGP, by the way:\\n\\n- ----------------------  Quote ----------------------------------------\\nPGP (Pretty Good Privacy) ver 2.2 - RSA public-key encryption freeware\\nfor MSDOS, protects E-mail.  Lets you communicate securely with people\\nyou\\'ve never met, with no secure channels needed for prior exchange of\\nkeys.  Well featured and fast!  Excellent user documentation.\\n\\nPGP has sophisticated key management, an RSA/conventional hybrid\\nencryption scheme, message digests for digital signatures, data\\ncompression before encryption, and good ergonomic design.  Source\\ncode is free.\\n\\nFilenames:  pgp22.zip (executable and manuals), pgp22src.zip (sources)\\nKeywords:   PGP, Pretty Good Privacy, RSA, public key, encryption,\\n            privacy, authentication, signatures, email\\n- ---------------------- End Quote -------------------------------------\\n\\nRussell Earl Whitaker                   whitaker@eternity.demon.co.uk\\nCommunications Editor                                 AMiX: RWhitaker\\nEXTROPY: The Journal of Transhumanist Thought\\nBoard member, Extropy Institute (ExI)\\n\\n\\n-----BEGIN PGP SIGNATURE-----\\nVersion: 2.2']"
      ]
     },
     "metadata": {},
     "execution_count": 61
    }
   ],
   "source": [
    "test_data = []\n",
    "test_data.append(df.data[index])\n",
    "test_data"
   ]
  },
  {
   "source": [
    "### test data 만드는 방법 2"
   ],
   "cell_type": "markdown",
   "metadata": {}
  },
  {
   "cell_type": "code",
   "execution_count": 62,
   "metadata": {},
   "outputs": [
    {
     "output_type": "execute_result",
     "data": {
      "text/plain": [
       "is that we should not\\nsell these computers to the Soviets, because they could  use\\nthem  in weapons systems.  The \"liberal\" position is that we\\nshould sell them, in  the  interests  of  mutual  trade  and\\ncooperation--and  anyway,  if  we don\\'t make the sale, there\\nwill certainly be some other nation willing to.\\n\\n     For my part, I\\'m ready to suggest that the  Libertarian\\nposition should be to give them to the Soviets for free, and\\nif  necessary, make them take them . . . and if that doesn\\'t\\nwork load up an SR-71  Blackbird  and  air  drop  them  over\\nMoscow in the middle of the night.  Paid for by private sub-\\nscription, of course, not taxation . . . I confess that this\\nis not a position that has gained much support among members\\nof  the conventional left-right political spectrum, but, af-\\nter all, in the words of one of Illuminatus\\'s characters, we\\nare political non-Euclideans:   The shortest distance  to  a\\nparticular  goal may not look anything like what most people\\nwould consider a \"straight line.\"    Taking  a  long  enough\\nworld-view,  it is arguable that breaking the Soviet govern-\\nment monopoly on information transfer could better  lead  to\\nthe enfeeblement and, indeed, to the ultimate dissolution of\\nthe Soviet empire than would the production of another dozen\\nmissiles aimed at Moscow.\\n\\n     But  there\\'s  the rub:  A \"long enough\" world view does\\nsuggest that the evil, the oppressive, the coercive and  the\\nsimply  stupid  will \"get what they deserve,\" but what\\'s not\\nimmediately clear is how the rest of  us  can  escape  being\\nkilled, enslaved, or pauperized in the process.\\n\\n    When  the  liberals and other collectivists began to at-\\ntack freedom, they possessed a reasonably  stable,  healthy,\\nfunctioning economy, and almost unlimited time to proceed to\\nhamstring   and   dismantle  it.    A  policy  of  political\\ngradualism was at least  conceivable.    But  now,  we  have\\npatchwork  crazy-quilt  economy held together by baling wire\\nand spit.  The state not only taxes us to  \"feed  the  poor\"\\nwhile also inducing farmers to slaughter milk cows and drive\\nup food prices--it then simultaneously turns around and sub-\\nsidizes research into agricultural chemicals designed to in-\\ncrease  yields of milk from the cows left alive.  Or witness\\nthe fact that a decline in the price of oil is considered as\\npotentially frightening as a comparable increase a few years\\nago.  When the price went up,  we  were  told,  the  economy\\nrisked  collapse for for want of energy.  The price increase\\nwas called the \"moral equivalent of war\" and the Feds  swung\\ninto  action.    For the first time in American history, the\\nspeed at which you drive your car to work in the morning be-\\ncame an issue of Federal concern.   Now, when the  price  of\\noil  drops, again we risk problems, this time because Ameri-\\ncan oil companies and Third World  basket-case  nations  who\\nsell  oil  may  not  be  able to ever pay their debts to our\\ngrossly over-extended banks.  The suggested panacea is  that\\ngovernment  should now re-raise the oil prices that OPEC has\\nlowered, via a new oil tax.  Since the government is seeking\\nto raise oil prices to about the same extent  as  OPEC  did,\\nwhat  can we call this except the \"moral equivalent of civil\\nwar--the government against its own people?\"\\n\\n     And, classically, in international trade, can you imag-\\nine any entity in the world except  a  government  going  to\\ncourt  claiming  that  a  vendor  was  selling  it goods too\\ncheaply and demanding not only that that naughty  vendor  be\\ncompelled by the court to raise its prices, but also that it\\nbe punished for the act of lowering them in the first place?\\n\\n     So  while the statists could afford to take a couple of\\nhundred years to trash our  economy  and  our  liberties--we\\ncertainly  cannot  count  on  having an equivalent period of\\nstability in which to reclaim them.   I contend  that  there\\nexists  almost  a  \"black  hole\"  effect in the evolution of\\nnation-states just as in the evolution of stars.  Once free-\\ndom contracts beyond a certain  minimum  extent,  the  state\\nwarps  the fabric of the political continuum about itself to\\nthe degree that subsequent re-emergence of  freedom  becomes\\nall but impossible.  A good illustration of this can be seen\\nin the area of so-called \"welfare\" payments.  When those who\\nsup  at the public trough outnumber (and thus outvote) those\\nwhose taxes must replenish the trough,  then  what  possible\\nchoice has a democracy but to perpetuate and expand the tak-\\ning  from  the few for the unearned benefit of the many?  Go\\ndown to the nearest \"welfare\" office, find just  two  people\\non  the dole . . . and recognize that between them they form\\na voting bloc that can forever outvote you on  the  question\\nof who owns your life--and the fruits of your life\\'s labor.\\n\\n     So essentially those who love liberty need an \"edge\" of\\nsome  sort  if  we\\'re ultimately going to prevail.  We obvi-\\nously  can\\'t  use  the  altruists\\'  \"other-directedness\"  of\\n\"work,  slave, suffer, sacrifice, so that next generation of\\na billion random strangers can  live  in  a  better  world.\"\\nRecognize  that, however immoral such an appeal might be, it\\nis nonetheless an extremely powerful one in today\\'s culture.\\nIf you can convince  people  to  work  energetically  for  a\\n\"cause,\" caring only enough for their personal welfare so as\\nto  remain  alive  enough  and  healthy  enough  to continue\\nworking--then you have a truly massive reservoir  of  energy\\nto draw from.  Equally clearly, this is just the sort of ap-\\npeal which tautologically cannot be utilized for egoistic or\\nlibertarian goals.  If I were to stand up before you tonight\\nand say something like, \"Listen, follow me as I enunciate my\\nnoble \"cause,\" contribute your money to support the \"cause,\"\\ngive  up  your  free  time  to  work for the \"cause,\" strive\\nselflessly to bring it about, and then (after you  and  your\\nchildren are dead) maybe your children\\'s children will actu-\\nally  live under egoism\"--you\\'d all think I\\'d gone mad.  And\\nof course you\\'d be right.  Because the point I\\'m  trying  to\\nmake is that libertarianism and/or egoism will be spread if,\\nwhen, and as, individual libertarians and/or egoists find it\\nprofitable and/or enjoyable to do so.    And  probably  only\\nthen.\\n\\n     While I certainly do not disparage the concept of poli-\\ntical  action, I don\\'t believe that it is the only, nor even\\nnecessarily the most cost-effective path  toward  increasing\\nfreedom  in  our time.  Consider that, for a fraction of the\\ninvestment in time, money and effort I might expend in  try-\\ning  to  convince  the  state to abolish wiretapping and all\\nforms of censorship--I can teach every libertarian who\\'s in-\\nterested  how  to   use   cryptography   to   abolish   them\\nunilaterally.\\n\\n     There  is  a  maxim--a proverb--generally attributed to\\nthe Eskimoes, which very likely most Libertarians  have  al-\\nready  heard.    And while you likely would not quarrel with\\nthe saying, you might well feel that you\\'ve heard  it  often\\nenough already, and that it has nothing further to teach us,\\nand moreover, that maybe you\\'re even tired of hearing it.  I\\nshall therefore repeat it now:\\n\\n     If you give a man a fish, the saying runs, you feed him\\nfor a day.  But if you teach a man how to fish, you feed him\\nfor a lifetime.\\n\\n     Your exposure to the quote was probably in some sort of\\na  \"workfare\"  vs.  \"welfare\"  context;  namely, that if you\\ngenuinely wish to help someone in need, you should teach him\\nhow to earn his sustenance, not simply how to  beg  for  it.\\nAnd of course this is true, if only because the next time he\\nis hungry, there might not be anybody around willing or even\\nable to give him a fish, whereas with the information on how\\nto fish, he is completely self sufficient.\\n\\n     But  I  submit  that this exhausts only the first order\\ncontent of the quote, and if there were nothing  further  to\\nglean  from  it,  I would have wasted your time by citing it\\nagain.  After all, it seems to have almost a crypto-altruist\\nslant, as though to imply that we should structure  our  ac-\\ntivities  so  as  to  maximize  the  benefits to such hungry\\nbeggars as we may encounter.\\n\\n     But consider:\\n\\n     Suppose this Eskimo doesn\\'t know how to  fish,  but  he\\ndoes  know  how  to hunt walruses.   You, on the other hand,\\nhave often gone hungry while traveling thru  walrus  country\\nbecause  you  had  no idea how to catch the damn things, and\\nthey ate most of the fish you could catch.  And now  suppose\\nthe  two  of  you  decide to exchange information, bartering\\nfishing knowledge for hunting knowledge.   Well,  the  first\\nthing  to  observe  is  that  a  transaction  of  this  type\\ncategorically and unambiguously refutes the Marxist  premise\\nthat  every  trade  must  have a \"winner\" and a \"loser;\" the\\nidea that if one person gains, it must necessarily be at the\\n\"expense\" of another person who loses.  Clearly, under  this\\nscenario, such is not the case.  Each party has gained some-\\nthing  he  did  not have before, and neither has been dimin-\\nished in any way.  When it comes to exchange of  information\\n(rather  than material objects) life is no longer a zero-sum\\ngame.  This is an extremely powerful notion.   The  \"law  of\\ndiminishing   returns,\"   the  \"first  and  second  laws  of\\nthermodynamics\"--all those \"laws\" which constrain our possi-\\nbilities in other contexts--no longer bind us!   Now  that\\'s\\nanarchy!\\n\\n     Or  consider  another possibility:  Suppose this hungry\\nEskimo never learned  to  fish  because  the  ruler  of  his\\nnation-state    had  decreed fishing illegal.   Because fish\\ncontain dangerous tiny bones, and sometimes sharp spines, he\\ntells us, the state has decreed that their  consumption--and\\neven  their  possession--are  too  hazardous to the people\\'s\\nhealth to be permitted . . . even by knowledgeable,  willing\\nadults.   Perhaps it is because citizens\\' bodies are thought\\nto be government property, and therefore it is the  function\\nof the state to punish those who improperly care for govern-\\nment  property.    Or perhaps it is because the state gener-\\nously extends to competent adults the \"benefits\" it provides\\nto children and to the mentally ill:  namely,  a  full-time,\\nall-pervasive supervisory conservatorship--so that they need\\nnot  trouble  themselves  with making choices about behavior\\nthought physically risky or morally \"naughty.\"  But, in  any\\ncase,  you  stare stupefied, while your Eskimo informant re-\\nlates how this law is taken so seriously that  a  friend  of\\nhis was recently imprisoned for years for the crime of \"pos-\\nsession of nine ounces of trout with intent to distribute.\"\\n\\n     Now  you  may  conclude  that  a society so grotesquely\\noppressive as to enforce a law of this  type  is  simply  an\\naffront to the dignity of all human beings.  You may go far-\\nther  and  decide to commit some portion of your discretion-\\nary, recreational time specifically to the task of thwarting\\nthis tyrant\\'s goal.  (Your rationale may be \"altruistic\"  in\\nthe   sense   of  wanting  to  liberate  the  oppressed,  or\\n\"egoistic\" in the sense of  proving  you  can  outsmart  the\\noppressor--or  very likely some combination of these or per-\\nhaps even other motives.)\\n\\n     But, since you have zero desire to become a  martyr  to\\nyour \"cause,\" you\\'re not about to mount a military campaign,\\nor  even try to run a boatload of fish through the blockade.\\nHowever, it is here that technology--and in  particular  in-\\nformation technology--can multiply your efficacy literally a\\nhundredfold.    I say \"literally,\" because for a fraction of\\nthe effort (and virtually none of  the  risk)  attendant  to\\nsmuggling in a hundred fish, you can quite readily produce a\\nhundred  Xerox copies of fishing instructions.  (If the tar-\\ngeted government, like present-day America, at least permits\\nopen  discussion  of  topics  whose  implementation  is  re-\\nstricted,  then that should suffice.  But, if the government\\nattempts to suppress the flow of information as  well,  then\\nyou will have to take a little more effort and perhaps write\\nyour  fishing manual on a floppy disk encrypted according to\\nyour mythical Eskimo\\'s public-key parameters.  But as far as\\nincreasing real-world access to fish you have  made  genuine\\nnonzero  headway--which  may  continue to snowball as others\\nre-disseminate the information you have provided.   And  you\\nhave not had to waste any of your time trying to convert id-\\neological  adversaries, or even trying to win over the unde-\\ncided.  Recall Harry Browne\\'s dictum  from  \"Freedom  in  an\\nUnfree World\" that the success of any endeavor is in general\\ninversely proportional to the number of people whose persua-\\nsion is necessary to its fulfilment.\\n\\n     If  you  look  at  history, you cannot deny that it has\\nbeen dramatically shaped by men with names like  Washington,\\nLincoln,  .  .  .  Nixon  .  . . Marcos . . . Duvalier . . .\\nKhadaffi . . .  and their ilk.  But it has also been  shaped\\nby  people with names like Edison, Curie, Marconi, Tesla and\\nWozniak.  And this latter shaping has been at least as  per-\\nvasive, and not nearly so bloody.\\n\\n     And  that\\'s  where  I\\'m  trying  to  take The LiberTech\\nProject.  Rather than beseeching the state to please not en-\\nslave, plunder or constrain us, I propose a libertarian net-\\nwork spreading  the  technologies  by  which  we  may  seize\\nfreedom for ourselves.\\n\\n     But here we must be a bit careful.  While it is not (at\\npresent)  illegal  to  encrypt  information  when government\\nwants to spy on you, there is no guarantee of what  the  fu-\\nture  may hold.  There have been bills introduced, for exam-\\nple, which would have made it a crime  to  wear  body  armor\\nwhen government wants to shoot you.  That is, if you were to\\ncommit certain crimes while wearing a Kevlar vest, then that\\nfact  would  constitute a separate federal crime of its own.\\nThis law to my knowledge has not passed . . . yet . . .  but\\nit does indicate how government thinks.\\n\\n     Other  technological  applications,  however, do indeed\\npose legal risks.  We recognize, for  example,  that  anyone\\nwho  helped a pre-Civil War slave escape on the \"underground\\nrailroad\" was making a clearly illegal use of technology--as\\nthe sovereign government of the United States of America  at\\nthat time found the buying and selling of human beings quite\\nas  acceptable  as  the buying and selling of cattle.  Simi-\\nlarly, during Prohibition, anyone who used  his  bathtub  to\\nferment  yeast and sugar into the illegal psychoactive drug,\\nalcohol--the controlled substance, wine--was using  technol-\\nogy  in a way that could get him shot dead by federal agents\\nfor his \"crime\"--unfortunately not to be  restored  to  life\\nwhen  Congress  reversed itself and re-permitted use of this\\ndrug.\\n\\n     So . . . to quote a former President,  un-indicted  co-\\nconspirator  and pardoned felon . . . \"Let me make one thing\\nperfectly clear:\"  The LiberTech Project does not  advocate,\\nparticipate  in, or conspire in the violation of any law--no\\nmatter how oppressive,  unconstitutional  or  simply  stupid\\nsuch  law may be.  It does engage in description (for educa-\\ntional and informational  purposes  only)  of  technological\\nprocesses,  and some of these processes (like flying a plane\\nor manufacturing a firearm) may well require appropriate li-\\ncensing to perform legally.    Fortunately,  no  license  is\\nneeded  for  the  distribution or receipt of information it-\\nself.\\n\\n     So, the next time you look at the political  scene  and\\ndespair,  thinking,  \"Well,  if 51% of the nation and 51% of\\nthis State, and 51% of this city have  to  turn  Libertarian\\nbefore  I\\'ll  be  free,  then  somebody might as well cut my\\ngoddamn throat now, and put me out of my  misery\"--recognize\\nthat  such  is not the case.  There exist ways to make your-\\nself free.\\n\\n     If you wish to explore such techniques via the Project,\\nyou are welcome to give me your name and address--or a  fake\\nname  and  mail  drop, for that matter--and you\\'ll go on the\\nmailing list for my erratically-published newsletter.    Any\\nfriends  or acquaintances whom you think would be interested\\nare welcome as well.  I\\'m not even asking for stamped  self-\\naddressed envelopes, since my printer can handle mailing la-\\nbels and actual postage costs are down in the noise compared\\nwith  the  other  efforts  in getting an issue out.   If you\\nshould have an idea to share, or even a  useful  product  to\\nplug,  I\\'ll be glad to have you write it up for publication.\\nEven if you want to be the proverbial \"free rider\" and  just\\nbenefit  from  what others contribute--you\\'re still welcome:\\nEverything will be public domain; feel free to  copy  it  or\\ngive it away (or sell it, for that matter, \\'cause if you can\\nget  money  for  it while I\\'m taking full-page ads trying to\\ngive it away, you\\'re certainly entitled to  your  capitalist\\nprofit . . .)  Anyway, every application of these principles\\nshould make the world just a little freer, and I\\'m certainly\\nwilling to underwrite that, at least for the forseeable  fu-\\nture.\\n\\n     I  will leave you with one final thought:  If you don\\'t\\nlearn how to beat your plowshares into  swords  before  they\\noutlaw  swords,  then you sure as HELL ought to learn before\\nthey outlaw plowshares too.\\n\\n                                       --Chuck Hammill\\n\\n                                 THE LIBERTECH PROJECT\\n                                 3194 Queensbury Drive\\n                               Los Angeles, California\\n                                                 90064\\n                                          310-836-4157\\n\\n                                    hammill@netcom.com\\n\\n[The above LiberTech address was updated December 1992, with the\\n permission of Chuck Hammill, by Russell Whitaker]\\n\\nThose interested in the issues raised in this piece should participate\\nin at least these newsgroups:\\n\\n                alt.privacy\\n                alt.security.pgp\\n                comp.org.eff.talk\\n                sci.crypt\\n\\nA copy of the RSA-based public key encryption program, PGP 2.1 (Pretty\\nGood Privacy), can be obtained at various ftp sites around the world.\\nOne such site is gate.demon.co.uk, where an MS-DOS version can be had by\\nanonymous ftp as pgp22.zip in /pub/pgp.\\n\\nVersions for other operating systems, including UNIX variants\\nand Macintosh, are also available.  Source code is also\\navailable.\\n\\nHere\\'s the blurb for PGP, by the way:\\n\\n- ----------------------  Quote ----------------------------------------\\nPGP (Pretty Good Privacy) ver 2.2 - RSA public-key encryption freeware\\nfor MSDOS, protects E-mail.  Lets you communicate securely with people\\nyou\\'ve never met, with no secure channels needed for prior exchange of\\nkeys.  Well featured and fast!  Excellent user documentation.\\n\\nPGP has sophisticated key management, an RSA/conventional hybrid\\nencryption scheme, message digests for digital signatures, data\\ncompression before encryption, and good ergonomic design.  Source\\ncode is free.\\n\\nFilenames:  pgp22.zip (executable and manuals), pgp22src.zip (sources)\\nKeywords:   PGP, Pretty Good Privacy, RSA, public key, encryption,\\n            privacy, authentication, signatures, email\\n- ---------------------- End Quote -------------------------------------\\n\\nRussell Earl Whitaker                   whitaker@eternity.demon.co.uk\\nCommunications Editor                                 AMiX: RWhitaker\\nEXTROPY: The Journal of Transhumanist Thought\\nBoard member, Extropy Institute (ExI)\\n\\n\\n-----BEGIN PGP SIGNATURE-----\\nVersion: 2.2']],\n",
       "      dtype=object)"
      ]
     },
     "metadata": {},
     "execution_count": 62
    }
   ],
   "source": [
    "test_data = df.iloc[index:index+1, :-1].values\n",
    "test_data"
   ]
  },
  {
   "cell_type": "code",
   "execution_count": 63,
   "metadata": {},
   "outputs": [
    {
     "output_type": "error",
     "ename": "AttributeError",
     "evalue": "'numpy.ndarray' object has no attribute 'lower'",
     "traceback": [
      "\u001b[1;31m---------------------------------------------------------------------------\u001b[0m",
      "\u001b[1;31mAttributeError\u001b[0m                            Traceback (most recent call last)",
      "\u001b[1;32m<ipython-input-63-fd31e9647c91>\u001b[0m in \u001b[0;36m<module>\u001b[1;34m\u001b[0m\n\u001b[1;32m----> 1\u001b[1;33m \u001b[0mpred\u001b[0m \u001b[1;33m=\u001b[0m \u001b[0mbest_tfid_sv\u001b[0m\u001b[1;33m.\u001b[0m\u001b[0mpredict\u001b[0m\u001b[1;33m(\u001b[0m\u001b[0mtest_data\u001b[0m\u001b[1;33m)\u001b[0m\u001b[1;33m\u001b[0m\u001b[1;33m\u001b[0m\u001b[0m\n\u001b[0m",
      "\u001b[1;32m~\\anaconda3\\lib\\site-packages\\sklearn\\utils\\metaestimators.py\u001b[0m in \u001b[0;36m<lambda>\u001b[1;34m(*args, **kwargs)\u001b[0m\n\u001b[0;32m    117\u001b[0m \u001b[1;33m\u001b[0m\u001b[0m\n\u001b[0;32m    118\u001b[0m         \u001b[1;31m# lambda, but not partial, allows help() to work with update_wrapper\u001b[0m\u001b[1;33m\u001b[0m\u001b[1;33m\u001b[0m\u001b[1;33m\u001b[0m\u001b[0m\n\u001b[1;32m--> 119\u001b[1;33m         \u001b[0mout\u001b[0m \u001b[1;33m=\u001b[0m \u001b[1;32mlambda\u001b[0m \u001b[1;33m*\u001b[0m\u001b[0margs\u001b[0m\u001b[1;33m,\u001b[0m \u001b[1;33m**\u001b[0m\u001b[0mkwargs\u001b[0m\u001b[1;33m:\u001b[0m \u001b[0mself\u001b[0m\u001b[1;33m.\u001b[0m\u001b[0mfn\u001b[0m\u001b[1;33m(\u001b[0m\u001b[0mobj\u001b[0m\u001b[1;33m,\u001b[0m \u001b[1;33m*\u001b[0m\u001b[0margs\u001b[0m\u001b[1;33m,\u001b[0m \u001b[1;33m**\u001b[0m\u001b[0mkwargs\u001b[0m\u001b[1;33m)\u001b[0m\u001b[1;33m\u001b[0m\u001b[1;33m\u001b[0m\u001b[0m\n\u001b[0m\u001b[0;32m    120\u001b[0m         \u001b[1;31m# update the docstring of the returned function\u001b[0m\u001b[1;33m\u001b[0m\u001b[1;33m\u001b[0m\u001b[1;33m\u001b[0m\u001b[0m\n\u001b[0;32m    121\u001b[0m         \u001b[0mupdate_wrapper\u001b[0m\u001b[1;33m(\u001b[0m\u001b[0mout\u001b[0m\u001b[1;33m,\u001b[0m \u001b[0mself\u001b[0m\u001b[1;33m.\u001b[0m\u001b[0mfn\u001b[0m\u001b[1;33m)\u001b[0m\u001b[1;33m\u001b[0m\u001b[1;33m\u001b[0m\u001b[0m\n",
      "\u001b[1;32m~\\anaconda3\\lib\\site-packages\\sklearn\\pipeline.py\u001b[0m in \u001b[0;36mpredict\u001b[1;34m(self, X, **predict_params)\u001b[0m\n\u001b[0;32m    405\u001b[0m         \u001b[0mXt\u001b[0m \u001b[1;33m=\u001b[0m \u001b[0mX\u001b[0m\u001b[1;33m\u001b[0m\u001b[1;33m\u001b[0m\u001b[0m\n\u001b[0;32m    406\u001b[0m         \u001b[1;32mfor\u001b[0m \u001b[0m_\u001b[0m\u001b[1;33m,\u001b[0m \u001b[0mname\u001b[0m\u001b[1;33m,\u001b[0m \u001b[0mtransform\u001b[0m \u001b[1;32min\u001b[0m \u001b[0mself\u001b[0m\u001b[1;33m.\u001b[0m\u001b[0m_iter\u001b[0m\u001b[1;33m(\u001b[0m\u001b[0mwith_final\u001b[0m\u001b[1;33m=\u001b[0m\u001b[1;32mFalse\u001b[0m\u001b[1;33m)\u001b[0m\u001b[1;33m:\u001b[0m\u001b[1;33m\u001b[0m\u001b[1;33m\u001b[0m\u001b[0m\n\u001b[1;32m--> 407\u001b[1;33m             \u001b[0mXt\u001b[0m \u001b[1;33m=\u001b[0m \u001b[0mtransform\u001b[0m\u001b[1;33m.\u001b[0m\u001b[0mtransform\u001b[0m\u001b[1;33m(\u001b[0m\u001b[0mXt\u001b[0m\u001b[1;33m)\u001b[0m\u001b[1;33m\u001b[0m\u001b[1;33m\u001b[0m\u001b[0m\n\u001b[0m\u001b[0;32m    408\u001b[0m         \u001b[1;32mreturn\u001b[0m \u001b[0mself\u001b[0m\u001b[1;33m.\u001b[0m\u001b[0msteps\u001b[0m\u001b[1;33m[\u001b[0m\u001b[1;33m-\u001b[0m\u001b[1;36m1\u001b[0m\u001b[1;33m]\u001b[0m\u001b[1;33m[\u001b[0m\u001b[1;33m-\u001b[0m\u001b[1;36m1\u001b[0m\u001b[1;33m]\u001b[0m\u001b[1;33m.\u001b[0m\u001b[0mpredict\u001b[0m\u001b[1;33m(\u001b[0m\u001b[0mXt\u001b[0m\u001b[1;33m,\u001b[0m \u001b[1;33m**\u001b[0m\u001b[0mpredict_params\u001b[0m\u001b[1;33m)\u001b[0m\u001b[1;33m\u001b[0m\u001b[1;33m\u001b[0m\u001b[0m\n\u001b[0;32m    409\u001b[0m \u001b[1;33m\u001b[0m\u001b[0m\n",
      "\u001b[1;32m~\\anaconda3\\lib\\site-packages\\sklearn\\feature_extraction\\text.py\u001b[0m in \u001b[0;36mtransform\u001b[1;34m(self, raw_documents, copy)\u001b[0m\n\u001b[0;32m   1877\u001b[0m                    \"be removed in 0.24.\")\n\u001b[0;32m   1878\u001b[0m             \u001b[0mwarnings\u001b[0m\u001b[1;33m.\u001b[0m\u001b[0mwarn\u001b[0m\u001b[1;33m(\u001b[0m\u001b[0mmsg\u001b[0m\u001b[1;33m,\u001b[0m \u001b[0mFutureWarning\u001b[0m\u001b[1;33m)\u001b[0m\u001b[1;33m\u001b[0m\u001b[1;33m\u001b[0m\u001b[0m\n\u001b[1;32m-> 1879\u001b[1;33m         \u001b[0mX\u001b[0m \u001b[1;33m=\u001b[0m \u001b[0msuper\u001b[0m\u001b[1;33m(\u001b[0m\u001b[1;33m)\u001b[0m\u001b[1;33m.\u001b[0m\u001b[0mtransform\u001b[0m\u001b[1;33m(\u001b[0m\u001b[0mraw_documents\u001b[0m\u001b[1;33m)\u001b[0m\u001b[1;33m\u001b[0m\u001b[1;33m\u001b[0m\u001b[0m\n\u001b[0m\u001b[0;32m   1880\u001b[0m         \u001b[1;32mreturn\u001b[0m \u001b[0mself\u001b[0m\u001b[1;33m.\u001b[0m\u001b[0m_tfidf\u001b[0m\u001b[1;33m.\u001b[0m\u001b[0mtransform\u001b[0m\u001b[1;33m(\u001b[0m\u001b[0mX\u001b[0m\u001b[1;33m,\u001b[0m \u001b[0mcopy\u001b[0m\u001b[1;33m=\u001b[0m\u001b[1;32mFalse\u001b[0m\u001b[1;33m)\u001b[0m\u001b[1;33m\u001b[0m\u001b[1;33m\u001b[0m\u001b[0m\n\u001b[0;32m   1881\u001b[0m \u001b[1;33m\u001b[0m\u001b[0m\n",
      "\u001b[1;32m~\\anaconda3\\lib\\site-packages\\sklearn\\feature_extraction\\text.py\u001b[0m in \u001b[0;36mtransform\u001b[1;34m(self, raw_documents)\u001b[0m\n\u001b[0;32m   1247\u001b[0m \u001b[1;33m\u001b[0m\u001b[0m\n\u001b[0;32m   1248\u001b[0m         \u001b[1;31m# use the same matrix-building strategy as fit_transform\u001b[0m\u001b[1;33m\u001b[0m\u001b[1;33m\u001b[0m\u001b[1;33m\u001b[0m\u001b[0m\n\u001b[1;32m-> 1249\u001b[1;33m         \u001b[0m_\u001b[0m\u001b[1;33m,\u001b[0m \u001b[0mX\u001b[0m \u001b[1;33m=\u001b[0m \u001b[0mself\u001b[0m\u001b[1;33m.\u001b[0m\u001b[0m_count_vocab\u001b[0m\u001b[1;33m(\u001b[0m\u001b[0mraw_documents\u001b[0m\u001b[1;33m,\u001b[0m \u001b[0mfixed_vocab\u001b[0m\u001b[1;33m=\u001b[0m\u001b[1;32mTrue\u001b[0m\u001b[1;33m)\u001b[0m\u001b[1;33m\u001b[0m\u001b[1;33m\u001b[0m\u001b[0m\n\u001b[0m\u001b[0;32m   1250\u001b[0m         \u001b[1;32mif\u001b[0m \u001b[0mself\u001b[0m\u001b[1;33m.\u001b[0m\u001b[0mbinary\u001b[0m\u001b[1;33m:\u001b[0m\u001b[1;33m\u001b[0m\u001b[1;33m\u001b[0m\u001b[0m\n\u001b[0;32m   1251\u001b[0m             \u001b[0mX\u001b[0m\u001b[1;33m.\u001b[0m\u001b[0mdata\u001b[0m\u001b[1;33m.\u001b[0m\u001b[0mfill\u001b[0m\u001b[1;33m(\u001b[0m\u001b[1;36m1\u001b[0m\u001b[1;33m)\u001b[0m\u001b[1;33m\u001b[0m\u001b[1;33m\u001b[0m\u001b[0m\n",
      "\u001b[1;32m~\\anaconda3\\lib\\site-packages\\sklearn\\feature_extraction\\text.py\u001b[0m in \u001b[0;36m_count_vocab\u001b[1;34m(self, raw_documents, fixed_vocab)\u001b[0m\n\u001b[0;32m   1108\u001b[0m         \u001b[1;32mfor\u001b[0m \u001b[0mdoc\u001b[0m \u001b[1;32min\u001b[0m \u001b[0mraw_documents\u001b[0m\u001b[1;33m:\u001b[0m\u001b[1;33m\u001b[0m\u001b[1;33m\u001b[0m\u001b[0m\n\u001b[0;32m   1109\u001b[0m             \u001b[0mfeature_counter\u001b[0m \u001b[1;33m=\u001b[0m \u001b[1;33m{\u001b[0m\u001b[1;33m}\u001b[0m\u001b[1;33m\u001b[0m\u001b[1;33m\u001b[0m\u001b[0m\n\u001b[1;32m-> 1110\u001b[1;33m             \u001b[1;32mfor\u001b[0m \u001b[0mfeature\u001b[0m \u001b[1;32min\u001b[0m \u001b[0manalyze\u001b[0m\u001b[1;33m(\u001b[0m\u001b[0mdoc\u001b[0m\u001b[1;33m)\u001b[0m\u001b[1;33m:\u001b[0m\u001b[1;33m\u001b[0m\u001b[1;33m\u001b[0m\u001b[0m\n\u001b[0m\u001b[0;32m   1111\u001b[0m                 \u001b[1;32mtry\u001b[0m\u001b[1;33m:\u001b[0m\u001b[1;33m\u001b[0m\u001b[1;33m\u001b[0m\u001b[0m\n\u001b[0;32m   1112\u001b[0m                     \u001b[0mfeature_idx\u001b[0m \u001b[1;33m=\u001b[0m \u001b[0mvocabulary\u001b[0m\u001b[1;33m[\u001b[0m\u001b[0mfeature\u001b[0m\u001b[1;33m]\u001b[0m\u001b[1;33m\u001b[0m\u001b[1;33m\u001b[0m\u001b[0m\n",
      "\u001b[1;32m~\\anaconda3\\lib\\site-packages\\sklearn\\feature_extraction\\text.py\u001b[0m in \u001b[0;36m_analyze\u001b[1;34m(doc, analyzer, tokenizer, ngrams, preprocessor, decoder, stop_words)\u001b[0m\n\u001b[0;32m    102\u001b[0m     \u001b[1;32melse\u001b[0m\u001b[1;33m:\u001b[0m\u001b[1;33m\u001b[0m\u001b[1;33m\u001b[0m\u001b[0m\n\u001b[0;32m    103\u001b[0m         \u001b[1;32mif\u001b[0m \u001b[0mpreprocessor\u001b[0m \u001b[1;32mis\u001b[0m \u001b[1;32mnot\u001b[0m \u001b[1;32mNone\u001b[0m\u001b[1;33m:\u001b[0m\u001b[1;33m\u001b[0m\u001b[1;33m\u001b[0m\u001b[0m\n\u001b[1;32m--> 104\u001b[1;33m             \u001b[0mdoc\u001b[0m \u001b[1;33m=\u001b[0m \u001b[0mpreprocessor\u001b[0m\u001b[1;33m(\u001b[0m\u001b[0mdoc\u001b[0m\u001b[1;33m)\u001b[0m\u001b[1;33m\u001b[0m\u001b[1;33m\u001b[0m\u001b[0m\n\u001b[0m\u001b[0;32m    105\u001b[0m         \u001b[1;32mif\u001b[0m \u001b[0mtokenizer\u001b[0m \u001b[1;32mis\u001b[0m \u001b[1;32mnot\u001b[0m \u001b[1;32mNone\u001b[0m\u001b[1;33m:\u001b[0m\u001b[1;33m\u001b[0m\u001b[1;33m\u001b[0m\u001b[0m\n\u001b[0;32m    106\u001b[0m             \u001b[0mdoc\u001b[0m \u001b[1;33m=\u001b[0m \u001b[0mtokenizer\u001b[0m\u001b[1;33m(\u001b[0m\u001b[0mdoc\u001b[0m\u001b[1;33m)\u001b[0m\u001b[1;33m\u001b[0m\u001b[1;33m\u001b[0m\u001b[0m\n",
      "\u001b[1;32m~\\anaconda3\\lib\\site-packages\\sklearn\\feature_extraction\\text.py\u001b[0m in \u001b[0;36m_preprocess\u001b[1;34m(doc, accent_function, lower)\u001b[0m\n\u001b[0;32m     67\u001b[0m     \"\"\"\n\u001b[0;32m     68\u001b[0m     \u001b[1;32mif\u001b[0m \u001b[0mlower\u001b[0m\u001b[1;33m:\u001b[0m\u001b[1;33m\u001b[0m\u001b[1;33m\u001b[0m\u001b[0m\n\u001b[1;32m---> 69\u001b[1;33m         \u001b[0mdoc\u001b[0m \u001b[1;33m=\u001b[0m \u001b[0mdoc\u001b[0m\u001b[1;33m.\u001b[0m\u001b[0mlower\u001b[0m\u001b[1;33m(\u001b[0m\u001b[1;33m)\u001b[0m\u001b[1;33m\u001b[0m\u001b[1;33m\u001b[0m\u001b[0m\n\u001b[0m\u001b[0;32m     70\u001b[0m     \u001b[1;32mif\u001b[0m \u001b[0maccent_function\u001b[0m \u001b[1;32mis\u001b[0m \u001b[1;32mnot\u001b[0m \u001b[1;32mNone\u001b[0m\u001b[1;33m:\u001b[0m\u001b[1;33m\u001b[0m\u001b[1;33m\u001b[0m\u001b[0m\n\u001b[0;32m     71\u001b[0m         \u001b[0mdoc\u001b[0m \u001b[1;33m=\u001b[0m \u001b[0maccent_function\u001b[0m\u001b[1;33m(\u001b[0m\u001b[0mdoc\u001b[0m\u001b[1;33m)\u001b[0m\u001b[1;33m\u001b[0m\u001b[1;33m\u001b[0m\u001b[0m\n",
      "\u001b[1;31mAttributeError\u001b[0m: 'numpy.ndarray' object has no attribute 'lower'"
     ]
    }
   ],
   "source": [
    "pred = best_tfid_sv.predict(test_data)"
   ]
  },
  {
   "cell_type": "code",
   "execution_count": null,
   "metadata": {},
   "outputs": [],
   "source": [
    "pred[0], label"
   ]
  },
  {
   "cell_type": "code",
   "execution_count": null,
   "metadata": {},
   "outputs": [],
   "source": [
    "news_data.target_names"
   ]
  },
  {
   "cell_type": "code",
   "execution_count": null,
   "metadata": {},
   "outputs": [],
   "source": [
    "target_names = dict(zip(range(20),news_data.target_names))\n",
    "target_names"
   ]
  },
  {
   "cell_type": "code",
   "execution_count": null,
   "metadata": {},
   "outputs": [],
   "source": []
  }
 ]
}