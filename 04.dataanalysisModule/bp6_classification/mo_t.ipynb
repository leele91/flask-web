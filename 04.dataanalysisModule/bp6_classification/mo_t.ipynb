{
 "metadata": {
  "language_info": {
   "codemirror_mode": {
    "name": "ipython",
    "version": 3
   },
   "file_extension": ".py",
   "mimetype": "text/x-python",
   "name": "python",
   "nbconvert_exporter": "python",
   "pygments_lexer": "ipython3",
   "version": "3.8.3-final"
  },
  "orig_nbformat": 2,
  "kernelspec": {
   "name": "python3",
   "display_name": "Python 3",
   "language": "python"
  }
 },
 "nbformat": 4,
 "nbformat_minor": 2,
 "cells": [
  {
   "cell_type": "code",
   "execution_count": 1,
   "metadata": {},
   "outputs": [],
   "source": [
    "import pandas as pd \n",
    "import joblib\n",
    "from sklearn.model_selection import GridSearchCV\n",
    "from sklearn.metrics import accuracy_score\n",
    "\n",
    "from sklearn.preprocessing import StandardScaler, MinMaxScaler\n",
    "from sklearn.linear_model import LogisticRegression\n",
    "from sklearn.tree import DecisionTreeClassifier\n",
    "from sklearn.svm import SVC"
   ]
  },
  {
   "cell_type": "code",
   "execution_count": 2,
   "metadata": {},
   "outputs": [
    {
     "output_type": "execute_result",
     "data": {
      "text/plain": [
       "   mean radius  mean texture  mean perimeter  mean area  mean smoothness  \\\n",
       "0        25.73         17.46          174.20     2010.0          0.11490   \n",
       "1        13.50         12.71           85.69      566.2          0.07376   \n",
       "2        17.35         23.06          111.00      933.1          0.08662   \n",
       "\n",
       "   mean compactness  mean concavity  mean concave points  mean symmetry  \\\n",
       "0           0.23630        0.336800             0.191300         0.1956   \n",
       "1           0.03614        0.002758             0.004419         0.1365   \n",
       "2           0.06290        0.028910             0.028370         0.1564   \n",
       "\n",
       "   mean fractal dimension  ...  worst texture  worst perimeter  worst area  \\\n",
       "0                 0.06121  ...          23.58           229.30      3234.0   \n",
       "1                 0.05335  ...          16.94            95.48       698.7   \n",
       "2                 0.05307  ...          31.47           128.20      1218.0   \n",
       "\n",
       "   worst smoothness  worst compactness  worst concavity  worst concave points  \\\n",
       "0           0.15300            0.59370          0.64510               0.27560   \n",
       "1           0.09023            0.05836          0.01379               0.02210   \n",
       "2           0.12400            0.14860          0.12110               0.08235   \n",
       "\n",
       "   worst symmetry  worst fractal dimension  target  \n",
       "0          0.3690                  0.08815       0  \n",
       "1          0.2267                  0.06192       1  \n",
       "2          0.2452                  0.06515       0  \n",
       "\n",
       "[3 rows x 31 columns]"
      ],
      "text/html": "<div>\n<style scoped>\n    .dataframe tbody tr th:only-of-type {\n        vertical-align: middle;\n    }\n\n    .dataframe tbody tr th {\n        vertical-align: top;\n    }\n\n    .dataframe thead th {\n        text-align: right;\n    }\n</style>\n<table border=\"1\" class=\"dataframe\">\n  <thead>\n    <tr style=\"text-align: right;\">\n      <th></th>\n      <th>mean radius</th>\n      <th>mean texture</th>\n      <th>mean perimeter</th>\n      <th>mean area</th>\n      <th>mean smoothness</th>\n      <th>mean compactness</th>\n      <th>mean concavity</th>\n      <th>mean concave points</th>\n      <th>mean symmetry</th>\n      <th>mean fractal dimension</th>\n      <th>...</th>\n      <th>worst texture</th>\n      <th>worst perimeter</th>\n      <th>worst area</th>\n      <th>worst smoothness</th>\n      <th>worst compactness</th>\n      <th>worst concavity</th>\n      <th>worst concave points</th>\n      <th>worst symmetry</th>\n      <th>worst fractal dimension</th>\n      <th>target</th>\n    </tr>\n  </thead>\n  <tbody>\n    <tr>\n      <th>0</th>\n      <td>25.73</td>\n      <td>17.46</td>\n      <td>174.20</td>\n      <td>2010.0</td>\n      <td>0.11490</td>\n      <td>0.23630</td>\n      <td>0.336800</td>\n      <td>0.191300</td>\n      <td>0.1956</td>\n      <td>0.06121</td>\n      <td>...</td>\n      <td>23.58</td>\n      <td>229.30</td>\n      <td>3234.0</td>\n      <td>0.15300</td>\n      <td>0.59370</td>\n      <td>0.64510</td>\n      <td>0.27560</td>\n      <td>0.3690</td>\n      <td>0.08815</td>\n      <td>0</td>\n    </tr>\n    <tr>\n      <th>1</th>\n      <td>13.50</td>\n      <td>12.71</td>\n      <td>85.69</td>\n      <td>566.2</td>\n      <td>0.07376</td>\n      <td>0.03614</td>\n      <td>0.002758</td>\n      <td>0.004419</td>\n      <td>0.1365</td>\n      <td>0.05335</td>\n      <td>...</td>\n      <td>16.94</td>\n      <td>95.48</td>\n      <td>698.7</td>\n      <td>0.09023</td>\n      <td>0.05836</td>\n      <td>0.01379</td>\n      <td>0.02210</td>\n      <td>0.2267</td>\n      <td>0.06192</td>\n      <td>1</td>\n    </tr>\n    <tr>\n      <th>2</th>\n      <td>17.35</td>\n      <td>23.06</td>\n      <td>111.00</td>\n      <td>933.1</td>\n      <td>0.08662</td>\n      <td>0.06290</td>\n      <td>0.028910</td>\n      <td>0.028370</td>\n      <td>0.1564</td>\n      <td>0.05307</td>\n      <td>...</td>\n      <td>31.47</td>\n      <td>128.20</td>\n      <td>1218.0</td>\n      <td>0.12400</td>\n      <td>0.14860</td>\n      <td>0.12110</td>\n      <td>0.08235</td>\n      <td>0.2452</td>\n      <td>0.06515</td>\n      <td>0</td>\n    </tr>\n  </tbody>\n</table>\n<p>3 rows × 31 columns</p>\n</div>"
     },
     "metadata": {},
     "execution_count": 2
    }
   ],
   "source": [
    "df = pd.read_csv('../static/data/cancer_train.csv')\n",
    "df.head(3)"
   ]
  },
  {
   "cell_type": "code",
   "execution_count": 3,
   "metadata": {},
   "outputs": [
    {
     "output_type": "execute_result",
     "data": {
      "text/plain": [
       "((426, 30), (426,))"
      ]
     },
     "metadata": {},
     "execution_count": 3
    }
   ],
   "source": [
    "y_train = df.target.values\n",
    "scaler = MinMaxScaler()\n",
    "X_train = scaler.fit_transform(df.drop(columns='target', axis=1))\n",
    "X_train.shape, y_train.shape"
   ]
  },
  {
   "cell_type": "code",
   "execution_count": 4,
   "metadata": {},
   "outputs": [
    {
     "output_type": "execute_result",
     "data": {
      "text/plain": [
       "((426, 30), (426,))"
      ]
     },
     "metadata": {},
     "execution_count": 4
    }
   ],
   "source": [
    "df = pd.read_csv('../static/data/cancer_test.csv')\n",
    "y_test = df.target.values\n",
    "X_test = scaler.fit_transform(df.drop(columns='target', axis=1))\n",
    "X_test.shape, y_test.shape"
   ]
  },
  {
   "source": [
    "### 1. Logistic Regression"
   ],
   "cell_type": "markdown",
   "metadata": {}
  },
  {
   "cell_type": "code",
   "execution_count": 5,
   "metadata": {},
   "outputs": [
    {
     "output_type": "execute_result",
     "data": {
      "text/plain": [
       "{'C': 1.0,\n",
       " 'class_weight': None,\n",
       " 'dual': False,\n",
       " 'fit_intercept': True,\n",
       " 'intercept_scaling': 1,\n",
       " 'l1_ratio': None,\n",
       " 'max_iter': 100,\n",
       " 'multi_class': 'auto',\n",
       " 'n_jobs': None,\n",
       " 'penalty': 'l2',\n",
       " 'random_state': None,\n",
       " 'solver': 'lbfgs',\n",
       " 'tol': 0.0001,\n",
       " 'verbose': 0,\n",
       " 'warm_start': False}"
      ]
     },
     "metadata": {},
     "execution_count": 5
    }
   ],
   "source": [
    "lr_clf = LogisticRegression()\n",
    "lr_clf.get_params()"
   ]
  },
  {
   "cell_type": "code",
   "execution_count": 6,
   "metadata": {},
   "outputs": [],
   "source": [
    "params = {\n",
    "    'C': [1, 3, 5, 7, 10, 20]\n",
    "    # 'C': [0.1, 1, 5, 10]\n",
    "}"
   ]
  },
  {
   "cell_type": "code",
   "execution_count": 7,
   "metadata": {},
   "outputs": [
    {
     "output_type": "stream",
     "name": "stdout",
     "text": [
      "최고 평균 정확도: 0.9741\n최적 파라미터: {'C': 5}\n"
     ]
    }
   ],
   "source": [
    "grid_cv = GridSearchCV(lr_clf, param_grid=params, scoring='accuracy', cv=5)\n",
    "grid_cv.fit(X_train, y_train)\n",
    "print(f'최고 평균 정확도: {grid_cv.best_score_:.4f}')\n",
    "print('최적 파라미터:', grid_cv.best_params_) # best_params_: 좋은 파라미터를 보여줌."
   ]
  },
  {
   "cell_type": "code",
   "execution_count": 8,
   "metadata": {},
   "outputs": [
    {
     "output_type": "stream",
     "name": "stdout",
     "text": [
      "평균 정확도 : 0.9765\n"
     ]
    }
   ],
   "source": [
    "best_lr = grid_cv.best_estimator_ # best_estimator_ : 최적의 파라미터로 모델 생성\n",
    "pred = best_lr.predict(X_test)\n",
    "acc_lr = accuracy_score(y_test, pred)\n",
    "print(f'평균 정확도 : {acc_lr:.4f}')"
   ]
  },
  {
   "cell_type": "code",
   "execution_count": 9,
   "metadata": {},
   "outputs": [
    {
     "output_type": "execute_result",
     "data": {
      "text/plain": [
       "['../static/model/cancer_lr.pkl']"
      ]
     },
     "metadata": {},
     "execution_count": 9
    }
   ],
   "source": [
    "joblib.dump(best_lr, '../static/model/cancer_lr.pkl')"
   ]
  },
  {
   "source": [
    "### 2. Decision Tree"
   ],
   "cell_type": "markdown",
   "metadata": {}
  },
  {
   "cell_type": "code",
   "execution_count": 10,
   "metadata": {},
   "outputs": [
    {
     "output_type": "execute_result",
     "data": {
      "text/plain": [
       "{'ccp_alpha': 0.0,\n",
       " 'class_weight': None,\n",
       " 'criterion': 'gini',\n",
       " 'max_depth': None,\n",
       " 'max_features': None,\n",
       " 'max_leaf_nodes': None,\n",
       " 'min_impurity_decrease': 0.0,\n",
       " 'min_impurity_split': None,\n",
       " 'min_samples_leaf': 1,\n",
       " 'min_samples_split': 2,\n",
       " 'min_weight_fraction_leaf': 0.0,\n",
       " 'presort': 'deprecated',\n",
       " 'random_state': None,\n",
       " 'splitter': 'best'}"
      ]
     },
     "metadata": {},
     "execution_count": 10
    }
   ],
   "source": [
    "dt_clf = DecisionTreeClassifier()\n",
    "dt_clf.get_params()"
   ]
  },
  {
   "cell_type": "code",
   "execution_count": 15,
   "metadata": {},
   "outputs": [],
   "source": [
    "params = {\n",
    "    'max_depth': [1, 3, 6, 8, 10],\n",
    "    'min_samples_split': [1, 3, 6]\n",
    "}"
   ]
  },
  {
   "cell_type": "code",
   "execution_count": 16,
   "metadata": {},
   "outputs": [
    {
     "output_type": "stream",
     "name": "stdout",
     "text": [
      "최고 평균 정확도: 0.9389\n최적 파라미터: {'max_depth': 8, 'min_samples_split': 3}\n"
     ]
    }
   ],
   "source": [
    "grid_cv = GridSearchCV(dt_clf, param_grid=params, scoring='accuracy', cv=5)\n",
    "grid_cv.fit(X_train, y_train)\n",
    "print(f'최고 평균 정확도: {grid_cv.best_score_:.4f}')\n",
    "print('최적 파라미터:', grid_cv.best_params_) # best_params_: 좋은 파라미터를 보여줌."
   ]
  },
  {
   "cell_type": "code",
   "execution_count": 17,
   "metadata": {},
   "outputs": [
    {
     "output_type": "stream",
     "name": "stdout",
     "text": [
      "평균 정확도 : 0.9953\n"
     ]
    }
   ],
   "source": [
    "best_dt = grid_cv.best_estimator_ # best_estimator_ : 최적의 파라미터로 모델 생성\n",
    "pred = best_dt.predict(X_test)\n",
    "acc_dt = accuracy_score(y_test, pred)\n",
    "print(f'평균 정확도 : {acc_dt:.4f}')"
   ]
  },
  {
   "cell_type": "code",
   "execution_count": 18,
   "metadata": {},
   "outputs": [
    {
     "output_type": "execute_result",
     "data": {
      "text/plain": [
       "['../static/model/cancer_dt.pkl']"
      ]
     },
     "metadata": {},
     "execution_count": 18
    }
   ],
   "source": [
    "joblib.dump(best_dt, '../static/model/cancer_dt.pkl')"
   ]
  },
  {
   "source": [
    "### 3. SVM"
   ],
   "cell_type": "markdown",
   "metadata": {}
  },
  {
   "cell_type": "code",
   "execution_count": 19,
   "metadata": {},
   "outputs": [
    {
     "output_type": "execute_result",
     "data": {
      "text/plain": [
       "{'C': 1.0,\n",
       " 'break_ties': False,\n",
       " 'cache_size': 200,\n",
       " 'class_weight': None,\n",
       " 'coef0': 0.0,\n",
       " 'decision_function_shape': 'ovr',\n",
       " 'degree': 3,\n",
       " 'gamma': 'scale',\n",
       " 'kernel': 'rbf',\n",
       " 'max_iter': -1,\n",
       " 'probability': False,\n",
       " 'random_state': None,\n",
       " 'shrinking': True,\n",
       " 'tol': 0.001,\n",
       " 'verbose': False}"
      ]
     },
     "metadata": {},
     "execution_count": 19
    }
   ],
   "source": [
    "sv_clf = SVC()\n",
    "sv_clf.get_params()"
   ]
  },
  {
   "cell_type": "code",
   "execution_count": 20,
   "metadata": {},
   "outputs": [],
   "source": [
    "params = {\n",
    "    'C': [1.0, 1, 5, 7, 8, 10]\n",
    "    # 'C': [0.1, 1, 5, 10]\n",
    "}"
   ]
  },
  {
   "cell_type": "code",
   "execution_count": 21,
   "metadata": {},
   "outputs": [
    {
     "output_type": "stream",
     "name": "stdout",
     "text": [
      "최고 평균 정확도: 0.9789\n최적 파라미터: {'C': 7}\n"
     ]
    }
   ],
   "source": [
    "grid_cv = GridSearchCV(sv_clf, param_grid=params, scoring='accuracy', cv=5)\n",
    "grid_cv.fit(X_train, y_train)\n",
    "print(f'최고 평균 정확도: {grid_cv.best_score_:.4f}')\n",
    "print('최적 파라미터:', grid_cv.best_params_) # best_params_: 좋은 파라미터를 보여줌."
   ]
  },
  {
   "cell_type": "code",
   "execution_count": 22,
   "metadata": {},
   "outputs": [
    {
     "output_type": "stream",
     "name": "stdout",
     "text": [
      "평균 정확도 : 0.9883\n"
     ]
    }
   ],
   "source": [
    "best_sv = grid_cv.best_estimator_ # best_estimator_ : 최적의 파라미터로 모델 생성\n",
    "pred = best_sv.predict(X_test)\n",
    "acc_sv = accuracy_score(y_test, pred)\n",
    "print(f'평균 정확도 : {acc_sv:.4f}')"
   ]
  },
  {
   "cell_type": "code",
   "execution_count": 23,
   "metadata": {},
   "outputs": [
    {
     "output_type": "execute_result",
     "data": {
      "text/plain": [
       "['../static/model/cancer_sv.pkl']"
      ]
     },
     "metadata": {},
     "execution_count": 23
    }
   ],
   "source": [
    "joblib.dump(best_sv, '../static/model/cancer_sv.pkl')"
   ]
  },
  {
   "source": [
    "### Test"
   ],
   "cell_type": "markdown",
   "metadata": {}
  },
  {
   "cell_type": "code",
   "execution_count": 34,
   "metadata": {},
   "outputs": [
    {
     "output_type": "execute_result",
     "data": {
      "text/plain": [
       "(426, 30)"
      ]
     },
     "metadata": {},
     "execution_count": 34
    }
   ],
   "source": [
    "index = 10\n",
    "df = pd.read_csv('../static/data/cancer_test.csv')\n",
    "scaled_test = scaler.fit_transform(df.iloc[:, :-1])\n",
    "scaled_test.shape"
   ]
  },
  {
   "cell_type": "code",
   "execution_count": 35,
   "metadata": {},
   "outputs": [
    {
     "output_type": "execute_result",
     "data": {
      "text/plain": [
       "array([[0.26072704, 0.21245675, 0.24736217, 0.13887593, 0.35289338,\n",
       "        0.15002147, 0.07900656, 0.11292247, 0.29524826, 0.19334457,\n",
       "        0.05707247, 0.14692362, 0.05493769, 0.02405313, 0.10677499,\n",
       "        0.11970138, 0.06010533, 0.19474328, 0.08411662, 0.07977702,\n",
       "        0.21985059, 0.28933873, 0.19572688, 0.1046746 , 0.31535692,\n",
       "        0.15233189, 0.13602236, 0.2975945 , 0.20756949, 0.138069  ]])"
      ]
     },
     "metadata": {},
     "execution_count": 35
    }
   ],
   "source": [
    "test_data = scaled_test[index, :].reshape(1,-1)\n",
    "test_data"
   ]
  },
  {
   "cell_type": "code",
   "execution_count": 36,
   "metadata": {},
   "outputs": [
    {
     "output_type": "execute_result",
     "data": {
      "text/plain": [
       "1"
      ]
     },
     "metadata": {},
     "execution_count": 36
    }
   ],
   "source": [
    "label = df.iloc[index, -1]\n",
    "label"
   ]
  },
  {
   "cell_type": "code",
   "execution_count": 37,
   "metadata": {},
   "outputs": [],
   "source": [
    "pred_lr = best_lr.predict(test_data)\n",
    "pred_sv = best_sv.predict(test_data)\n",
    "pred_dt = best_dt.predict(test_data)"
   ]
  },
  {
   "cell_type": "code",
   "execution_count": 38,
   "metadata": {},
   "outputs": [
    {
     "output_type": "execute_result",
     "data": {
      "text/plain": [
       "(1, 1, 1, 1)"
      ]
     },
     "metadata": {},
     "execution_count": 38
    }
   ],
   "source": [
    "label, pred_lr[0], pred_sv[0], pred_dt[0]"
   ]
  },
  {
   "cell_type": "code",
   "execution_count": 43,
   "metadata": {},
   "outputs": [],
   "source": [
    "option_dict = {'label':label, 'pred_lr':pred_lr[0], 'area_ratio': pred_sv[0], 'per_person':pred_dt[0]}"
   ]
  },
  {
   "cell_type": "code",
   "execution_count": 44,
   "metadata": {},
   "outputs": [
    {
     "output_type": "execute_result",
     "data": {
      "text/plain": [
       "{'label': 1, 'pred_lr': 1, 'area_ratio': 1, 'per_person': 1}"
      ]
     },
     "metadata": {},
     "execution_count": 44
    }
   ],
   "source": [
    "option_dict"
   ]
  },
  {
   "cell_type": "code",
   "execution_count": null,
   "metadata": {},
   "outputs": [],
   "source": []
  }
 ]
}