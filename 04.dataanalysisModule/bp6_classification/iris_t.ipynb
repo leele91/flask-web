{
 "metadata": {
  "language_info": {
   "codemirror_mode": {
    "name": "ipython",
    "version": 3
   },
   "file_extension": ".py",
   "mimetype": "text/x-python",
   "name": "python",
   "nbconvert_exporter": "python",
   "pygments_lexer": "ipython3",
   "version": "3.8.3-final"
  },
  "orig_nbformat": 2,
  "kernelspec": {
   "name": "python3",
   "display_name": "Python 3",
   "language": "python"
  }
 },
 "nbformat": 4,
 "nbformat_minor": 2,
 "cells": [
  {
   "cell_type": "code",
   "execution_count": 1,
   "metadata": {},
   "outputs": [],
   "source": [
    "import pandas as pd \n",
    "import joblib\n",
    "from sklearn.model_selection import GridSearchCV\n",
    "from sklearn.metrics import accuracy_score\n",
    "\n",
    "from sklearn.preprocessing import StandardScaler, MinMaxScaler\n",
    "from sklearn.linear_model import LogisticRegression\n",
    "from sklearn.tree import DecisionTreeClassifier\n",
    "from sklearn.svm import SVC\n",
    "from sklearn.ensemble import RandomForestClassifier\n",
    "from sklearn.neighbors import KNeighborsClassifier"
   ]
  },
  {
   "cell_type": "code",
   "execution_count": 2,
   "metadata": {},
   "outputs": [
    {
     "output_type": "execute_result",
     "data": {
      "text/plain": [
       "   sepal length (cm)  sepal width (cm)  petal length (cm)  petal width (cm)  \\\n",
       "0                5.1               3.3                1.7               0.5   \n",
       "1                6.1               3.0                4.9               1.8   \n",
       "2                5.1               3.4                1.5               0.2   \n",
       "3                5.1               3.5                1.4               0.3   \n",
       "4                5.2               3.4                1.4               0.2   \n",
       "\n",
       "   target  \n",
       "0       0  \n",
       "1       2  \n",
       "2       0  \n",
       "3       0  \n",
       "4       0  "
      ],
      "text/html": "<div>\n<style scoped>\n    .dataframe tbody tr th:only-of-type {\n        vertical-align: middle;\n    }\n\n    .dataframe tbody tr th {\n        vertical-align: top;\n    }\n\n    .dataframe thead th {\n        text-align: right;\n    }\n</style>\n<table border=\"1\" class=\"dataframe\">\n  <thead>\n    <tr style=\"text-align: right;\">\n      <th></th>\n      <th>sepal length (cm)</th>\n      <th>sepal width (cm)</th>\n      <th>petal length (cm)</th>\n      <th>petal width (cm)</th>\n      <th>target</th>\n    </tr>\n  </thead>\n  <tbody>\n    <tr>\n      <th>0</th>\n      <td>5.1</td>\n      <td>3.3</td>\n      <td>1.7</td>\n      <td>0.5</td>\n      <td>0</td>\n    </tr>\n    <tr>\n      <th>1</th>\n      <td>6.1</td>\n      <td>3.0</td>\n      <td>4.9</td>\n      <td>1.8</td>\n      <td>2</td>\n    </tr>\n    <tr>\n      <th>2</th>\n      <td>5.1</td>\n      <td>3.4</td>\n      <td>1.5</td>\n      <td>0.2</td>\n      <td>0</td>\n    </tr>\n    <tr>\n      <th>3</th>\n      <td>5.1</td>\n      <td>3.5</td>\n      <td>1.4</td>\n      <td>0.3</td>\n      <td>0</td>\n    </tr>\n    <tr>\n      <th>4</th>\n      <td>5.2</td>\n      <td>3.4</td>\n      <td>1.4</td>\n      <td>0.2</td>\n      <td>0</td>\n    </tr>\n  </tbody>\n</table>\n</div>"
     },
     "metadata": {},
     "execution_count": 2
    }
   ],
   "source": [
    "df_train = pd.read_csv('../static/data/iris_train.csv')\n",
    "df_train.head()"
   ]
  },
  {
   "cell_type": "code",
   "execution_count": 3,
   "metadata": {},
   "outputs": [
    {
     "output_type": "execute_result",
     "data": {
      "text/plain": [
       "((112, 4), (112,))"
      ]
     },
     "metadata": {},
     "execution_count": 3
    }
   ],
   "source": [
    "X_train = df_train.iloc[:, :-1].values\n",
    "y_train = df_train.iloc[:, -1].values\n",
    "X_train.shape, y_train.shape"
   ]
  },
  {
   "cell_type": "code",
   "execution_count": 4,
   "metadata": {},
   "outputs": [
    {
     "output_type": "execute_result",
     "data": {
      "text/plain": [
       "   sepal length (cm)  sepal width (cm)  petal length (cm)  petal width (cm)  \\\n",
       "0                4.8               3.0                1.4               0.3   \n",
       "1                4.6               3.6                1.0               0.2   \n",
       "2                4.8               3.0                1.4               0.1   \n",
       "3                4.7               3.2                1.6               0.2   \n",
       "4                4.9               2.4                3.3               1.0   \n",
       "\n",
       "   target  \n",
       "0       0  \n",
       "1       0  \n",
       "2       0  \n",
       "3       0  \n",
       "4       1  "
      ],
      "text/html": "<div>\n<style scoped>\n    .dataframe tbody tr th:only-of-type {\n        vertical-align: middle;\n    }\n\n    .dataframe tbody tr th {\n        vertical-align: top;\n    }\n\n    .dataframe thead th {\n        text-align: right;\n    }\n</style>\n<table border=\"1\" class=\"dataframe\">\n  <thead>\n    <tr style=\"text-align: right;\">\n      <th></th>\n      <th>sepal length (cm)</th>\n      <th>sepal width (cm)</th>\n      <th>petal length (cm)</th>\n      <th>petal width (cm)</th>\n      <th>target</th>\n    </tr>\n  </thead>\n  <tbody>\n    <tr>\n      <th>0</th>\n      <td>4.8</td>\n      <td>3.0</td>\n      <td>1.4</td>\n      <td>0.3</td>\n      <td>0</td>\n    </tr>\n    <tr>\n      <th>1</th>\n      <td>4.6</td>\n      <td>3.6</td>\n      <td>1.0</td>\n      <td>0.2</td>\n      <td>0</td>\n    </tr>\n    <tr>\n      <th>2</th>\n      <td>4.8</td>\n      <td>3.0</td>\n      <td>1.4</td>\n      <td>0.1</td>\n      <td>0</td>\n    </tr>\n    <tr>\n      <th>3</th>\n      <td>4.7</td>\n      <td>3.2</td>\n      <td>1.6</td>\n      <td>0.2</td>\n      <td>0</td>\n    </tr>\n    <tr>\n      <th>4</th>\n      <td>4.9</td>\n      <td>2.4</td>\n      <td>3.3</td>\n      <td>1.0</td>\n      <td>1</td>\n    </tr>\n  </tbody>\n</table>\n</div>"
     },
     "metadata": {},
     "execution_count": 4
    }
   ],
   "source": [
    "df_test = pd.read_csv('../static/data/iris_test.csv')\n",
    "df_test.head()"
   ]
  },
  {
   "cell_type": "code",
   "execution_count": 5,
   "metadata": {},
   "outputs": [
    {
     "output_type": "execute_result",
     "data": {
      "text/plain": [
       "((38, 4), (38,))"
      ]
     },
     "metadata": {},
     "execution_count": 5
    }
   ],
   "source": [
    "X_test = df_test.iloc[:, :-1].values\n",
    "y_test = df_test.iloc[:, -1].values\n",
    "X_test.shape, y_test.shape"
   ]
  },
  {
   "cell_type": "code",
   "execution_count": 6,
   "metadata": {},
   "outputs": [
    {
     "output_type": "execute_result",
     "data": {
      "text/plain": [
       "MinMaxScaler()"
      ]
     },
     "metadata": {},
     "execution_count": 6
    }
   ],
   "source": [
    "scaler = MinMaxScaler()\n",
    "scaler.fit(df_train.iloc[:, :-1])"
   ]
  },
  {
   "cell_type": "code",
   "execution_count": 7,
   "metadata": {},
   "outputs": [
    {
     "output_type": "execute_result",
     "data": {
      "text/plain": [
       "((112, 4), (38, 4))"
      ]
     },
     "metadata": {},
     "execution_count": 7
    }
   ],
   "source": [
    "X_train_scaled = scaler.transform(X_train)\n",
    "X_test_scaled = scaler.transform(X_test)\n",
    "X_train_scaled.shape, X_test_scaled.shape"
   ]
  },
  {
   "cell_type": "code",
   "execution_count": 8,
   "metadata": {},
   "outputs": [
    {
     "output_type": "execute_result",
     "data": {
      "text/plain": [
       "['../static/model/iris_scaler.pkl']"
      ]
     },
     "metadata": {},
     "execution_count": 8
    }
   ],
   "source": [
    "joblib.dump(scaler, '../static/model/iris_scaler.pkl')"
   ]
  },
  {
   "source": [
    "### 1. Logistic Regression"
   ],
   "cell_type": "markdown",
   "metadata": {}
  },
  {
   "cell_type": "code",
   "execution_count": 9,
   "metadata": {},
   "outputs": [
    {
     "output_type": "execute_result",
     "data": {
      "text/plain": [
       "{'C': 1.0,\n",
       " 'class_weight': None,\n",
       " 'dual': False,\n",
       " 'fit_intercept': True,\n",
       " 'intercept_scaling': 1,\n",
       " 'l1_ratio': None,\n",
       " 'max_iter': 100,\n",
       " 'multi_class': 'auto',\n",
       " 'n_jobs': None,\n",
       " 'penalty': 'l2',\n",
       " 'random_state': None,\n",
       " 'solver': 'lbfgs',\n",
       " 'tol': 0.0001,\n",
       " 'verbose': 0,\n",
       " 'warm_start': False}"
      ]
     },
     "metadata": {},
     "execution_count": 9
    }
   ],
   "source": [
    "lr_clf = LogisticRegression()\n",
    "lr_clf.get_params()"
   ]
  },
  {
   "cell_type": "code",
   "execution_count": 17,
   "metadata": {},
   "outputs": [],
   "source": [
    "params = {\n",
    "    # 'C': [3, 4, 5, 6, 7]\n",
    "    'C': [3, 4, 5, 6, 7, 9, 10]\n",
    "}"
   ]
  },
  {
   "cell_type": "code",
   "execution_count": 18,
   "metadata": {},
   "outputs": [
    {
     "output_type": "stream",
     "name": "stdout",
     "text": [
      "최고 평균 정확도: 0.9739\n최적 파라미터: {'C': 4}\n"
     ]
    }
   ],
   "source": [
    "grid_cv = GridSearchCV(lr_clf, param_grid=params, scoring='accuracy', cv=5)\n",
    "grid_cv.fit(X_train_scaled, y_train)\n",
    "print(f'최고 평균 정확도: {grid_cv.best_score_:.4f}')\n",
    "print('최적 파라미터:', grid_cv.best_params_)"
   ]
  },
  {
   "cell_type": "code",
   "execution_count": 19,
   "metadata": {},
   "outputs": [
    {
     "output_type": "stream",
     "name": "stdout",
     "text": [
      "평균 정확도 : 0.8947\n"
     ]
    }
   ],
   "source": [
    "best_lr = grid_cv.best_estimator_ # best_estimator_ : 최적의 파라미터로 모델 생성\n",
    "pred = best_lr.predict(X_test_scaled)\n",
    "acc_lr = accuracy_score(y_test, pred)\n",
    "print(f'평균 정확도 : {acc_lr:.4f}')"
   ]
  },
  {
   "cell_type": "code",
   "execution_count": 20,
   "metadata": {},
   "outputs": [
    {
     "output_type": "execute_result",
     "data": {
      "text/plain": [
       "['../static/model/iris_lr.pkl']"
      ]
     },
     "metadata": {},
     "execution_count": 20
    }
   ],
   "source": [
    "joblib.dump(best_lr, '../static/model/iris_lr.pkl')"
   ]
  },
  {
   "source": [
    "### 2.Decision Tree"
   ],
   "cell_type": "markdown",
   "metadata": {}
  },
  {
   "cell_type": "code",
   "execution_count": 21,
   "metadata": {},
   "outputs": [
    {
     "output_type": "execute_result",
     "data": {
      "text/plain": [
       "{'ccp_alpha': 0.0,\n",
       " 'class_weight': None,\n",
       " 'criterion': 'gini',\n",
       " 'max_depth': None,\n",
       " 'max_features': None,\n",
       " 'max_leaf_nodes': None,\n",
       " 'min_impurity_decrease': 0.0,\n",
       " 'min_impurity_split': None,\n",
       " 'min_samples_leaf': 1,\n",
       " 'min_samples_split': 2,\n",
       " 'min_weight_fraction_leaf': 0.0,\n",
       " 'presort': 'deprecated',\n",
       " 'random_state': None,\n",
       " 'splitter': 'best'}"
      ]
     },
     "metadata": {},
     "execution_count": 21
    }
   ],
   "source": [
    "dt_clf = DecisionTreeClassifier()\n",
    "dt_clf.get_params()"
   ]
  },
  {
   "cell_type": "code",
   "execution_count": 22,
   "metadata": {},
   "outputs": [],
   "source": [
    "params = {\n",
    "    'max_depth': [0.9, 1, 2, 5, 8, 10],\n",
    "    'min_samples_split': [1, 2, 3, 4]\n",
    "}"
   ]
  },
  {
   "cell_type": "code",
   "execution_count": 23,
   "metadata": {},
   "outputs": [
    {
     "output_type": "stream",
     "name": "stdout",
     "text": [
      "최고 평균 정확도: 1.0000\n최적 파라미터: {'max_depth': 5, 'min_samples_split': 2}\n"
     ]
    }
   ],
   "source": [
    "grid_cv = GridSearchCV(dt_clf, param_grid=params, scoring='accuracy', cv=5)\n",
    "grid_cv.fit(X_train_scaled, y_train)\n",
    "print(f'최고 평균 정확도: {grid_cv.best_score_:.4f}')\n",
    "print('최적 파라미터:', grid_cv.best_params_)"
   ]
  },
  {
   "cell_type": "code",
   "execution_count": 24,
   "metadata": {},
   "outputs": [
    {
     "output_type": "stream",
     "name": "stdout",
     "text": [
      "평균 정확도 : 0.8947\n"
     ]
    }
   ],
   "source": [
    "best_dt = grid_cv.best_estimator_ # best_estimator_ : 최적의 파라미터로 모델 생성\n",
    "pred = best_dt.predict(X_test_scaled)\n",
    "acc_dt = accuracy_score(y_test, pred)\n",
    "print(f'평균 정확도 : {acc_dt:.4f}')"
   ]
  },
  {
   "cell_type": "code",
   "execution_count": 25,
   "metadata": {},
   "outputs": [
    {
     "output_type": "execute_result",
     "data": {
      "text/plain": [
       "['../static/model/iris_dt.pkl']"
      ]
     },
     "metadata": {},
     "execution_count": 25
    }
   ],
   "source": [
    "joblib.dump(best_dt, '../static/model/iris_dt.pkl')"
   ]
  },
  {
   "source": [
    "### 3. SVM"
   ],
   "cell_type": "markdown",
   "metadata": {}
  },
  {
   "cell_type": "code",
   "execution_count": 26,
   "metadata": {},
   "outputs": [
    {
     "output_type": "execute_result",
     "data": {
      "text/plain": [
       "{'C': 1.0,\n",
       " 'break_ties': False,\n",
       " 'cache_size': 200,\n",
       " 'class_weight': None,\n",
       " 'coef0': 0.0,\n",
       " 'decision_function_shape': 'ovr',\n",
       " 'degree': 3,\n",
       " 'gamma': 'scale',\n",
       " 'kernel': 'rbf',\n",
       " 'max_iter': -1,\n",
       " 'probability': False,\n",
       " 'random_state': None,\n",
       " 'shrinking': True,\n",
       " 'tol': 0.001,\n",
       " 'verbose': False}"
      ]
     },
     "metadata": {},
     "execution_count": 26
    }
   ],
   "source": [
    "sv_clf = SVC()\n",
    "sv_clf.get_params()"
   ]
  },
  {
   "cell_type": "code",
   "execution_count": 38,
   "metadata": {},
   "outputs": [],
   "source": [
    "params = {\n",
    "    # 'C': [90, 91, 92, 93, 94, 95]\n",
    "     'C': [0.9, 1, 3, 5, 10]\n",
    "}"
   ]
  },
  {
   "cell_type": "code",
   "execution_count": 39,
   "metadata": {},
   "outputs": [
    {
     "output_type": "stream",
     "name": "stdout",
     "text": [
      "최고 평균 정확도: 0.9826\n최적 파라미터: {'C': 3}\n"
     ]
    }
   ],
   "source": [
    "grid_cv = GridSearchCV(sv_clf, param_grid=params, scoring='accuracy', cv=5)\n",
    "grid_cv.fit(X_train_scaled, y_train)\n",
    "print(f'최고 평균 정확도: {grid_cv.best_score_:.4f}')\n",
    "print('최적 파라미터:', grid_cv.best_params_)"
   ]
  },
  {
   "cell_type": "code",
   "execution_count": 40,
   "metadata": {},
   "outputs": [
    {
     "output_type": "stream",
     "name": "stdout",
     "text": [
      "평균 정확도 : 0.8947\n"
     ]
    }
   ],
   "source": [
    "best_sv = grid_cv.best_estimator_ # best_estimator_ : 최적의 파라미터로 모델 생성\n",
    "pred = best_sv.predict(X_test_scaled)\n",
    "acc_sv = accuracy_score(y_test, pred)\n",
    "print(f'평균 정확도 : {acc_sv:.4f}')"
   ]
  },
  {
   "cell_type": "code",
   "execution_count": 41,
   "metadata": {},
   "outputs": [
    {
     "output_type": "execute_result",
     "data": {
      "text/plain": [
       "['../static/model/iris_sv.pkl']"
      ]
     },
     "metadata": {},
     "execution_count": 41
    }
   ],
   "source": [
    "joblib.dump(best_sv, '../static/model/iris_sv.pkl')"
   ]
  },
  {
   "source": [
    "### 4.랜덤 포레스트(Random Forest)"
   ],
   "cell_type": "markdown",
   "metadata": {}
  },
  {
   "cell_type": "code",
   "execution_count": 42,
   "metadata": {},
   "outputs": [
    {
     "output_type": "execute_result",
     "data": {
      "text/plain": [
       "{'bootstrap': True,\n",
       " 'ccp_alpha': 0.0,\n",
       " 'class_weight': None,\n",
       " 'criterion': 'gini',\n",
       " 'max_depth': None,\n",
       " 'max_features': 'auto',\n",
       " 'max_leaf_nodes': None,\n",
       " 'max_samples': None,\n",
       " 'min_impurity_decrease': 0.0,\n",
       " 'min_impurity_split': None,\n",
       " 'min_samples_leaf': 1,\n",
       " 'min_samples_split': 2,\n",
       " 'min_weight_fraction_leaf': 0.0,\n",
       " 'n_estimators': 100,\n",
       " 'n_jobs': None,\n",
       " 'oob_score': False,\n",
       " 'random_state': None,\n",
       " 'verbose': 0,\n",
       " 'warm_start': False}"
      ]
     },
     "metadata": {},
     "execution_count": 42
    }
   ],
   "source": [
    "rf_clf = RandomForestClassifier()\n",
    "rf_clf.get_params()"
   ]
  },
  {
   "cell_type": "code",
   "execution_count": 43,
   "metadata": {},
   "outputs": [],
   "source": [
    "params = {\n",
    "    'max_depth': [3, 4, 5, 6, 7, 8, 9, 10, 13],\n",
    "    'min_samples_split': [1, 3, 4, 5, 6, 7, 8, 9, 10]\n",
    "}"
   ]
  },
  {
   "cell_type": "code",
   "execution_count": 44,
   "metadata": {},
   "outputs": [
    {
     "output_type": "stream",
     "name": "stdout",
     "text": [
      "최고 평균 정확도: 0.9913\n최적 파라미터: {'max_depth': 6, 'min_samples_split': 3}\n"
     ]
    }
   ],
   "source": [
    "grid_cv = GridSearchCV(rf_clf, param_grid=params, scoring='accuracy', cv=5)\n",
    "grid_cv.fit(X_train_scaled, y_train)\n",
    "print(f'최고 평균 정확도: {grid_cv.best_score_:.4f}')\n",
    "print('최적 파라미터:', grid_cv.best_params_)"
   ]
  },
  {
   "cell_type": "code",
   "execution_count": 45,
   "metadata": {},
   "outputs": [
    {
     "output_type": "stream",
     "name": "stdout",
     "text": [
      "평균 정확도 : 0.8947\n"
     ]
    }
   ],
   "source": [
    "best_rf = grid_cv.best_estimator_ # best_estimator_ : 최적의 파라미터로 모델 생성\n",
    "pred = best_rf.predict(X_test_scaled)\n",
    "acc_rf = accuracy_score(y_test, pred)\n",
    "print(f'평균 정확도 : {acc_rf:.4f}')"
   ]
  },
  {
   "cell_type": "code",
   "execution_count": 46,
   "metadata": {},
   "outputs": [
    {
     "output_type": "execute_result",
     "data": {
      "text/plain": [
       "['../static/model/iris_rf.pkl']"
      ]
     },
     "metadata": {},
     "execution_count": 46
    }
   ],
   "source": [
    "joblib.dump(best_rf, '../static/model/iris_rf.pkl')"
   ]
  },
  {
   "source": [
    "### 5.K 최근접 이웃(K Nearest Neighbor)"
   ],
   "cell_type": "markdown",
   "metadata": {}
  },
  {
   "cell_type": "code",
   "execution_count": 47,
   "metadata": {},
   "outputs": [
    {
     "output_type": "execute_result",
     "data": {
      "text/plain": [
       "{'algorithm': 'auto',\n",
       " 'leaf_size': 30,\n",
       " 'metric': 'minkowski',\n",
       " 'metric_params': None,\n",
       " 'n_jobs': None,\n",
       " 'n_neighbors': 5,\n",
       " 'p': 2,\n",
       " 'weights': 'uniform'}"
      ]
     },
     "metadata": {},
     "execution_count": 47
    }
   ],
   "source": [
    "kn_clf = KNeighborsClassifier()\n",
    "kn_clf.get_params()"
   ]
  },
  {
   "cell_type": "code",
   "execution_count": 48,
   "metadata": {},
   "outputs": [],
   "source": [
    "params = {\n",
    "    'n_neighbors': [1, 5, 10, 11, 12]\n",
    "}"
   ]
  },
  {
   "cell_type": "code",
   "execution_count": 49,
   "metadata": {},
   "outputs": [
    {
     "output_type": "stream",
     "name": "stdout",
     "text": [
      "최고 평균 정확도: 0.9739\n최적 파라미터: {'n_neighbors': 1}\n"
     ]
    }
   ],
   "source": [
    "grid_cv = GridSearchCV(kn_clf, param_grid=params, scoring='accuracy', cv=5)\n",
    "grid_cv.fit(X_train_scaled, y_train)\n",
    "print(f'최고 평균 정확도: {grid_cv.best_score_:.4f}')\n",
    "print('최적 파라미터:', grid_cv.best_params_)"
   ]
  },
  {
   "cell_type": "code",
   "execution_count": 50,
   "metadata": {},
   "outputs": [
    {
     "output_type": "stream",
     "name": "stdout",
     "text": [
      "평균 정확도 : 0.9211\n"
     ]
    }
   ],
   "source": [
    "best_kn = grid_cv.best_estimator_ # best_estimator_ : 최적의 파라미터로 모델 생성\n",
    "pred = best_kn.predict(X_test_scaled)\n",
    "acc_kn = accuracy_score(y_test, pred)\n",
    "print(f'평균 정확도 : {acc_kn:.4f}')"
   ]
  },
  {
   "cell_type": "code",
   "execution_count": 51,
   "metadata": {},
   "outputs": [
    {
     "output_type": "execute_result",
     "data": {
      "text/plain": [
       "['../static/model/iris_kn.pkl']"
      ]
     },
     "metadata": {},
     "execution_count": 51
    }
   ],
   "source": [
    "joblib.dump(best_kn, '../static/model/iris_kn.pkl')"
   ]
  },
  {
   "source": [
    "### Test"
   ],
   "cell_type": "markdown",
   "metadata": {}
  },
  {
   "cell_type": "code",
   "execution_count": 62,
   "metadata": {},
   "outputs": [],
   "source": [
    "index = 3"
   ]
  },
  {
   "cell_type": "code",
   "execution_count": 63,
   "metadata": {},
   "outputs": [
    {
     "output_type": "execute_result",
     "data": {
      "text/plain": [
       "(array([[4.7, 3.2, 1.6, 0.2]]), 0)"
      ]
     },
     "metadata": {},
     "execution_count": 63
    }
   ],
   "source": [
    "test_data = (df_test.iloc[index, :-1].values).reshape(1,-1)\n",
    "label = df_test.iloc[index, -1]\n",
    "test_data, label"
   ]
  },
  {
   "cell_type": "code",
   "execution_count": 64,
   "metadata": {},
   "outputs": [],
   "source": [
    "new_scaler = joblib.load('../static/model/iris_scaler.pkl')"
   ]
  },
  {
   "cell_type": "code",
   "execution_count": 65,
   "metadata": {},
   "outputs": [],
   "source": [
    "test_scaled = new_scaler.transform(test_data)"
   ]
  },
  {
   "cell_type": "code",
   "execution_count": 66,
   "metadata": {},
   "outputs": [],
   "source": [
    "pred_lr = best_lr.predict(test_scaled)\n",
    "pred_sv = best_sv.predict(test_scaled)\n",
    "pred_dt = best_dt.predict(test_scaled)\n",
    "pred_rf = best_rf.predict(test_scaled)\n",
    "pred_kn = best_kn.predict(test_scaled)"
   ]
  },
  {
   "cell_type": "code",
   "execution_count": 67,
   "metadata": {},
   "outputs": [
    {
     "output_type": "execute_result",
     "data": {
      "text/plain": [
       "(0, 0, 0, 0, 0, 0)"
      ]
     },
     "metadata": {},
     "execution_count": 67
    }
   ],
   "source": [
    "label, pred_lr[0], pred_sv[0], pred_dt[0], pred_rf[0], pred_kn[0]"
   ]
  },
  {
   "cell_type": "code",
   "execution_count": 58,
   "metadata": {},
   "outputs": [
    {
     "output_type": "execute_result",
     "data": {
      "text/plain": [
       "{'label': 2,\n",
       " 'pred_lr': 2,\n",
       " 'area_ratio': 2,\n",
       " 'per_person': 2,\n",
       " 'pred_rf': 2,\n",
       " 'pred_kn': 2}"
      ]
     },
     "metadata": {},
     "execution_count": 58
    }
   ],
   "source": [
    "iris_dict = {'label':label, 'pred_lr':pred_lr[0], 'area_ratio': pred_sv[0], 'per_person':pred_dt[0], 'pred_rf': pred_rf[0], 'pred_kn': pred_kn[0]}\n",
    "iris_dict"
   ]
  },
  {
   "cell_type": "code",
   "execution_count": 59,
   "metadata": {},
   "outputs": [],
   "source": [
    "species = ['Setosa', 'Versicolor', 'Virginica']"
   ]
  },
  {
   "cell_type": "code",
   "execution_count": 68,
   "metadata": {},
   "outputs": [],
   "source": [
    "result = {'index':index, 'label':f'{label} ({species[label]})',\n",
    "                  'pred_lr':f'{pred_lr[0]} ({species[pred_lr[0]]})', \n",
    "                  'pred_sv':f'{pred_sv[0]} ({species[pred_sv[0]]})', \n",
    "                  'pred_rf':f'{pred_rf[0]} ({species[pred_rf[0]]})'}"
   ]
  },
  {
   "cell_type": "code",
   "execution_count": 69,
   "metadata": {},
   "outputs": [
    {
     "output_type": "execute_result",
     "data": {
      "text/plain": [
       "{'index': 3,\n",
       " 'label': '0 (Setosa)',\n",
       " 'pred_lr': '0 (Setosa)',\n",
       " 'pred_sv': '0 (Setosa)',\n",
       " 'pred_rf': '0 (Setosa)'}"
      ]
     },
     "metadata": {},
     "execution_count": 69
    }
   ],
   "source": [
    "result"
   ]
  },
  {
   "cell_type": "code",
   "execution_count": null,
   "metadata": {},
   "outputs": [],
   "source": []
  }
 ]
}