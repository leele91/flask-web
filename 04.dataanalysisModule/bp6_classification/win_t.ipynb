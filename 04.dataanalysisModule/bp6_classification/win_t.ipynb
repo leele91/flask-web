{
 "metadata": {
  "language_info": {
   "codemirror_mode": {
    "name": "ipython",
    "version": 3
   },
   "file_extension": ".py",
   "mimetype": "text/x-python",
   "name": "python",
   "nbconvert_exporter": "python",
   "pygments_lexer": "ipython3",
   "version": "3.8.3-final"
  },
  "orig_nbformat": 2,
  "kernelspec": {
   "name": "python3",
   "display_name": "Python 3",
   "language": "python"
  }
 },
 "nbformat": 4,
 "nbformat_minor": 2,
 "cells": [
  {
   "cell_type": "code",
   "execution_count": 1,
   "metadata": {},
   "outputs": [],
   "source": [
    "import pandas as pd \n",
    "import joblib\n",
    "from sklearn.model_selection import GridSearchCV\n",
    "from sklearn.metrics import accuracy_score\n",
    "\n",
    "from sklearn.preprocessing import StandardScaler, MinMaxScaler\n",
    "from sklearn.linear_model import LogisticRegression\n",
    "from sklearn.tree import DecisionTreeClassifier\n",
    "from sklearn.svm import SVC\n",
    "from sklearn.ensemble import RandomForestClassifier\n",
    "from sklearn.neighbors import KNeighborsClassifier"
   ]
  },
  {
   "cell_type": "code",
   "execution_count": 2,
   "metadata": {},
   "outputs": [
    {
     "output_type": "execute_result",
     "data": {
      "text/plain": [
       "   alcohol  malic_acid   ash  alcalinity_of_ash  magnesium  total_phenols  \\\n",
       "0    13.40        3.91  2.48               23.0      102.0           1.80   \n",
       "1    14.38        1.87  2.38               12.0      102.0           3.30   \n",
       "2    13.24        3.98  2.29               17.5      103.0           2.64   \n",
       "3    13.05        5.80  2.13               21.5       86.0           2.62   \n",
       "4    12.22        1.29  1.94               19.0       92.0           2.36   \n",
       "\n",
       "   flavanoids  nonflavanoid_phenols  proanthocyanins  color_intensity   hue  \\\n",
       "0        0.75                  0.43             1.41             7.30  0.70   \n",
       "1        3.64                  0.29             2.96             7.50  1.20   \n",
       "2        2.63                  0.32             1.66             4.36  0.82   \n",
       "3        2.65                  0.30             2.01             2.60  0.73   \n",
       "4        2.04                  0.39             2.08             2.70  0.86   \n",
       "\n",
       "   od280/od315_of_diluted_wines  proline  target  \n",
       "0                          1.56    750.0       2  \n",
       "1                          3.00   1547.0       0  \n",
       "2                          3.00    680.0       0  \n",
       "3                          3.10    380.0       1  \n",
       "4                          3.02    312.0       1  "
      ],
      "text/html": "<div>\n<style scoped>\n    .dataframe tbody tr th:only-of-type {\n        vertical-align: middle;\n    }\n\n    .dataframe tbody tr th {\n        vertical-align: top;\n    }\n\n    .dataframe thead th {\n        text-align: right;\n    }\n</style>\n<table border=\"1\" class=\"dataframe\">\n  <thead>\n    <tr style=\"text-align: right;\">\n      <th></th>\n      <th>alcohol</th>\n      <th>malic_acid</th>\n      <th>ash</th>\n      <th>alcalinity_of_ash</th>\n      <th>magnesium</th>\n      <th>total_phenols</th>\n      <th>flavanoids</th>\n      <th>nonflavanoid_phenols</th>\n      <th>proanthocyanins</th>\n      <th>color_intensity</th>\n      <th>hue</th>\n      <th>od280/od315_of_diluted_wines</th>\n      <th>proline</th>\n      <th>target</th>\n    </tr>\n  </thead>\n  <tbody>\n    <tr>\n      <th>0</th>\n      <td>13.40</td>\n      <td>3.91</td>\n      <td>2.48</td>\n      <td>23.0</td>\n      <td>102.0</td>\n      <td>1.80</td>\n      <td>0.75</td>\n      <td>0.43</td>\n      <td>1.41</td>\n      <td>7.30</td>\n      <td>0.70</td>\n      <td>1.56</td>\n      <td>750.0</td>\n      <td>2</td>\n    </tr>\n    <tr>\n      <th>1</th>\n      <td>14.38</td>\n      <td>1.87</td>\n      <td>2.38</td>\n      <td>12.0</td>\n      <td>102.0</td>\n      <td>3.30</td>\n      <td>3.64</td>\n      <td>0.29</td>\n      <td>2.96</td>\n      <td>7.50</td>\n      <td>1.20</td>\n      <td>3.00</td>\n      <td>1547.0</td>\n      <td>0</td>\n    </tr>\n    <tr>\n      <th>2</th>\n      <td>13.24</td>\n      <td>3.98</td>\n      <td>2.29</td>\n      <td>17.5</td>\n      <td>103.0</td>\n      <td>2.64</td>\n      <td>2.63</td>\n      <td>0.32</td>\n      <td>1.66</td>\n      <td>4.36</td>\n      <td>0.82</td>\n      <td>3.00</td>\n      <td>680.0</td>\n      <td>0</td>\n    </tr>\n    <tr>\n      <th>3</th>\n      <td>13.05</td>\n      <td>5.80</td>\n      <td>2.13</td>\n      <td>21.5</td>\n      <td>86.0</td>\n      <td>2.62</td>\n      <td>2.65</td>\n      <td>0.30</td>\n      <td>2.01</td>\n      <td>2.60</td>\n      <td>0.73</td>\n      <td>3.10</td>\n      <td>380.0</td>\n      <td>1</td>\n    </tr>\n    <tr>\n      <th>4</th>\n      <td>12.22</td>\n      <td>1.29</td>\n      <td>1.94</td>\n      <td>19.0</td>\n      <td>92.0</td>\n      <td>2.36</td>\n      <td>2.04</td>\n      <td>0.39</td>\n      <td>2.08</td>\n      <td>2.70</td>\n      <td>0.86</td>\n      <td>3.02</td>\n      <td>312.0</td>\n      <td>1</td>\n    </tr>\n  </tbody>\n</table>\n</div>"
     },
     "metadata": {},
     "execution_count": 2
    }
   ],
   "source": [
    "df_train = pd.read_csv('../static/data/wine_train.csv')\n",
    "df_train.head()"
   ]
  },
  {
   "cell_type": "code",
   "execution_count": 3,
   "metadata": {},
   "outputs": [
    {
     "output_type": "execute_result",
     "data": {
      "text/plain": [
       "((133, 13), (133,))"
      ]
     },
     "metadata": {},
     "execution_count": 3
    }
   ],
   "source": [
    "X_train = df_train.iloc[:, :-1].values\n",
    "y_train = df_train.iloc[:, -1].values\n",
    "X_train.shape, y_train.shape"
   ]
  },
  {
   "cell_type": "code",
   "execution_count": 4,
   "metadata": {},
   "outputs": [
    {
     "output_type": "execute_result",
     "data": {
      "text/plain": [
       "   alcohol  malic_acid   ash  alcalinity_of_ash  magnesium  total_phenols  \\\n",
       "0    13.40        3.91  2.48               23.0      102.0           1.80   \n",
       "1    14.38        1.87  2.38               12.0      102.0           3.30   \n",
       "2    13.24        3.98  2.29               17.5      103.0           2.64   \n",
       "3    13.05        5.80  2.13               21.5       86.0           2.62   \n",
       "4    12.22        1.29  1.94               19.0       92.0           2.36   \n",
       "\n",
       "   flavanoids  nonflavanoid_phenols  proanthocyanins  color_intensity   hue  \\\n",
       "0        0.75                  0.43             1.41             7.30  0.70   \n",
       "1        3.64                  0.29             2.96             7.50  1.20   \n",
       "2        2.63                  0.32             1.66             4.36  0.82   \n",
       "3        2.65                  0.30             2.01             2.60  0.73   \n",
       "4        2.04                  0.39             2.08             2.70  0.86   \n",
       "\n",
       "   od280/od315_of_diluted_wines  proline  target  \n",
       "0                          1.56    750.0       2  \n",
       "1                          3.00   1547.0       0  \n",
       "2                          3.00    680.0       0  \n",
       "3                          3.10    380.0       1  \n",
       "4                          3.02    312.0       1  "
      ],
      "text/html": "<div>\n<style scoped>\n    .dataframe tbody tr th:only-of-type {\n        vertical-align: middle;\n    }\n\n    .dataframe tbody tr th {\n        vertical-align: top;\n    }\n\n    .dataframe thead th {\n        text-align: right;\n    }\n</style>\n<table border=\"1\" class=\"dataframe\">\n  <thead>\n    <tr style=\"text-align: right;\">\n      <th></th>\n      <th>alcohol</th>\n      <th>malic_acid</th>\n      <th>ash</th>\n      <th>alcalinity_of_ash</th>\n      <th>magnesium</th>\n      <th>total_phenols</th>\n      <th>flavanoids</th>\n      <th>nonflavanoid_phenols</th>\n      <th>proanthocyanins</th>\n      <th>color_intensity</th>\n      <th>hue</th>\n      <th>od280/od315_of_diluted_wines</th>\n      <th>proline</th>\n      <th>target</th>\n    </tr>\n  </thead>\n  <tbody>\n    <tr>\n      <th>0</th>\n      <td>13.40</td>\n      <td>3.91</td>\n      <td>2.48</td>\n      <td>23.0</td>\n      <td>102.0</td>\n      <td>1.80</td>\n      <td>0.75</td>\n      <td>0.43</td>\n      <td>1.41</td>\n      <td>7.30</td>\n      <td>0.70</td>\n      <td>1.56</td>\n      <td>750.0</td>\n      <td>2</td>\n    </tr>\n    <tr>\n      <th>1</th>\n      <td>14.38</td>\n      <td>1.87</td>\n      <td>2.38</td>\n      <td>12.0</td>\n      <td>102.0</td>\n      <td>3.30</td>\n      <td>3.64</td>\n      <td>0.29</td>\n      <td>2.96</td>\n      <td>7.50</td>\n      <td>1.20</td>\n      <td>3.00</td>\n      <td>1547.0</td>\n      <td>0</td>\n    </tr>\n    <tr>\n      <th>2</th>\n      <td>13.24</td>\n      <td>3.98</td>\n      <td>2.29</td>\n      <td>17.5</td>\n      <td>103.0</td>\n      <td>2.64</td>\n      <td>2.63</td>\n      <td>0.32</td>\n      <td>1.66</td>\n      <td>4.36</td>\n      <td>0.82</td>\n      <td>3.00</td>\n      <td>680.0</td>\n      <td>0</td>\n    </tr>\n    <tr>\n      <th>3</th>\n      <td>13.05</td>\n      <td>5.80</td>\n      <td>2.13</td>\n      <td>21.5</td>\n      <td>86.0</td>\n      <td>2.62</td>\n      <td>2.65</td>\n      <td>0.30</td>\n      <td>2.01</td>\n      <td>2.60</td>\n      <td>0.73</td>\n      <td>3.10</td>\n      <td>380.0</td>\n      <td>1</td>\n    </tr>\n    <tr>\n      <th>4</th>\n      <td>12.22</td>\n      <td>1.29</td>\n      <td>1.94</td>\n      <td>19.0</td>\n      <td>92.0</td>\n      <td>2.36</td>\n      <td>2.04</td>\n      <td>0.39</td>\n      <td>2.08</td>\n      <td>2.70</td>\n      <td>0.86</td>\n      <td>3.02</td>\n      <td>312.0</td>\n      <td>1</td>\n    </tr>\n  </tbody>\n</table>\n</div>"
     },
     "metadata": {},
     "execution_count": 4
    }
   ],
   "source": [
    "df_test = pd.read_csv('../static/data/wine_test.csv')\n",
    "df_test.head()"
   ]
  },
  {
   "cell_type": "code",
   "execution_count": 5,
   "metadata": {},
   "outputs": [
    {
     "output_type": "execute_result",
     "data": {
      "text/plain": [
       "((133, 13), (133,))"
      ]
     },
     "metadata": {},
     "execution_count": 5
    }
   ],
   "source": [
    "X_test = df_test.iloc[:, :-1].values\n",
    "y_test = df_test.iloc[:, -1].values\n",
    "X_test.shape, y_test.shape"
   ]
  },
  {
   "cell_type": "code",
   "execution_count": 6,
   "metadata": {},
   "outputs": [
    {
     "output_type": "execute_result",
     "data": {
      "text/plain": [
       "StandardScaler()"
      ]
     },
     "metadata": {},
     "execution_count": 6
    }
   ],
   "source": [
    "scaler = StandardScaler()\n",
    "scaler.fit(df_train.iloc[:, :-1])"
   ]
  },
  {
   "cell_type": "code",
   "execution_count": 7,
   "metadata": {},
   "outputs": [
    {
     "output_type": "execute_result",
     "data": {
      "text/plain": [
       "((133, 13), (133, 13))"
      ]
     },
     "metadata": {},
     "execution_count": 7
    }
   ],
   "source": [
    "X_train_scaled = scaler.transform(X_train)\n",
    "X_test_scaled = scaler.transform(X_test)\n",
    "X_train_scaled.shape, X_test_scaled.shape"
   ]
  },
  {
   "cell_type": "code",
   "execution_count": 8,
   "metadata": {},
   "outputs": [
    {
     "output_type": "execute_result",
     "data": {
      "text/plain": [
       "['../static/model/wine_scaler.pkl']"
      ]
     },
     "metadata": {},
     "execution_count": 8
    }
   ],
   "source": [
    "joblib.dump(scaler, '../static/model/wine_scaler.pkl')"
   ]
  },
  {
   "source": [
    "### 1. Logistic Regression"
   ],
   "cell_type": "markdown",
   "metadata": {}
  },
  {
   "cell_type": "code",
   "execution_count": 9,
   "metadata": {},
   "outputs": [
    {
     "output_type": "execute_result",
     "data": {
      "text/plain": [
       "{'C': 1.0,\n",
       " 'class_weight': None,\n",
       " 'dual': False,\n",
       " 'fit_intercept': True,\n",
       " 'intercept_scaling': 1,\n",
       " 'l1_ratio': None,\n",
       " 'max_iter': 100,\n",
       " 'multi_class': 'auto',\n",
       " 'n_jobs': None,\n",
       " 'penalty': 'l2',\n",
       " 'random_state': None,\n",
       " 'solver': 'lbfgs',\n",
       " 'tol': 0.0001,\n",
       " 'verbose': 0,\n",
       " 'warm_start': False}"
      ]
     },
     "metadata": {},
     "execution_count": 9
    }
   ],
   "source": [
    "lr_clf = LogisticRegression()\n",
    "lr_clf.get_params()"
   ]
  },
  {
   "cell_type": "code",
   "execution_count": 10,
   "metadata": {},
   "outputs": [],
   "source": [
    "params = {\n",
    "    # 'C': [3, 4, 5, 6, 7]\n",
    "    'C': [3, 4, 5, 6, 7, 9, 10]\n",
    "}"
   ]
  },
  {
   "cell_type": "code",
   "execution_count": 11,
   "metadata": {},
   "outputs": [
    {
     "output_type": "stream",
     "name": "stdout",
     "text": [
      "최고 평균 정확도: 0.9778\n최적 파라미터: {'C': 3}\n"
     ]
    }
   ],
   "source": [
    "grid_cv = GridSearchCV(lr_clf, param_grid=params, scoring='accuracy', cv=5)\n",
    "grid_cv.fit(X_train_scaled, y_train)\n",
    "print(f'최고 평균 정확도: {grid_cv.best_score_:.4f}')\n",
    "print('최적 파라미터:', grid_cv.best_params_)"
   ]
  },
  {
   "cell_type": "code",
   "execution_count": 12,
   "metadata": {},
   "outputs": [
    {
     "output_type": "stream",
     "name": "stdout",
     "text": [
      "평균 정확도 : 1.0000\n"
     ]
    }
   ],
   "source": [
    "best_lr = grid_cv.best_estimator_ # best_estimator_ : 최적의 파라미터로 모델 생성\n",
    "pred = best_lr.predict(X_test_scaled)\n",
    "acc_lr = accuracy_score(y_test, pred)\n",
    "print(f'평균 정확도 : {acc_lr:.4f}')"
   ]
  },
  {
   "cell_type": "code",
   "execution_count": 13,
   "metadata": {},
   "outputs": [
    {
     "output_type": "execute_result",
     "data": {
      "text/plain": [
       "['../static/model/wine_lr.pkl']"
      ]
     },
     "metadata": {},
     "execution_count": 13
    }
   ],
   "source": [
    "joblib.dump(best_lr, '../static/model/wine_lr.pkl')"
   ]
  },
  {
   "source": [
    "### 2.Decision Tree"
   ],
   "cell_type": "markdown",
   "metadata": {}
  },
  {
   "cell_type": "code",
   "execution_count": 14,
   "metadata": {},
   "outputs": [
    {
     "output_type": "execute_result",
     "data": {
      "text/plain": [
       "{'ccp_alpha': 0.0,\n",
       " 'class_weight': None,\n",
       " 'criterion': 'gini',\n",
       " 'max_depth': None,\n",
       " 'max_features': None,\n",
       " 'max_leaf_nodes': None,\n",
       " 'min_impurity_decrease': 0.0,\n",
       " 'min_impurity_split': None,\n",
       " 'min_samples_leaf': 1,\n",
       " 'min_samples_split': 2,\n",
       " 'min_weight_fraction_leaf': 0.0,\n",
       " 'presort': 'deprecated',\n",
       " 'random_state': None,\n",
       " 'splitter': 'best'}"
      ]
     },
     "metadata": {},
     "execution_count": 14
    }
   ],
   "source": [
    "dt_clf = DecisionTreeClassifier()\n",
    "dt_clf.get_params()"
   ]
  },
  {
   "cell_type": "code",
   "execution_count": 15,
   "metadata": {},
   "outputs": [],
   "source": [
    "params = {\n",
    "    'max_depth': [0.9, 1, 2, 5, 8, 10],\n",
    "    'min_samples_split': [1, 2, 3, 4]\n",
    "}"
   ]
  },
  {
   "cell_type": "code",
   "execution_count": 16,
   "metadata": {},
   "outputs": [
    {
     "output_type": "stream",
     "name": "stdout",
     "text": [
      "최고 평균 정확도: 0.9251\n최적 파라미터: {'max_depth': 5, 'min_samples_split': 4}\n"
     ]
    }
   ],
   "source": [
    "grid_cv = GridSearchCV(dt_clf, param_grid=params, scoring='accuracy', cv=5)\n",
    "grid_cv.fit(X_train_scaled, y_train)\n",
    "print(f'최고 평균 정확도: {grid_cv.best_score_:.4f}')\n",
    "print('최적 파라미터:', grid_cv.best_params_)"
   ]
  },
  {
   "cell_type": "code",
   "execution_count": 17,
   "metadata": {},
   "outputs": [
    {
     "output_type": "stream",
     "name": "stdout",
     "text": [
      "평균 정확도 : 1.0000\n"
     ]
    }
   ],
   "source": [
    "best_dt = grid_cv.best_estimator_ # best_estimator_ : 최적의 파라미터로 모델 생성\n",
    "pred = best_dt.predict(X_test_scaled)\n",
    "acc_dt = accuracy_score(y_test, pred)\n",
    "print(f'평균 정확도 : {acc_dt:.4f}')"
   ]
  },
  {
   "cell_type": "code",
   "execution_count": 18,
   "metadata": {},
   "outputs": [
    {
     "output_type": "execute_result",
     "data": {
      "text/plain": [
       "['../static/model/wine_dt.pkl']"
      ]
     },
     "metadata": {},
     "execution_count": 18
    }
   ],
   "source": [
    "joblib.dump(best_dt, '../static/model/wine_dt.pkl')"
   ]
  },
  {
   "source": [
    "### 3. SVM"
   ],
   "cell_type": "markdown",
   "metadata": {}
  },
  {
   "cell_type": "code",
   "execution_count": 19,
   "metadata": {},
   "outputs": [
    {
     "output_type": "execute_result",
     "data": {
      "text/plain": [
       "{'C': 1.0,\n",
       " 'break_ties': False,\n",
       " 'cache_size': 200,\n",
       " 'class_weight': None,\n",
       " 'coef0': 0.0,\n",
       " 'decision_function_shape': 'ovr',\n",
       " 'degree': 3,\n",
       " 'gamma': 'scale',\n",
       " 'kernel': 'rbf',\n",
       " 'max_iter': -1,\n",
       " 'probability': False,\n",
       " 'random_state': None,\n",
       " 'shrinking': True,\n",
       " 'tol': 0.001,\n",
       " 'verbose': False}"
      ]
     },
     "metadata": {},
     "execution_count": 19
    }
   ],
   "source": [
    "sv_clf = SVC()\n",
    "sv_clf.get_params()"
   ]
  },
  {
   "cell_type": "code",
   "execution_count": 20,
   "metadata": {},
   "outputs": [],
   "source": [
    "params = {\n",
    "    # 'C': [90, 91, 92, 93, 94, 95]\n",
    "     'C': [0.9, 1, 3, 5, 10]\n",
    "}"
   ]
  },
  {
   "cell_type": "code",
   "execution_count": 21,
   "metadata": {},
   "outputs": [
    {
     "output_type": "stream",
     "name": "stdout",
     "text": [
      "최고 평균 정확도: 0.9778\n최적 파라미터: {'C': 0.9}\n"
     ]
    }
   ],
   "source": [
    "grid_cv = GridSearchCV(sv_clf, param_grid=params, scoring='accuracy', cv=5)\n",
    "grid_cv.fit(X_train_scaled, y_train)\n",
    "print(f'최고 평균 정확도: {grid_cv.best_score_:.4f}')\n",
    "print('최적 파라미터:', grid_cv.best_params_)"
   ]
  },
  {
   "cell_type": "code",
   "execution_count": 22,
   "metadata": {},
   "outputs": [
    {
     "output_type": "stream",
     "name": "stdout",
     "text": [
      "평균 정확도 : 1.0000\n"
     ]
    }
   ],
   "source": [
    "best_sv = grid_cv.best_estimator_ # best_estimator_ : 최적의 파라미터로 모델 생성\n",
    "pred = best_sv.predict(X_test_scaled)\n",
    "acc_sv = accuracy_score(y_test, pred)\n",
    "print(f'평균 정확도 : {acc_sv:.4f}')"
   ]
  },
  {
   "cell_type": "code",
   "execution_count": 23,
   "metadata": {},
   "outputs": [
    {
     "output_type": "execute_result",
     "data": {
      "text/plain": [
       "['../static/model/wine_sv.pkl']"
      ]
     },
     "metadata": {},
     "execution_count": 23
    }
   ],
   "source": [
    "joblib.dump(best_sv, '../static/model/wine_sv.pkl')"
   ]
  },
  {
   "source": [
    "### 4.랜덤 포레스트(Random Forest)"
   ],
   "cell_type": "markdown",
   "metadata": {}
  },
  {
   "cell_type": "code",
   "execution_count": 24,
   "metadata": {},
   "outputs": [
    {
     "output_type": "execute_result",
     "data": {
      "text/plain": [
       "{'bootstrap': True,\n",
       " 'ccp_alpha': 0.0,\n",
       " 'class_weight': None,\n",
       " 'criterion': 'gini',\n",
       " 'max_depth': None,\n",
       " 'max_features': 'auto',\n",
       " 'max_leaf_nodes': None,\n",
       " 'max_samples': None,\n",
       " 'min_impurity_decrease': 0.0,\n",
       " 'min_impurity_split': None,\n",
       " 'min_samples_leaf': 1,\n",
       " 'min_samples_split': 2,\n",
       " 'min_weight_fraction_leaf': 0.0,\n",
       " 'n_estimators': 100,\n",
       " 'n_jobs': None,\n",
       " 'oob_score': False,\n",
       " 'random_state': None,\n",
       " 'verbose': 0,\n",
       " 'warm_start': False}"
      ]
     },
     "metadata": {},
     "execution_count": 24
    }
   ],
   "source": [
    "rf_clf = RandomForestClassifier()\n",
    "rf_clf.get_params()"
   ]
  },
  {
   "cell_type": "code",
   "execution_count": 25,
   "metadata": {},
   "outputs": [],
   "source": [
    "params = {\n",
    "    'max_depth': [3, 4, 5, 6, 7, 8, 9, 10, 13],\n",
    "    'min_samples_split': [1, 3, 4, 5, 6, 7, 8, 9, 10]\n",
    "}"
   ]
  },
  {
   "cell_type": "code",
   "execution_count": 26,
   "metadata": {},
   "outputs": [
    {
     "output_type": "stream",
     "name": "stdout",
     "text": [
      "최고 평균 정확도: 0.9775\n최적 파라미터: {'max_depth': 4, 'min_samples_split': 4}\n"
     ]
    }
   ],
   "source": [
    "grid_cv = GridSearchCV(rf_clf, param_grid=params, scoring='accuracy', cv=5)\n",
    "grid_cv.fit(X_train_scaled, y_train)\n",
    "print(f'최고 평균 정확도: {grid_cv.best_score_:.4f}')\n",
    "print('최적 파라미터:', grid_cv.best_params_)"
   ]
  },
  {
   "cell_type": "code",
   "execution_count": 27,
   "metadata": {},
   "outputs": [
    {
     "output_type": "stream",
     "name": "stdout",
     "text": [
      "평균 정확도 : 1.0000\n"
     ]
    }
   ],
   "source": [
    "best_rf = grid_cv.best_estimator_ # best_estimator_ : 최적의 파라미터로 모델 생성\n",
    "pred = best_rf.predict(X_test_scaled)\n",
    "acc_rf = accuracy_score(y_test, pred)\n",
    "print(f'평균 정확도 : {acc_rf:.4f}')"
   ]
  },
  {
   "cell_type": "code",
   "execution_count": 28,
   "metadata": {},
   "outputs": [
    {
     "output_type": "execute_result",
     "data": {
      "text/plain": [
       "['../static/model/wine_rf.pkl']"
      ]
     },
     "metadata": {},
     "execution_count": 28
    }
   ],
   "source": [
    "joblib.dump(best_rf, '../static/model/wine_rf.pkl')"
   ]
  },
  {
   "source": [
    "### 5.K 최근접 이웃(K Nearest Neighbor)"
   ],
   "cell_type": "markdown",
   "metadata": {}
  },
  {
   "cell_type": "code",
   "execution_count": 29,
   "metadata": {},
   "outputs": [
    {
     "output_type": "execute_result",
     "data": {
      "text/plain": [
       "{'algorithm': 'auto',\n",
       " 'leaf_size': 30,\n",
       " 'metric': 'minkowski',\n",
       " 'metric_params': None,\n",
       " 'n_jobs': None,\n",
       " 'n_neighbors': 5,\n",
       " 'p': 2,\n",
       " 'weights': 'uniform'}"
      ]
     },
     "metadata": {},
     "execution_count": 29
    }
   ],
   "source": [
    "kn_clf = KNeighborsClassifier()\n",
    "kn_clf.get_params()"
   ]
  },
  {
   "cell_type": "code",
   "execution_count": 30,
   "metadata": {},
   "outputs": [],
   "source": [
    "params = {\n",
    "    'n_neighbors': [1, 5, 10, 11, 12]\n",
    "}"
   ]
  },
  {
   "cell_type": "code",
   "execution_count": 31,
   "metadata": {},
   "outputs": [
    {
     "output_type": "stream",
     "name": "stdout",
     "text": [
      "최고 평균 정확도: 0.9624\n최적 파라미터: {'n_neighbors': 12}\n"
     ]
    }
   ],
   "source": [
    "grid_cv = GridSearchCV(kn_clf, param_grid=params, scoring='accuracy', cv=5)\n",
    "grid_cv.fit(X_train_scaled, y_train)\n",
    "print(f'최고 평균 정확도: {grid_cv.best_score_:.4f}')\n",
    "print('최적 파라미터:', grid_cv.best_params_)"
   ]
  },
  {
   "cell_type": "code",
   "execution_count": 32,
   "metadata": {},
   "outputs": [
    {
     "output_type": "stream",
     "name": "stdout",
     "text": [
      "평균 정확도 : 0.9624\n"
     ]
    }
   ],
   "source": [
    "best_kn = grid_cv.best_estimator_ # best_estimator_ : 최적의 파라미터로 모델 생성\n",
    "pred = best_kn.predict(X_test_scaled)\n",
    "acc_kn = accuracy_score(y_test, pred)\n",
    "print(f'평균 정확도 : {acc_kn:.4f}')"
   ]
  },
  {
   "cell_type": "code",
   "execution_count": 33,
   "metadata": {},
   "outputs": [
    {
     "output_type": "execute_result",
     "data": {
      "text/plain": [
       "['../static/model/wine_kn.pkl']"
      ]
     },
     "metadata": {},
     "execution_count": 33
    }
   ],
   "source": [
    "joblib.dump(best_kn, '../static/model/wine_kn.pkl')"
   ]
  },
  {
   "source": [
    "### Test"
   ],
   "cell_type": "markdown",
   "metadata": {}
  },
  {
   "cell_type": "code",
   "execution_count": 45,
   "metadata": {},
   "outputs": [],
   "source": [
    "index = 3"
   ]
  },
  {
   "cell_type": "code",
   "execution_count": 46,
   "metadata": {},
   "outputs": [
    {
     "output_type": "execute_result",
     "data": {
      "text/plain": [
       "(array([[1.305e+01, 5.800e+00, 2.130e+00, 2.150e+01, 8.600e+01, 2.620e+00,\n",
       "         2.650e+00, 3.000e-01, 2.010e+00, 2.600e+00, 7.300e-01, 3.100e+00,\n",
       "         3.800e+02]]),\n",
       " 1)"
      ]
     },
     "metadata": {},
     "execution_count": 46
    }
   ],
   "source": [
    "test_data = (df_test.iloc[index, :-1].values).reshape(1,-1)\n",
    "label = df_test.iloc[index, -1]\n",
    "test_data, label"
   ]
  },
  {
   "cell_type": "code",
   "execution_count": 47,
   "metadata": {},
   "outputs": [],
   "source": [
    "new_scaler = joblib.load('../static/model/wine_scaler.pkl')"
   ]
  },
  {
   "cell_type": "code",
   "execution_count": 48,
   "metadata": {},
   "outputs": [],
   "source": [
    "test_scaled = new_scaler.transform(test_data)"
   ]
  },
  {
   "cell_type": "code",
   "execution_count": 49,
   "metadata": {},
   "outputs": [],
   "source": [
    "pred_lr = best_lr.predict(test_scaled)\n",
    "pred_sv = best_sv.predict(test_scaled)\n",
    "pred_dt = best_dt.predict(test_scaled)\n",
    "pred_rf = best_rf.predict(test_scaled)\n",
    "pred_kn = best_kn.predict(test_scaled)"
   ]
  },
  {
   "cell_type": "code",
   "execution_count": 50,
   "metadata": {},
   "outputs": [
    {
     "output_type": "execute_result",
     "data": {
      "text/plain": [
       "(1, 1, 1, 1, 1, 1)"
      ]
     },
     "metadata": {},
     "execution_count": 50
    }
   ],
   "source": [
    "label, pred_lr[0], pred_sv[0], pred_dt[0], pred_rf[0], pred_kn[0]"
   ]
  },
  {
   "cell_type": "code",
   "execution_count": 51,
   "metadata": {},
   "outputs": [
    {
     "output_type": "execute_result",
     "data": {
      "text/plain": [
       "{'label': 1,\n",
       " 'pred_lr': 1,\n",
       " 'area_ratio': 1,\n",
       " 'per_person': 1,\n",
       " 'pred_rf': 1,\n",
       " 'pred_kn': 1}"
      ]
     },
     "metadata": {},
     "execution_count": 51
    }
   ],
   "source": [
    "wine_dict = {'label':label, 'pred_lr':pred_lr[0], 'area_ratio': pred_sv[0], 'per_person':pred_dt[0], 'pred_rf': pred_rf[0], 'pred_kn': pred_kn[0]}\n",
    "wine_dict"
   ]
  },
  {
   "cell_type": "code",
   "execution_count": null,
   "metadata": {},
   "outputs": [],
   "source": []
  }
 ]
}