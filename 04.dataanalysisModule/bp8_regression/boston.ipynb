{
 "metadata": {
  "language_info": {
   "codemirror_mode": {
    "name": "ipython",
    "version": 3
   },
   "file_extension": ".py",
   "mimetype": "text/x-python",
   "name": "python",
   "nbconvert_exporter": "python",
   "pygments_lexer": "ipython3",
   "version": "3.8.3-final"
  },
  "orig_nbformat": 2,
  "kernelspec": {
   "name": "python3",
   "display_name": "Python 3",
   "language": "python"
  }
 },
 "nbformat": 4,
 "nbformat_minor": 2,
 "cells": [
  {
   "cell_type": "code",
   "execution_count": 1,
   "metadata": {},
   "outputs": [],
   "source": [
    "import pandas as pd \n",
    "import joblib\n",
    "from sklearn.model_selection import GridSearchCV\n",
    "from sklearn.metrics import accuracy_score\n",
    "\n",
    "from sklearn.preprocessing import StandardScaler, MinMaxScaler\n",
    "from sklearn.linear_model import LogisticRegression\n",
    "from sklearn.tree import DecisionTreeClassifier\n",
    "from sklearn.svm import SVC\n",
    "from sklearn.ensemble import RandomForestClassifier\n",
    "from sklearn.neighbors import KNeighborsClassifier\n",
    "import numpy as np\n",
    "import matplotlib.pyplot as plt\n",
    "import seaborn as sns\n",
    "%matplotlib inline"
   ]
  },
  {
   "cell_type": "code",
   "execution_count": 2,
   "metadata": {},
   "outputs": [
    {
     "output_type": "execute_result",
     "data": {
      "text/plain": [
       "      CRIM    ZN  INDUS  CHAS    NOX     RM   AGE     DIS   RAD    TAX  \\\n",
       "0  6.53876   0.0  18.10   1.0  0.631  7.016  97.5  1.2024  24.0  666.0   \n",
       "1  0.01870  85.0   4.15   0.0  0.429  6.516  27.7  8.5353   4.0  351.0   \n",
       "2  9.82349   0.0  18.10   0.0  0.671  6.794  98.8  1.3580  24.0  666.0   \n",
       "\n",
       "   PTRATIO       B  LSTAT  target  \n",
       "0     20.2  392.05   2.96    50.0  \n",
       "1     17.9  392.43   6.36    23.1  \n",
       "2     20.2  396.90  21.24    13.3  "
      ],
      "text/html": "<div>\n<style scoped>\n    .dataframe tbody tr th:only-of-type {\n        vertical-align: middle;\n    }\n\n    .dataframe tbody tr th {\n        vertical-align: top;\n    }\n\n    .dataframe thead th {\n        text-align: right;\n    }\n</style>\n<table border=\"1\" class=\"dataframe\">\n  <thead>\n    <tr style=\"text-align: right;\">\n      <th></th>\n      <th>CRIM</th>\n      <th>ZN</th>\n      <th>INDUS</th>\n      <th>CHAS</th>\n      <th>NOX</th>\n      <th>RM</th>\n      <th>AGE</th>\n      <th>DIS</th>\n      <th>RAD</th>\n      <th>TAX</th>\n      <th>PTRATIO</th>\n      <th>B</th>\n      <th>LSTAT</th>\n      <th>target</th>\n    </tr>\n  </thead>\n  <tbody>\n    <tr>\n      <th>0</th>\n      <td>6.53876</td>\n      <td>0.0</td>\n      <td>18.10</td>\n      <td>1.0</td>\n      <td>0.631</td>\n      <td>7.016</td>\n      <td>97.5</td>\n      <td>1.2024</td>\n      <td>24.0</td>\n      <td>666.0</td>\n      <td>20.2</td>\n      <td>392.05</td>\n      <td>2.96</td>\n      <td>50.0</td>\n    </tr>\n    <tr>\n      <th>1</th>\n      <td>0.01870</td>\n      <td>85.0</td>\n      <td>4.15</td>\n      <td>0.0</td>\n      <td>0.429</td>\n      <td>6.516</td>\n      <td>27.7</td>\n      <td>8.5353</td>\n      <td>4.0</td>\n      <td>351.0</td>\n      <td>17.9</td>\n      <td>392.43</td>\n      <td>6.36</td>\n      <td>23.1</td>\n    </tr>\n    <tr>\n      <th>2</th>\n      <td>9.82349</td>\n      <td>0.0</td>\n      <td>18.10</td>\n      <td>0.0</td>\n      <td>0.671</td>\n      <td>6.794</td>\n      <td>98.8</td>\n      <td>1.3580</td>\n      <td>24.0</td>\n      <td>666.0</td>\n      <td>20.2</td>\n      <td>396.90</td>\n      <td>21.24</td>\n      <td>13.3</td>\n    </tr>\n  </tbody>\n</table>\n</div>"
     },
     "metadata": {},
     "execution_count": 2
    }
   ],
   "source": [
    "df = pd.read_csv('../static/data/boston_train.csv')\n",
    "df.head(3)"
   ]
  },
  {
   "cell_type": "code",
   "execution_count": 4,
   "metadata": {},
   "outputs": [],
   "source": [
    "from sklearn.model_selection import train_test_split\n",
    "from sklearn.linear_model import LinearRegression\n",
    "from sklearn.metrics import mean_squared_error, r2_score"
   ]
  },
  {
   "cell_type": "code",
   "execution_count": 4,
   "metadata": {},
   "outputs": [],
   "source": [
    "feature_name = 'CRIM'"
   ]
  },
  {
   "cell_type": "code",
   "execution_count": 5,
   "metadata": {},
   "outputs": [
    {
     "output_type": "stream",
     "name": "stdout",
     "text": [
      "['CRIM', 'ZN', 'INDUS', 'CHAS', 'NOX', 'RM', 'AGE', 'DIS', 'RAD', 'TAX', 'PTRATIO', 'B', 'LSTAT']\n"
     ]
    }
   ],
   "source": [
    "feature_list = list(df.columns[:-1])\n",
    "print(feature_list)"
   ]
  },
  {
   "cell_type": "code",
   "execution_count": 8,
   "metadata": {},
   "outputs": [
    {
     "output_type": "execute_result",
     "data": {
      "text/plain": [
       "((379, 13), (379,))"
      ]
     },
     "metadata": {},
     "execution_count": 8
    }
   ],
   "source": [
    "X = df[feature_list].values\n",
    "y = df.target.values\n",
    "X.shape, y.shape"
   ]
  },
  {
   "cell_type": "code",
   "execution_count": 9,
   "metadata": {},
   "outputs": [
    {
     "output_type": "execute_result",
     "data": {
      "text/plain": [
       "LinearRegression()"
      ]
     },
     "metadata": {},
     "execution_count": 9
    }
   ],
   "source": [
    "lr = LinearRegression()\n",
    "lr.fit(X, y)"
   ]
  },
  {
   "cell_type": "code",
   "execution_count": 10,
   "metadata": {},
   "outputs": [
    {
     "output_type": "stream",
     "name": "stdout",
     "text": [
      "[-1.27421498e-01  4.99114338e-02  1.05071184e-02  3.72805249e+00\n -1.72676176e+01  3.78675485e+00  1.35124646e-02 -1.47750709e+00\n  3.51385233e-01 -1.23215025e-02 -8.91018698e-01  1.04112328e-02\n -6.07027919e-01], 34.63352365795088\n"
     ]
    }
   ],
   "source": [
    "weight, bias = lr.coef_, lr.intercept_\n",
    "print(f'{weight}, {bias}')"
   ]
  },
  {
   "cell_type": "code",
   "execution_count": 11,
   "metadata": {},
   "outputs": [
    {
     "output_type": "execute_result",
     "data": {
      "text/plain": [
       "      CRIM    ZN  INDUS  CHAS    NOX     RM   AGE     DIS   RAD    TAX  \\\n",
       "0  6.53876   0.0  18.10   1.0  0.631  7.016  97.5  1.2024  24.0  666.0   \n",
       "1  0.01870  85.0   4.15   0.0  0.429  6.516  27.7  8.5353   4.0  351.0   \n",
       "\n",
       "   PTRATIO       B  LSTAT  target  \n",
       "0     20.2  392.05   2.96    50.0  \n",
       "1     17.9  392.43   6.36    23.1  "
      ],
      "text/html": "<div>\n<style scoped>\n    .dataframe tbody tr th:only-of-type {\n        vertical-align: middle;\n    }\n\n    .dataframe tbody tr th {\n        vertical-align: top;\n    }\n\n    .dataframe thead th {\n        text-align: right;\n    }\n</style>\n<table border=\"1\" class=\"dataframe\">\n  <thead>\n    <tr style=\"text-align: right;\">\n      <th></th>\n      <th>CRIM</th>\n      <th>ZN</th>\n      <th>INDUS</th>\n      <th>CHAS</th>\n      <th>NOX</th>\n      <th>RM</th>\n      <th>AGE</th>\n      <th>DIS</th>\n      <th>RAD</th>\n      <th>TAX</th>\n      <th>PTRATIO</th>\n      <th>B</th>\n      <th>LSTAT</th>\n      <th>target</th>\n    </tr>\n  </thead>\n  <tbody>\n    <tr>\n      <th>0</th>\n      <td>6.53876</td>\n      <td>0.0</td>\n      <td>18.10</td>\n      <td>1.0</td>\n      <td>0.631</td>\n      <td>7.016</td>\n      <td>97.5</td>\n      <td>1.2024</td>\n      <td>24.0</td>\n      <td>666.0</td>\n      <td>20.2</td>\n      <td>392.05</td>\n      <td>2.96</td>\n      <td>50.0</td>\n    </tr>\n    <tr>\n      <th>1</th>\n      <td>0.01870</td>\n      <td>85.0</td>\n      <td>4.15</td>\n      <td>0.0</td>\n      <td>0.429</td>\n      <td>6.516</td>\n      <td>27.7</td>\n      <td>8.5353</td>\n      <td>4.0</td>\n      <td>351.0</td>\n      <td>17.9</td>\n      <td>392.43</td>\n      <td>6.36</td>\n      <td>23.1</td>\n    </tr>\n  </tbody>\n</table>\n</div>"
     },
     "metadata": {},
     "execution_count": 11
    }
   ],
   "source": [
    "df_test = pd.read_csv('../static/data/boston_test.csv')\n",
    "df_test.head(2)"
   ]
  },
  {
   "cell_type": "code",
   "execution_count": 12,
   "metadata": {},
   "outputs": [],
   "source": [
    "index = 100"
   ]
  },
  {
   "cell_type": "code",
   "execution_count": 13,
   "metadata": {},
   "outputs": [
    {
     "output_type": "stream",
     "name": "stdout",
     "text": [
      "[5.69175e+00 0.00000e+00 1.81000e+01 0.00000e+00 5.83000e-01 6.11400e+00\n 7.98000e+01 3.54590e+00 2.40000e+01 6.66000e+02 2.02000e+01 3.92680e+02\n 1.49800e+01], 19.1\n"
     ]
    }
   ],
   "source": [
    "X_test = df_test[feature_list].values[index, :]\n",
    "y_test = df_test.target[index]\n",
    "print(f'{X_test}, {y_test}')"
   ]
  },
  {
   "cell_type": "code",
   "execution_count": 14,
   "metadata": {},
   "outputs": [
    {
     "output_type": "execute_result",
     "data": {
      "text/plain": [
       "20.25"
      ]
     },
     "metadata": {},
     "execution_count": 14
    }
   ],
   "source": [
    "pred = np.dot(X_test, weight.T) + bias  # pred = lr.predict(X_test.reshape(1, -1))\n",
    "pred = np.round(pred, 2)           # pred = np.round(pred[0])\n",
    "pred"
   ]
  },
  {
   "cell_type": "code",
   "execution_count": 15,
   "metadata": {},
   "outputs": [],
   "source": [
    "result_dict = result_dict = {'index':index, 'feature':feature_list, 'y':y_test, 'pred':pred}"
   ]
  },
  {
   "cell_type": "code",
   "execution_count": 19,
   "metadata": {},
   "outputs": [
    {
     "output_type": "execute_result",
     "data": {
      "text/plain": [
       "{'CRIM': 5.69175,\n",
       " 'ZN': 0.0,\n",
       " 'INDUS': 18.1,\n",
       " 'CHAS': 0.0,\n",
       " 'NOX': 0.583,\n",
       " 'RM': 6.114,\n",
       " 'AGE': 79.8,\n",
       " 'DIS': 3.5459,\n",
       " 'RAD': 24.0,\n",
       " 'TAX': 666.0,\n",
       " 'PTRATIO': 20.2,\n",
       " 'B': 392.68,\n",
       " 'LSTAT': 14.98}"
      ]
     },
     "metadata": {},
     "execution_count": 19
    }
   ],
   "source": [
    "org = dict(zip(df.columns[:-1], df_test.iloc[index, :-1]))\n",
    "org"
   ]
  },
  {
   "cell_type": "code",
   "execution_count": null,
   "metadata": {},
   "outputs": [],
   "source": []
  }
 ]
}