{
 "metadata": {
  "language_info": {
   "codemirror_mode": {
    "name": "ipython",
    "version": 3
   },
   "file_extension": ".py",
   "mimetype": "text/x-python",
   "name": "python",
   "nbconvert_exporter": "python",
   "pygments_lexer": "ipython3",
   "version": "3.8.3-final"
  },
  "orig_nbformat": 2,
  "kernelspec": {
   "name": "python3",
   "display_name": "Python 3",
   "language": "python"
  }
 },
 "nbformat": 4,
 "nbformat_minor": 2,
 "cells": [
  {
   "cell_type": "code",
   "execution_count": 1,
   "metadata": {},
   "outputs": [],
   "source": [
    "import requests\n",
    "import urllib.parse\n",
    "from urllib.parse import urlparse, quote, urljoin\n",
    "import urllib.request\n",
    "from bs4 import BeautifulSoup\n",
    "import pandas as pd"
   ]
  },
  {
   "cell_type": "code",
   "execution_count": 2,
   "metadata": {},
   "outputs": [],
   "source": [
    "url = 'https://music.bugs.co.kr/chart'\n",
    "req = requests.get(url)\n",
    "html= req.text\n",
    "soup = BeautifulSoup(html, 'html.parser')"
   ]
  },
  {
   "cell_type": "code",
   "execution_count": null,
   "metadata": {},
   "outputs": [],
   "source": [
    "trs = soup.select_one('.list-wrap').find('tbody').select('tr.list')"
   ]
  },
  {
   "cell_type": "code",
   "execution_count": 6,
   "metadata": {
    "tags": [
     "outputPrepend"
    ]
   },
   "outputs": [
    {
     "output_type": "stream",
     "name": "stdout",
     "text": [
      "bugs.layermenu.trackMoreAction(this,'68635584','0','14116820','bugs.music.listenRadioFromSeed(\\'68635584\\',\\'track\\');','N', 'Y', '_chart');\n\" track_title=\"살짝 설렜어 (Nonstop)\">기타 기능</a>\n</td>\n</input></tr>\n<tr albumid=\"20366390\" artistid=\"80137177\" multiartist=\"N\" mvid=\"0\" rowtype=\"track\" trackid=\"32095534\">\n<input name=\"_isStream\" type=\"hidden\" value=\"32095534\">\n<input name=\"_isDown\" type=\"hidden\" value=\"32095534\"/>\n<td class=\"check\"><input buyminquality=\"T\" disc_id=\"1\" name=\"check\" title=\"I am not your ocean anymore\" type=\"checkbox\" value=\"32095534\"/></td>\n<td>\n<div class=\"ranking\">\n<strong>94</strong>\n<p class=\"change up\"><span class=\"arrow\"></span> <em>16</em> <span>계단 상승</span></p>\n</div>\n</td>\n<td>\n<a class=\"thumbnail\" href=\"https://music.bugs.co.kr/album/20366390?wl_ref=list_tr_07_chart\" onclick=\"\n\">\n<span class=\"mask\"></span>\n<img alt=\"tellusboutyourself 대표이미지\" onerror=\"bugs.utils.imgError(this);\" src=\"https://image.bugsm.co.kr/album/images/50/203663/20366390.jpg?version=20201211102254.0\"/>\n</a>\n</td>\n<td>\n<a class=\"trackInfo\" href=\"https://music.bugs.co.kr/track/32095534?wl_ref=list_tr_08_chart\" onclick=\"\n\">곡정보</a>\n</td>\n<th scope=\"row\">\n<p adult_yn=\"N\" class=\"title\">\n<a adultcheckval=\"1\" aria-label=\"새창\" href=\"javascript:;\" onclick=\"bugs.wiselog.area('list_tr_09_chart');bugs.music.listen('32095534',true);\n\" title=\"I am not your ocean anymore\">I am not your ocean anymore</a>\n</p>\n</th>\n<td class=\"left\">\n<p class=\"artist\">\n<a href=\"https://music.bugs.co.kr/artist/80137177?wl_ref=list_tr_10_chart\" onclick=\"\n\" title=\"백예린 (Yerin Baek)\">백예린 (Yerin Baek)</a>\n</p>\n</td>\n<td class=\"left\">\n<a class=\"album\" href=\"https://music.bugs.co.kr/album/20366390?wl_ref=list_tr_11_chart\" onclick=\"\n\" title=\"tellusboutyourself\">tellusboutyourself</a>\n</td>\n<td>\n<a adultcheckval=\"1\" aria-label=\"새창\" class=\"btn play\" href=\"javascript:;\" onclick=\"bugs.wiselog.area('list_tr_12_chart');bugs.music.listen('32095534',true);\n\">듣기</a>\n</td>\n<td>\n<a adultcheckval=\"1\" aria-label=\"새창\" class=\"btn addPlaylist\" href=\"javascript:;\" onclick=\"bugs.wiselog.area('list_tr_13_chart');bugs.music.listen('32095534');\n\">재생목록에 추가</a>\n</td>\n<td>\n<a class=\"btn addAlbum\" href=\"javascript:;\" onclick=\"bugs.wiselog.area('list_tr_14_chart');bugs.music.addTrackToMyAlbum(this,'32095534');\n\" track_title=\"I am not your ocean anymore\">내 앨범에 담기</a>\n</td>\n<td>\n<a adultcheckval=\"1\" aria-label=\"새창\" class=\"btn download flac\" href=\"javascript:;\" onclick=\"bugs.wiselog.area('list_tr_15_chart');bugs.layermenu.down(this,'32095534','true','true','44.1','true','96', null );\n\"><em class=\"flac\">flac </em>다운로드</a>\n</td>\n<td>\n<span class=\"btn viewMV\">영상 재생 불가</span>\n</td>\n<td>\n<a artist_disp_nm=\"백예린 (Yerin Baek)\" artist_id=\"80137177\" class=\"btnActions\" href=\"javascript:;\" layer_type=\"CHART\" layerpositiontarget=\"td\" onclick=\"bugs.wiselog.area('list_tr_17_chart');\nbugs.layermenu.trackMoreAction(this,'32095534','0','20366390','bugs.music.listenRadioFromSeed(\\'32095534\\',\\'track\\');','N', 'Y', '_chart');\n\" track_title=\"I am not your ocean anymore\">기타 기능</a>\n</td>\n</input></tr>\n<tr albumid=\"20361943\" artistid=\"80079394\" multiartist=\"N\" mvid=\"0\" rowtype=\"track\" trackid=\"32075137\">\n<input name=\"_isStream\" type=\"hidden\" value=\"32075137\">\n<input name=\"_isDown\" type=\"hidden\" value=\"32075137\"/>\n<td class=\"check\"><input buyminquality=\"T\" disc_id=\"1\" name=\"check\" title=\"Blue &amp; Grey\" type=\"checkbox\" value=\"32075137\"/></td>\n<td>\n<div class=\"ranking\">\n<strong>95</strong>\n<p class=\"change up\"><span class=\"arrow\"></span> <em>7</em> <span>계단 상승</span></p>\n</div>\n</td>\n<td>\n<a class=\"thumbnail\" href=\"https://music.bugs.co.kr/album/20361943?wl_ref=list_tr_07_chart\" onclick=\"\n\">\n<span class=\"mask\"></span>\n<img alt=\"BE 대표이미지\" onerror=\"bugs.utils.imgError(this);\" src=\"https://image.bugsm.co.kr/album/images/50/203619/20361943.jpg?version=20201130120023.0\"/>\n</a>\n</td>\n<td>\n<a class=\"trackInfo\" href=\"https://music.bugs.co.kr/track/32075137?wl_ref=list_tr_08_chart\" onclick=\"\n\">곡정보</a>\n</td>\n<th scope=\"row\">\n<p adult_yn=\"N\" class=\"title\">\n<a adultcheckval=\"1\" aria-label=\"새창\" href=\"javascript:;\" onclick=\"bugs.wiselog.area('list_tr_09_chart');bugs.music.listen('32075137',true);\n\" title=\"Blue &amp; Grey\">Blue &amp; Grey</a>\n</p>\n</th>\n<td class=\"left\">\n<p class=\"artist\">\n<a href=\"https://music.bugs.co.kr/artist/80079394?wl_ref=list_tr_10_chart\" onclick=\"\n\" title=\"방탄소년단\">방탄소년단</a>\n</p>\n</td>\n<td class=\"left\">\n<a class=\"album\" href=\"https://music.bugs.co.kr/album/20361943?wl_ref=list_tr_11_chart\" onclick=\"\n\" title=\"BE\">BE</a>\n</td>\n<td>\n<a adultcheckval=\"1\" aria-label=\"새창\" class=\"btn play\" href=\"javascript:;\" onclick=\"bugs.wiselog.area('list_tr_12_chart');bugs.music.listen('32075137',true);\n\">듣기</a>\n</td>\n<td>\n<a adultcheckval=\"1\" aria-label=\"새창\" class=\"btn addPlaylist\" href=\"javascript:;\" onclick=\"bugs.wiselog.area('list_tr_13_chart');bugs.music.listen('32075137');\n\">재생목록에 추가</a>\n</td>\n<td>\n<a class=\"btn addAlbum\" href=\"javascript:;\" onclick=\"bugs.wiselog.area('list_tr_14_chart');bugs.music.addTrackToMyAlbum(this,'32075137');\n\" track_title=\"Blue &amp; Grey\">내 앨범에 담기</a>\n</td>\n<td>\n<a adultcheckval=\"1\" aria-label=\"새창\" class=\"btn download flac\" href=\"javascript:;\" onclick=\"bugs.wiselog.area('list_tr_15_chart');bugs.layermenu.down(this,'32075137','true','true','44.1','false','', null );\n\"><em class=\"flac\">flac </em>다운로드</a>\n</td>\n<td>\n<span class=\"btn viewMV\">영상 재생 불가</span>\n</td>\n<td>\n<a artist_disp_nm=\"방탄소년단\" artist_id=\"80079394\" class=\"btnActions\" href=\"javascript:;\" layer_type=\"CHART\" layerpositiontarget=\"td\" onclick=\"bugs.wiselog.area('list_tr_17_chart');\nbugs.layermenu.trackMoreAction(this,'32075137','0','20361943','bugs.music.listenRadioFromSeed(\\'32075137\\',\\'track\\');','N', 'Y', '_chart');\n\" track_title=\"Blue &amp; Grey\">기타 기능</a>\n</td>\n</input></tr>\n<tr albumid=\"20352127\" artistid=\"20022492\" multiartist=\"N\" mvid=\"0\" rowtype=\"track\" trackid=\"32031228\">\n<input name=\"_isStream\" type=\"hidden\" value=\"32031228\">\n<input name=\"_isDown\" type=\"hidden\" value=\"32031228\"/>\n<td class=\"check\"><input buyminquality=\"T\" disc_id=\"1\" name=\"check\" title=\"Pretty Savage\" type=\"checkbox\" value=\"32031228\"/></td>\n<td>\n<div class=\"ranking\">\n<strong>96</strong>\n<p class=\"change up\"><span class=\"arrow\"></span> <em>17</em> <span>계단 상승</span></p>\n</div>\n</td>\n<td>\n<a class=\"thumbnail\" href=\"https://music.bugs.co.kr/album/20352127?wl_ref=list_tr_07_chart\" onclick=\"\n\">\n<span class=\"mask\"></span>\n<img alt=\"THE ALBUM 대표이미지\" onerror=\"bugs.utils.imgError(this);\" src=\"https://image.bugsm.co.kr/album/images/50/203521/20352127.jpg?version=20201106174952.0\"/>\n</a>\n</td>\n<td>\n<a class=\"trackInfo\" href=\"https://music.bugs.co.kr/track/32031228?wl_ref=list_tr_08_chart\" onclick=\"\n\">곡정보</a>\n</td>\n<th scope=\"row\">\n<p adult_yn=\"N\" class=\"title\">\n<a adultcheckval=\"1\" aria-label=\"새창\" href=\"javascript:;\" onclick=\"bugs.wiselog.area('list_tr_09_chart');bugs.music.listen('32031228',true);\n\" title=\"Pretty Savage\">Pretty Savage</a>\n</p>\n</th>\n<td class=\"left\">\n<p class=\"artist\">\n<a href=\"https://music.bugs.co.kr/artist/20022492?wl_ref=list_tr_10_chart\" onclick=\"\n\" title=\"BLACKPINK\">BLACKPINK</a>\n</p>\n</td>\n<td class=\"left\">\n<a class=\"album\" href=\"https://music.bugs.co.kr/album/20352127?wl_ref=list_tr_11_chart\" onclick=\"\n\" title=\"THE ALBUM\">THE ALBUM</a>\n</td>\n<td>\n<a adultcheckval=\"1\" aria-label=\"새창\" class=\"btn play\" href=\"javascript:;\" onclick=\"bugs.wiselog.area('list_tr_12_chart');bugs.music.listen('32031228',true);\n\">듣기</a>\n</td>\n<td>\n<a adultcheckval=\"1\" aria-label=\"새창\" class=\"btn addPlaylist\" href=\"javascript:;\" onclick=\"bugs.wiselog.area('list_tr_13_chart');bugs.music.listen('32031228');\n\">재생목록에 추가</a>\n</td>\n<td>\n<a class=\"btn addAlbum\" href=\"javascript:;\" onclick=\"bugs.wiselog.area('list_tr_14_chart');bugs.music.addTrackToMyAlbum(this,'32031228');\n\" track_title=\"Pretty Savage\">내 앨범에 담기</a>\n</td>\n<td>\n<a adultcheckval=\"1\" aria-label=\"새창\" class=\"btn download flac\" href=\"javascript:;\" onclick=\"bugs.wiselog.area('list_tr_15_chart');bugs.layermenu.down(this,'32031228','true','true','44.1','false','', null );\n\"><em class=\"flac\">flac </em>다운로드</a>\n</td>\n<td>\n<span class=\"btn viewMV\">영상 재생 불가</span>\n</td>\n<td>\n<a artist_disp_nm=\"BLACKPINK\" artist_id=\"20022492\" class=\"btnActions\" href=\"javascript:;\" layer_type=\"CHART\" layerpositiontarget=\"td\" onclick=\"bugs.wiselog.area('list_tr_17_chart');\nbugs.layermenu.trackMoreAction(this,'32031228','0','20352127','bugs.music.listenRadioFromSeed(\\'32031228\\',\\'track\\');','N', 'Y', '_chart');\n\" track_title=\"Pretty Savage\">기타 기능</a>\n</td>\n</input></tr>\n<tr albumid=\"20369607\" artistid=\"80108222\" multiartist=\"N\" mvid=\"582872\" rowtype=\"track\" trackid=\"32109602\">\n<input name=\"_isStream\" type=\"hidden\" value=\"32109602\">\n<input name=\"_isDown\" type=\"hidden\" value=\"32109602\"/>\n<td class=\"check\"><input buyminquality=\"T\" disc_id=\"1\" name=\"check\" title=\"불면(sleeplessness)\" type=\"checkbox\" value=\"32109602\"/></td>\n<td>\n<div class=\"ranking\">\n<strong>97</strong>\n<p class=\"change down\"><span class=\"arrow\"></span> <em>1</em> <span>계단 하락</span></p>\n</div>\n</td>\n<td>\n<a class=\"thumbnail\" href=\"https://music.bugs.co.kr/album/20369607?wl_ref=list_tr_07_chart\" onclick=\"\n\">\n<span class=\"mask\"></span>\n<img alt=\"불면(sleeplessness) 대표이미지\" onerror=\"bugs.utils.imgError(this);\" src=\"https://image.bugsm.co.kr/album/images/50/203696/20369607.jpg?version=20201228180001.0\"/>\n</a>\n</td>\n<td>\n<a class=\"trackInfo\" href=\"https://music.bugs.co.kr/track/32109602?wl_ref=list_tr_08_chart\" onclick=\"\n\">곡정보</a>\n</td>\n<th scope=\"row\">\n<p adult_yn=\"N\" class=\"title\">\n<a adultcheckval=\"1\" aria-label=\"새창\" href=\"javascript:;\" onclick=\"bugs.wiselog.area('list_tr_09_chart');bugs.music.listen('32109602',true);\n\" title=\"불면(sleeplessness)\">불면(sleeplessness)</a>\n</p>\n</th>\n<td class=\"left\">\n<p class=\"artist\">\n<a href=\"https://music.bugs.co.kr/artist/80108222?wl_ref=list_tr_10_chart\" onclick=\"\n\" title=\"김필(Kim Feel)\">김필(Kim Feel)</a>\n</p>\n</td>\n<td class=\"left\">\n<a class=\"album\" href=\"https://music.bugs.co.kr/album/20369607?wl_ref=list_tr_11_chart\" onclick=\"\n\" title=\"불면(sleeplessness)\">불면(sleeplessness)</a>\n</td>\n<td>\n<a adultcheckval=\"1\" aria-label=\"새창\" class=\"btn play\" href=\"javascript:;\" onclick=\"bugs.wiselog.area('list_tr_12_chart');bugs.music.listen('32109602',true);\n\">듣기</a>\n</td>\n<td>\n<a adultcheckval=\"1\" aria-label=\"새창\" class=\"btn addPlaylist\" href=\"javascript:;\" onclick=\"bugs.wiselog.area('list_tr_13_chart');bugs.music.listen('32109602');\n\">재생목록에 추가</a>\n</td>\n<td>\n<a class=\"btn addAlbum\" href=\"javascript:;\" onclick=\"bugs.wiselog.area('list_tr_14_chart');bugs.music.addTrackToMyAlbum(this,'32109602');\n\" track_title=\"불면(sleeplessness)\">내 앨범에 담기</a>\n</td>\n<td>\n<a adultcheckval=\"1\" aria-label=\"새창\" class=\"btn download flac\" href=\"javascript:;\" onclick=\"bugs.wiselog.area('list_tr_15_chart');bugs.layermenu.down(this,'32109602','true','true','44.1','true','96', null );\n\"><em class=\"flac\">flac </em>다운로드</a>\n</td>\n<td>\n<a aria-label=\"새창\" class=\"btn viewMV\" href=\"javascript:;\" onclick=\"bugs.wiselog.area('list_tr_16_chart');\nbugs.layermenu.mv(this,32109602, 582872, 'Y', 'Y', 'Y', 'Y', 32109602, 'N','ALL', 'Y');\n\">영상 재생</a>\n</td>\n<td>\n<a artist_disp_nm=\"김필(Kim Feel)\" artist_id=\"80108222\" class=\"btnActions\" href=\"javascript:;\" layer_type=\"CHART\" layerpositiontarget=\"td\" onclick=\"bugs.wiselog.area('list_tr_17_chart');\nbugs.layermenu.trackMoreAction(this,'32109602','0','20369607','bugs.music.listenRadioFromSeed(\\'32109602\\',\\'track\\');','N', 'Y', '_chart');\n\" track_title=\"불면(sleeplessness)\">기타 기능</a>\n</td>\n</input></tr>\n<tr albumid=\"4013644\" artistid=\"80347276\" multiartist=\"N\" mvid=\"579650\" rowtype=\"track\" trackid=\"6015754\">\n<input name=\"_isStream\" type=\"hidden\" value=\"6015754\">\n<input name=\"_isDown\" type=\"hidden\" value=\"6015754\"/>\n<td class=\"check\"><input buyminquality=\"T\" disc_id=\"1\" name=\"check\" title=\"SO BAD\" type=\"checkbox\" value=\"6015754\"/></td>\n<td>\n<div class=\"ranking\">\n<strong>98</strong>\n<p class=\"change down\"><span class=\"arrow\"></span> <em>9</em> <span>계단 하락</span></p>\n</div>\n</td>\n<td>\n<a class=\"thumbnail\" href=\"https://music.bugs.co.kr/album/4013644?wl_ref=list_tr_07_chart\" onclick=\"\n\">\n<span class=\"mask\"></span>\n<img alt=\"Star To A Young Culture 대표이미지\" onerror=\"bugs.utils.imgError(this);\" src=\"https://image.bugsm.co.kr/album/images/50/40136/4013644.jpg?version=20201113063811.0\"/>\n</a>\n</td>\n<td>\n<a class=\"trackInfo\" href=\"https://music.bugs.co.kr/track/6015754?wl_ref=list_tr_08_chart\" onclick=\"\n\">곡정보</a>\n</td>\n<th scope=\"row\">\n<p adult_yn=\"N\" class=\"title\">\n<a adultcheckval=\"1\" aria-label=\"새창\" href=\"javascript:;\" onclick=\"bugs.wiselog.area('list_tr_09_chart');bugs.music.listen('6015754',true);\n\" title=\"SO BAD\">SO BAD</a>\n</p>\n</th>\n<td class=\"left\">\n<p class=\"artist\">\n<a href=\"https://music.bugs.co.kr/artist/80347276?wl_ref=list_tr_10_chart\" onclick=\"\n\" title=\"STAYC(스테이씨)\">STAYC(스테이씨)</a>\n</p>\n</td>\n<td class=\"left\">\n<a class=\"album\" href=\"https://music.bugs.co.kr/album/4013644?wl_ref=list_tr_11_chart\" onclick=\"\n\" title=\"Star To A Young Culture\">Star To A Young Culture</a>\n</td>\n<td>\n<a adultcheckval=\"1\" aria-label=\"새창\" class=\"btn play\" href=\"javascript:;\" onclick=\"bugs.wiselog.area('list_tr_12_chart');bugs.music.listen('6015754',true);\n\">듣기</a>\n</td>\n<td>\n<a adultcheckval=\"1\" aria-label=\"새창\" class=\"btn addPlaylist\" href=\"javascript:;\" onclick=\"bugs.wiselog.area('list_tr_13_chart');bugs.music.listen('6015754');\n\">재생목록에 추가</a>\n</td>\n<td>\n<a class=\"btn addAlbum\" href=\"javascript:;\" onclick=\"bugs.wiselog.area('list_tr_14_chart');bugs.music.addTrackToMyAlbum(this,'6015754');\n\" track_title=\"SO BAD\">내 앨범에 담기</a>\n</td>\n<td>\n<a adultcheckval=\"1\" aria-label=\"새창\" class=\"btn download \" href=\"javascript:;\" onclick=\"bugs.wiselog.area('list_tr_15_chart');bugs.layermenu.down(this,'6015754','true','false','44.1','false','96', null );\n\">다운로드</a>\n</td>\n<td>\n<a aria-label=\"새창\" class=\"btn viewMV\" href=\"javascript:;\" onclick=\"bugs.wiselog.area('list_tr_16_chart');\nbugs.layermenu.mv(this,6015754, 579650, 'Y', 'Y', 'Y', 'Y', 6015754, 'N','OVER_12', 'Y');\n\">영상 재생</a>\n</td>\n<td>\n<a artist_disp_nm=\"STAYC(스테이씨)\" artist_id=\"80347276\" class=\"btnActions\" href=\"javascript:;\" layer_type=\"CHART\" layerpositiontarget=\"td\" onclick=\"bugs.wiselog.area('list_tr_17_chart');\nbugs.layermenu.trackMoreAction(this,'6015754','0','4013644','bugs.music.listenRadioFromSeed(\\'6015754\\',\\'track\\');','N', 'Y', '_chart');\n\" track_title=\"SO BAD\">기타 기능</a>\n</td>\n</input></tr>\n<tr albumid=\"20076172\" artistid=\"80120704\" multiartist=\"N\" mvid=\"0\" rowtype=\"track\" trackid=\"30512359\">\n<input name=\"_isStream\" type=\"hidden\" value=\"30512359\">\n<input name=\"_isDown\" type=\"hidden\" value=\"30512359\"/>\n<td class=\"check\"><input buyminquality=\"T\" disc_id=\"1\" name=\"check\" title=\"첫눈처럼 너에게 가겠다\" type=\"checkbox\" value=\"30512359\"/></td>\n<td>\n<div class=\"ranking\">\n<strong>99</strong>\n<p class=\"change down\"><span class=\"arrow\"></span> <em>1</em> <span>계단 하락</span></p>\n</div>\n</td>\n<td>\n<a class=\"thumbnail\" href=\"https://music.bugs.co.kr/album/20076172?wl_ref=list_tr_07_chart\" onclick=\"\n\">\n<span class=\"mask\"></span>\n<img alt=\"도깨비 (tvN 금토드라마) OST - Part.9 대표이미지\" onerror=\"bugs.utils.imgError(this);\" src=\"https://image.bugsm.co.kr/album/images/50/200761/20076172.jpg?version=20201008002443.0\"/>\n</a>\n</td>\n<td>\n<a class=\"trackInfo\" href=\"https://music.bugs.co.kr/track/30512359?wl_ref=list_tr_08_chart\" onclick=\"\n\">곡정보</a>\n</td>\n<th scope=\"row\">\n<p adult_yn=\"N\" class=\"title\">\n<a adultcheckval=\"1\" aria-label=\"새창\" href=\"javascript:;\" onclick=\"bugs.wiselog.area('list_tr_09_chart');bugs.music.listen('30512359',true);\n\" title=\"첫눈처럼 너에게 가겠다\">첫눈처럼 너에게 가겠다</a>\n</p>\n</th>\n<td class=\"left\">\n<p class=\"artist\">\n<a href=\"https://music.bugs.co.kr/artist/80120704?wl_ref=list_tr_10_chart\" onclick=\"\n\" title=\"에일리(AILEE)\">에일리(AILEE)</a>\n</p>\n</td>\n<td class=\"left\">\n<a class=\"album\" href=\"https://music.bugs.co.kr/album/20076172?wl_ref=list_tr_11_chart\" onclick=\"\n\" title=\"도깨비 (tvN 금토드라마) OST - Part.9\">도깨비 (tvN 금토드라마) OST - Part.9</a>\n</td>\n<td>\n<a adultcheckval=\"1\" aria-label=\"새창\" class=\"btn play\" href=\"javascript:;\" onclick=\"bugs.wiselog.area('list_tr_12_chart');bugs.music.listen('30512359',true);\n\">듣기</a>\n</td>\n<td>\n<a adultcheckval=\"1\" aria-label=\"새창\" class=\"btn addPlaylist\" href=\"javascript:;\" onclick=\"bugs.wiselog.area('list_tr_13_chart');bugs.music.listen('30512359');\n\">재생목록에 추가</a>\n</td>\n<td>\n<a class=\"btn addAlbum\" href=\"javascript:;\" onclick=\"bugs.wiselog.area('list_tr_14_chart');bugs.music.addTrackToMyAlbum(this,'30512359');\n\" track_title=\"첫눈처럼 너에게 가겠다\">내 앨범에 담기</a>\n</td>\n<td>\n<a adultcheckval=\"1\" aria-label=\"새창\" class=\"btn download flac\" href=\"javascript:;\" onclick=\"bugs.wiselog.area('list_tr_15_chart');bugs.layermenu.down(this,'30512359','true','true','44.1','true','96', null );\n\"><em class=\"flac\">flac </em>다운로드</a>\n</td>\n<td>\n<span class=\"btn viewMV\">영상 재생 불가</span>\n</td>\n<td>\n<a artist_disp_nm=\"에일리(AILEE)\" artist_id=\"80120704\" class=\"btnActions\" href=\"javascript:;\" layer_type=\"CHART\" layerpositiontarget=\"td\" onclick=\"bugs.wiselog.area('list_tr_17_chart');\nbugs.layermenu.trackMoreAction(this,'30512359','0','20076172','bugs.music.listenRadioFromSeed(\\'30512359\\',\\'track\\');','N', 'Y', '_chart');\n\" track_title=\"첫눈처럼 너에게 가겠다\">기타 기능</a>\n</td>\n</input></tr>\n<tr albumid=\"710656\" artistid=\"80206415\" multiartist=\"N\" mvid=\"409770\" rowtype=\"track\" trackid=\"5187028\">\n<input name=\"_isStream\" type=\"hidden\" value=\"5187028\">\n<input name=\"_isDown\" type=\"hidden\" value=\"5187028\"/>\n<td class=\"check\"><input buyminquality=\"T\" disc_id=\"1\" name=\"check\" title=\"2002\" type=\"checkbox\" value=\"5187028\"/></td>\n<td>\n<div class=\"ranking\">\n<strong>100</strong>\n<p class=\"change up\"><span class=\"arrow\"></span> <em>4</em> <span>계단 상승</span></p>\n</div>\n</td>\n<td>\n<a class=\"thumbnail\" href=\"https://music.bugs.co.kr/album/710656?wl_ref=list_tr_07_chart\" onclick=\"\n\">\n<span class=\"mask\"></span>\n<img alt=\"Speak Your Mind [Deluxe] 대표이미지\" onerror=\"bugs.utils.imgError(this);\" src=\"https://image.bugsm.co.kr/album/images/50/7106/710656.jpg?version=20200424002343.0\"/>\n</a>\n</td>\n<td>\n<a class=\"trackInfo\" href=\"https://music.bugs.co.kr/track/5187028?wl_ref=list_tr_08_chart\" onclick=\"\n\">곡정보</a>\n</td>\n<th scope=\"row\">\n<p adult_yn=\"N\" class=\"title\">\n<a adultcheckval=\"1\" aria-label=\"새창\" href=\"javascript:;\" onclick=\"bugs.wiselog.area('list_tr_09_chart');bugs.music.listen('5187028',true);\n\" title=\"2002\">2002</a>\n</p>\n</th>\n<td class=\"left\">\n<p class=\"artist\">\n<a href=\"https://music.bugs.co.kr/artist/80206415?wl_ref=list_tr_10_chart\" onclick=\"\n\" title=\"Anne-Marie(앤 마리)\">Anne-Marie(앤 마리)</a>\n</p>\n</td>\n<td class=\"left\">\n<a class=\"album\" href=\"https://music.bugs.co.kr/album/710656?wl_ref=list_tr_11_chart\" onclick=\"\n\" title=\"Speak Your Mind [Deluxe]\">Speak Your Mind [Deluxe]</a>\n</td>\n<td>\n<a adultcheckval=\"1\" aria-label=\"새창\" class=\"btn play\" href=\"javascript:;\" onclick=\"bugs.wiselog.area('list_tr_12_chart');bugs.music.listen('5187028',true);\n\">듣기</a>\n</td>\n<td>\n<a adultcheckval=\"1\" aria-label=\"새창\" class=\"btn addPlaylist\" href=\"javascript:;\" onclick=\"bugs.wiselog.area('list_tr_13_chart');bugs.music.listen('5187028');\n\">재생목록에 추가</a>\n</td>\n<td>\n<a class=\"btn addAlbum\" href=\"javascript:;\" onclick=\"bugs.wiselog.area('list_tr_14_chart');bugs.music.addTrackToMyAlbum(this,'5187028');\n\" track_title=\"2002\">내 앨범에 담기</a>\n</td>\n<td>\n<a adultcheckval=\"1\" aria-label=\"새창\" class=\"btn download \" href=\"javascript:;\" onclick=\"bugs.wiselog.area('list_tr_15_chart');bugs.layermenu.down(this,'5187028','true','false','44.1','false','', null );\n\">다운로드</a>\n</td>\n<td>\n<a aria-label=\"새창\" class=\"btn viewMV\" href=\"javascript:;\" onclick=\"bugs.wiselog.area('list_tr_16_chart');\nbugs.layermenu.mv(this,5187028, 409770, 'Y', 'Y', 'Y', 'Y', 5187028, 'N','OVER_15', 'N');\n\">영상 재생</a>\n</td>\n<td>\n<a artist_disp_nm=\"Anne-Marie(앤 마리)\" artist_id=\"80206415\" class=\"btnActions\" href=\"javascript:;\" layer_type=\"CHART\" layerpositiontarget=\"td\" onclick=\"bugs.wiselog.area('list_tr_17_chart');\nbugs.layermenu.trackMoreAction(this,'5187028','0','710656','bugs.music.listenRadioFromSeed(\\'5187028\\',\\'track\\');','N', 'Y', '_chart');\n\" track_title=\"2002\">기타 기능</a>\n</td>\n</input></tr>\n</tbody>\n"
     ]
    }
   ],
   "source": [
    "tpo = soup.select_one('.list.trackList.byChart').find('tbody')\n",
    "print(tpo)"
   ]
  },
  {
   "cell_type": "code",
   "execution_count": 10,
   "metadata": {},
   "outputs": [
    {
     "output_type": "execute_result",
     "data": {
      "text/plain": [
       "'1'"
      ]
     },
     "metadata": {},
     "execution_count": 10
    }
   ],
   "source": [
    "n = tpo.find('strong').get_text()\n",
    "n"
   ]
  },
  {
   "cell_type": "code",
   "execution_count": null,
   "metadata": {},
   "outputs": [],
   "source": [
    "tit = tpo.find('')"
   ]
  },
  {
   "cell_type": "code",
   "execution_count": null,
   "metadata": {},
   "outputs": [],
   "source": [
    "replace(price[find_bracket_s:find_bracket_e], '')]"
   ]
  }
 ]
}