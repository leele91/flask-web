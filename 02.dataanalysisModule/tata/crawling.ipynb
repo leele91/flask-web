{
 "metadata": {
  "language_info": {
   "codemirror_mode": {
    "name": "ipython",
    "version": 3
   },
   "file_extension": ".py",
   "mimetype": "text/x-python",
   "name": "python",
   "nbconvert_exporter": "python",
   "pygments_lexer": "ipython3",
   "version": "3.8.3-final"
  },
  "orig_nbformat": 2,
  "kernelspec": {
   "name": "python3",
   "display_name": "Python 3",
   "language": "python"
  }
 },
 "nbformat": 4,
 "nbformat_minor": 2,
 "cells": [
  {
   "cell_type": "code",
   "execution_count": 2,
   "metadata": {},
   "outputs": [],
   "source": [
    "import requests\n",
    "import urllib.parse\n",
    "from urllib.parse import urlparse, quote, urljoin\n",
    "import urllib.request\n",
    "from bs4 import BeautifulSoup\n",
    "import pandas as pd"
   ]
  },
  {
   "cell_type": "code",
   "execution_count": 4,
   "metadata": {},
   "outputs": [],
   "source": [
    "url_base = 'http://www.menupan.com/restaurant/search/search_main.asp?'\n",
    "sub_url = 'page=1'\n",
    "url = url_base + sub_url\n",
    "req = requests.get(url)"
   ]
  },
  {
   "cell_type": "code",
   "execution_count": 5,
   "metadata": {},
   "outputs": [],
   "source": [
    "soup = BeautifulSoup(req.text, 'html.parser')"
   ]
  },
  {
   "cell_type": "code",
   "execution_count": 30,
   "metadata": {},
   "outputs": [
    {
     "output_type": "execute_result",
     "data": {
      "text/plain": [
       "[<ul class=\"list\">\n",
       " <!-- 선택된탭 .select -->\n",
       " <li class=\"cid_tab_list_li first_child\"><a href=\"javascript:;\"><span class=\"txt\">전국</span></a></li>\n",
       " <li class=\"cid_tab_list_li two_line\"><a href=\"javascript:;\"><span class=\"txt\">서울<br/>강남</span></a></li>\n",
       " <li class=\"cid_tab_list_li two_line\"><a href=\"javascript:;\"><span class=\"txt\">서울<br/>강북</span></a></li>\n",
       " <li class=\"cid_tab_list_li two_line\"><a href=\"javascript:;\"><span class=\"txt\">경기<br/>남부</span></a></li>\n",
       " <li class=\"cid_tab_list_li two_line\"><a href=\"javascript:;\"><span class=\"txt\">경기<br/>북부</span></a></li>\n",
       " <li class=\"cid_tab_list_li \"><a href=\"javascript:;\"><span class=\"txt\">인천</span></a></li>\n",
       " <li class=\"cid_tab_list_li \"><a href=\"javascript:;\"><span class=\"txt\">부산</span></a></li>\n",
       " <li class=\"cid_tab_list_li \"><a href=\"javascript:;\"><span class=\"txt\">대구</span></a></li>\n",
       " <li class=\"cid_tab_list_li \"><a href=\"javascript:;\"><span class=\"txt\">광주</span></a></li>\n",
       " <li class=\"cid_tab_list_li \"><a href=\"javascript:;\"><span class=\"txt\">대전</span></a></li>\n",
       " <li class=\"cid_tab_list_li \"><a href=\"javascript:;\"><span class=\"txt\">울산</span></a></li>\n",
       " <li class=\"cid_tab_list_li \"><a href=\"javascript:;\"><span class=\"txt\">강원</span></a></li>\n",
       " <li class=\"cid_tab_list_li \"><a href=\"javascript:;\"><span class=\"txt\">충청</span></a></li>\n",
       " <li class=\"cid_tab_list_li \"><a href=\"javascript:;\"><span class=\"txt\">경상</span></a></li>\n",
       " <li class=\"cid_tab_list_li \"><a href=\"javascript:;\"><span class=\"txt\">전라</span></a></li>\n",
       " <li class=\"cid_tab_list_li last_child\"><a href=\"javascript:;\"><span class=\"txt\">제주</span></a></li>\n",
       " </ul>,\n",
       " <ul class=\"list hide cid_tab_sub\"></ul>,\n",
       " <ul class=\"list hide cid_tab_sub\"></ul>,\n",
       " <ul class=\"list hide cid_tab_sub\"></ul>,\n",
       " <ul class=\"list hide cid_tab_sub\"></ul>,\n",
       " <ul class=\"list hide cid_tab_sub\"></ul>,\n",
       " <ul class=\"list hide cid_tab_sub\"></ul>,\n",
       " <ul class=\"list hide cid_tab_sub\"></ul>,\n",
       " <ul class=\"list hide cid_tab_sub\"></ul>,\n",
       " <ul class=\"list hide cid_tab_sub\"></ul>,\n",
       " <ul class=\"list hide cid_tab_sub\"></ul>,\n",
       " <ul class=\"list hide cid_tab_sub\"></ul>,\n",
       " <ul class=\"list hide cid_tab_sub\"></ul>,\n",
       " <ul class=\"list hide cid_tab_sub\"></ul>,\n",
       " <ul class=\"list hide cid_tab_sub\"></ul>,\n",
       " <ul class=\"list hide cid_tab_sub\"></ul>,\n",
       " <ul class=\"list\">\n",
       " <!-- 한 페이지당 리스트 25개 -->\n",
       " <li>\n",
       " <div class=\"listRank\"> <p class=\"numTop\">1</p>\n",
       " <p class=\"fluc\"><span class=\"same\">same</span></p>\n",
       " </div>\n",
       " <p class=\"listPhoto\"><a href=\"/restaurant/onepage.asp?acode=D102947\" target=\"_blank\"><img alt=\"\" onerror=\"this.src='/image/restaurant/bestrest/noimg_50.gif'\" src=\"/restaurant/restimg/007/ssimg/d102947a_s.jpg\"/></a></p>\n",
       " <p class=\"listName\"><span class=\"restName\"><a href=\"/restaurant/onepage.asp?acode=D102947\" target=\"_blank\">피오니(Peony) 연남점</a></span></p>\n",
       " <p class=\"listType\">카페/주점</p>\n",
       " <p class=\"listArea\">마포구 연남동</p>\n",
       " <p class=\"listService\">\n",
       " </p>\n",
       " </li>\n",
       " <li>\n",
       " <div class=\"listRank\"> <p class=\"numTop\">2</p>\n",
       " <p class=\"fluc\"><span class=\"up\">8400</span></p>\n",
       " </div>\n",
       " <p class=\"listPhoto\"><a href=\"/restaurant/onepage.asp?acode=H121133\" target=\"_blank\"><img alt=\"\" onerror=\"this.src='/image/restaurant/bestrest/noimg_50.gif'\" src=\"/restaurant/restimg/003/ssimg/h121133a_s.jpg\"/></a></p>\n",
       " <p class=\"listName\"><span class=\"restName\"><a href=\"/restaurant/onepage.asp?acode=H121133\" target=\"_blank\">곳간by이종국</a></span><span class=\"ic_hot\"></span></p>\n",
       " <p class=\"listType\">한식</p>\n",
       " <p class=\"listArea\">영등포구 여의도동</p>\n",
       " <p class=\"listService\">\n",
       " </p>\n",
       " </li>\n",
       " <li>\n",
       " <div class=\"listRank\"> <p class=\"numTop\">3</p>\n",
       " <p class=\"fluc\"><span class=\"up\">8244</span></p>\n",
       " </div>\n",
       " <p class=\"listPhoto\"><a href=\"/restaurant/onepage.asp?acode=R700319\" target=\"_blank\"><img alt=\"\" onerror=\"this.src='/image/restaurant/bestrest/noimg_50.gif'\" src=\"/restaurant/restimg/009/ssimg/r700319a_s.jpg\"/></a></p>\n",
       " <p class=\"listName\"><span class=\"restName\"><a href=\"/restaurant/onepage.asp?acode=R700319\" target=\"_blank\">서가앤쿡 창원상남점</a></span><span class=\"ic_hot\"></span></p>\n",
       " <p class=\"listType\">양식</p>\n",
       " <p class=\"listArea\">창원시 성산구 상남동</p>\n",
       " <p class=\"listService\">\n",
       " </p>\n",
       " </li>\n",
       " <li>\n",
       " <div class=\"listRank\"> <p class=\"rankNum\">4</p>\n",
       " <p class=\"fluc\"><span class=\"up\">9758</span></p>\n",
       " </div>\n",
       " <p class=\"listPhoto\"><a href=\"/restaurant/onepage.asp?acode=C200031\" target=\"_blank\"><img alt=\"\" onerror=\"this.src='/image/restaurant/bestrest/noimg_50.gif'\" src=\"/restaurant/restimg/001/ssimg/c200031a_s.jpg\"/></a></p>\n",
       " <p class=\"listName\"><span class=\"restName\"><a href=\"/restaurant/onepage.asp?acode=C200031\" target=\"_blank\">속초해물뚝배기짬뽕</a></span><span class=\"ic_hot\"></span></p>\n",
       " <p class=\"listType\">중식</p>\n",
       " <p class=\"listArea\">강원 속초시 교동</p>\n",
       " <p class=\"listService\">\n",
       " </p>\n",
       " </li>\n",
       " <li>\n",
       " <div class=\"listRank\"> <p class=\"rankNum\">5</p>\n",
       " <p class=\"fluc\"><span class=\"up\">9756</span></p>\n",
       " </div>\n",
       " <p class=\"listPhoto\"><a href=\"/restaurant/onepage.asp?acode=T168271\" target=\"_blank\"><img alt=\"\" onerror=\"this.src='/image/restaurant/bestrest/noimg_50.gif'\" src=\"/restaurant/restimg/001/ssimg/t168271a_s.jpg\"/></a></p>\n",
       " <p class=\"listName\"><span class=\"restName\"><a href=\"/restaurant/onepage.asp?acode=T168271\" target=\"_blank\">페퍼런치(Pepper Lunch) 코엑스점</a></span><span class=\"ic_hot\"></span></p>\n",
       " <p class=\"listType\">기타/세계</p>\n",
       " <p class=\"listArea\">강남구 삼성동</p>\n",
       " <p class=\"listService\">\n",
       " <img alt=\"프리쿠폰\" src=\"/image/restaurant/bestrest/ic_coupon.gif\"/>\n",
       " </p>\n",
       " </li>\n",
       " <li>\n",
       " <div class=\"listRank\"> <p class=\"rankNum\">6</p>\n",
       " <p class=\"fluc\"><span class=\"up\">8399</span></p>\n",
       " </div>\n",
       " <p class=\"listPhoto\"><a href=\"/restaurant/onepage.asp?acode=H119950\" target=\"_blank\"><img alt=\"\" onerror=\"this.src='/image/restaurant/bestrest/noimg_50.gif'\" src=\"/restaurant/restimg/000/ssimg/h119950a_s.jpg\"/></a></p>\n",
       " <p class=\"listName\"><span class=\"restName\"><a href=\"/restaurant/onepage.asp?acode=H119950\" target=\"_blank\">강강술래 상계점</a></span><span class=\"ic_hot\"></span></p>\n",
       " <p class=\"listType\">한식</p>\n",
       " <p class=\"listArea\">노원구 상계1동</p>\n",
       " <p class=\"listService\">\n",
       " </p>\n",
       " </li>\n",
       " <li>\n",
       " <div class=\"listRank\"> <p class=\"rankNum\">7</p>\n",
       " <p class=\"fluc\"><span class=\"up\">8401</span></p>\n",
       " </div>\n",
       " <p class=\"listPhoto\"><a href=\"/restaurant/onepage.asp?acode=G402035\" target=\"_blank\"><img alt=\"\" onerror=\"this.src='/image/restaurant/bestrest/noimg_50.gif'\" src=\"/restaurant/restimg/005/ssimg/g402035a_s.jpg\"/></a></p>\n",
       " <p class=\"listName\"><span class=\"restName\"><a href=\"/restaurant/onepage.asp?acode=G402035\" target=\"_blank\">바켄베이커리카페(BACKEN)</a></span><span class=\"ic_hot\"></span></p>\n",
       " <p class=\"listType\">베이커리</p>\n",
       " <p class=\"listArea\">경기 포천시 신읍동</p>\n",
       " <p class=\"listService\">\n",
       " </p>\n",
       " </li>\n",
       " <li>\n",
       " <div class=\"listRank\"> <p class=\"rankNum\">8</p>\n",
       " <p class=\"fluc\"><span class=\"up\">8215</span></p>\n",
       " </div>\n",
       " <p class=\"listPhoto\"><a href=\"/restaurant/onepage.asp?acode=H493286\" target=\"_blank\"><img alt=\"\" onerror=\"this.src='/image/restaurant/bestrest/noimg_50.gif'\" src=\"/restaurant/restimg/006/ssimg/h493286a_s.jpg\"/></a></p>\n",
       " <p class=\"listName\"><span class=\"restName\"><a href=\"/restaurant/onepage.asp?acode=H493286\" target=\"_blank\">평양손만두</a></span><span class=\"ic_hot\"></span></p>\n",
       " <p class=\"listType\">한식</p>\n",
       " <p class=\"listArea\">고양시 일산서구 가좌동</p>\n",
       " <p class=\"listService\">\n",
       " </p>\n",
       " </li>\n",
       " <li>\n",
       " <div class=\"listRank\"> <p class=\"rankNum\">9</p>\n",
       " <p class=\"fluc\"><span class=\"up\">9750</span></p>\n",
       " </div>\n",
       " <p class=\"listPhoto\"><a href=\"/restaurant/onepage.asp?acode=H493635\" target=\"_blank\"><img alt=\"\" onerror=\"this.src='/image/restaurant/bestrest/noimg_50.gif'\" src=\"/restaurant/restimg/005/ssimg/h493635a_s.jpg\"/></a></p>\n",
       " <p class=\"listName\"><span class=\"restName\"><a href=\"/restaurant/onepage.asp?acode=H493635\" target=\"_blank\">팽현숙의옛날순대국</a></span><span class=\"ic_hot\"></span></p>\n",
       " <p class=\"listType\">한식</p>\n",
       " <p class=\"listArea\">수원시 팔달구 우만동</p>\n",
       " <p class=\"listService\">\n",
       " </p>\n",
       " </li>\n",
       " <li>\n",
       " <div class=\"listRank\"> <p class=\"rankNum\">10</p>\n",
       " <p class=\"fluc\"><span class=\"up\">7982</span></p>\n",
       " </div>\n",
       " <p class=\"listPhoto\"><a href=\"/restaurant/onepage.asp?acode=G402008\" target=\"_blank\"><img alt=\"\" onerror=\"this.src='/image/restaurant/bestrest/noimg_50.gif'\" src=\"/restaurant/restimg/008/ssimg/g402008a_s.jpg\"/></a></p>\n",
       " <p class=\"listName\"><span class=\"restName\"><a href=\"/restaurant/onepage.asp?acode=G402008\" target=\"_blank\">한스케익 영통점</a></span><span class=\"ic_hot\"></span></p>\n",
       " <p class=\"listType\">베이커리</p>\n",
       " <p class=\"listArea\">수원시 영통구 영통동</p>\n",
       " <p class=\"listService\">\n",
       " </p>\n",
       " </li>\n",
       " </ul>]"
      ]
     },
     "metadata": {},
     "execution_count": 30
    }
   ],
   "source": [
    "lis = soup.select('ul.list')\n",
    "lis"
   ]
  },
  {
   "cell_type": "code",
   "execution_count": 23,
   "metadata": {},
   "outputs": [],
   "source": [
    "li = soup.find_all('li')"
   ]
  },
  {
   "cell_type": "code",
   "execution_count": 55,
   "metadata": {},
   "outputs": [
    {
     "output_type": "execute_result",
     "data": {
      "text/plain": [
       "[<li>\n",
       " <div class=\"listRank\"> <p class=\"numTop\">1</p>\n",
       " <p class=\"fluc\"><span class=\"same\">same</span></p>\n",
       " </div>\n",
       " <p class=\"listPhoto\"><a href=\"/restaurant/onepage.asp?acode=D102947\" target=\"_blank\"><img alt=\"\" onerror=\"this.src='/image/restaurant/bestrest/noimg_50.gif'\" src=\"/restaurant/restimg/007/ssimg/d102947a_s.jpg\"/></a></p>\n",
       " <p class=\"listName\"><span class=\"restName\"><a href=\"/restaurant/onepage.asp?acode=D102947\" target=\"_blank\">피오니(Peony) 연남점</a></span></p>\n",
       " <p class=\"listType\">카페/주점</p>\n",
       " <p class=\"listArea\">마포구 연남동</p>\n",
       " <p class=\"listService\">\n",
       " </p>\n",
       " </li>,\n",
       " <li>\n",
       " <div class=\"listRank\"> <p class=\"numTop\">2</p>\n",
       " <p class=\"fluc\"><span class=\"up\">8400</span></p>\n",
       " </div>\n",
       " <p class=\"listPhoto\"><a href=\"/restaurant/onepage.asp?acode=H121133\" target=\"_blank\"><img alt=\"\" onerror=\"this.src='/image/restaurant/bestrest/noimg_50.gif'\" src=\"/restaurant/restimg/003/ssimg/h121133a_s.jpg\"/></a></p>\n",
       " <p class=\"listName\"><span class=\"restName\"><a href=\"/restaurant/onepage.asp?acode=H121133\" target=\"_blank\">곳간by이종국</a></span><span class=\"ic_hot\"></span></p>\n",
       " <p class=\"listType\">한식</p>\n",
       " <p class=\"listArea\">영등포구 여의도동</p>\n",
       " <p class=\"listService\">\n",
       " </p>\n",
       " </li>,\n",
       " <li>\n",
       " <div class=\"listRank\"> <p class=\"numTop\">3</p>\n",
       " <p class=\"fluc\"><span class=\"up\">8244</span></p>\n",
       " </div>\n",
       " <p class=\"listPhoto\"><a href=\"/restaurant/onepage.asp?acode=R700319\" target=\"_blank\"><img alt=\"\" onerror=\"this.src='/image/restaurant/bestrest/noimg_50.gif'\" src=\"/restaurant/restimg/009/ssimg/r700319a_s.jpg\"/></a></p>\n",
       " <p class=\"listName\"><span class=\"restName\"><a href=\"/restaurant/onepage.asp?acode=R700319\" target=\"_blank\">서가앤쿡 창원상남점</a></span><span class=\"ic_hot\"></span></p>\n",
       " <p class=\"listType\">양식</p>\n",
       " <p class=\"listArea\">창원시 성산구 상남동</p>\n",
       " <p class=\"listService\">\n",
       " </p>\n",
       " </li>,\n",
       " <li>\n",
       " <div class=\"listRank\"> <p class=\"rankNum\">4</p>\n",
       " <p class=\"fluc\"><span class=\"up\">9758</span></p>\n",
       " </div>\n",
       " <p class=\"listPhoto\"><a href=\"/restaurant/onepage.asp?acode=C200031\" target=\"_blank\"><img alt=\"\" onerror=\"this.src='/image/restaurant/bestrest/noimg_50.gif'\" src=\"/restaurant/restimg/001/ssimg/c200031a_s.jpg\"/></a></p>\n",
       " <p class=\"listName\"><span class=\"restName\"><a href=\"/restaurant/onepage.asp?acode=C200031\" target=\"_blank\">속초해물뚝배기짬뽕</a></span><span class=\"ic_hot\"></span></p>\n",
       " <p class=\"listType\">중식</p>\n",
       " <p class=\"listArea\">강원 속초시 교동</p>\n",
       " <p class=\"listService\">\n",
       " </p>\n",
       " </li>,\n",
       " <li>\n",
       " <div class=\"listRank\"> <p class=\"rankNum\">5</p>\n",
       " <p class=\"fluc\"><span class=\"up\">9756</span></p>\n",
       " </div>\n",
       " <p class=\"listPhoto\"><a href=\"/restaurant/onepage.asp?acode=T168271\" target=\"_blank\"><img alt=\"\" onerror=\"this.src='/image/restaurant/bestrest/noimg_50.gif'\" src=\"/restaurant/restimg/001/ssimg/t168271a_s.jpg\"/></a></p>\n",
       " <p class=\"listName\"><span class=\"restName\"><a href=\"/restaurant/onepage.asp?acode=T168271\" target=\"_blank\">페퍼런치(Pepper Lunch) 코엑스점</a></span><span class=\"ic_hot\"></span></p>\n",
       " <p class=\"listType\">기타/세계</p>\n",
       " <p class=\"listArea\">강남구 삼성동</p>\n",
       " <p class=\"listService\">\n",
       " <img alt=\"프리쿠폰\" src=\"/image/restaurant/bestrest/ic_coupon.gif\"/>\n",
       " </p>\n",
       " </li>,\n",
       " <li>\n",
       " <div class=\"listRank\"> <p class=\"rankNum\">6</p>\n",
       " <p class=\"fluc\"><span class=\"up\">8399</span></p>\n",
       " </div>\n",
       " <p class=\"listPhoto\"><a href=\"/restaurant/onepage.asp?acode=H119950\" target=\"_blank\"><img alt=\"\" onerror=\"this.src='/image/restaurant/bestrest/noimg_50.gif'\" src=\"/restaurant/restimg/000/ssimg/h119950a_s.jpg\"/></a></p>\n",
       " <p class=\"listName\"><span class=\"restName\"><a href=\"/restaurant/onepage.asp?acode=H119950\" target=\"_blank\">강강술래 상계점</a></span><span class=\"ic_hot\"></span></p>\n",
       " <p class=\"listType\">한식</p>\n",
       " <p class=\"listArea\">노원구 상계1동</p>\n",
       " <p class=\"listService\">\n",
       " </p>\n",
       " </li>,\n",
       " <li>\n",
       " <div class=\"listRank\"> <p class=\"rankNum\">7</p>\n",
       " <p class=\"fluc\"><span class=\"up\">8401</span></p>\n",
       " </div>\n",
       " <p class=\"listPhoto\"><a href=\"/restaurant/onepage.asp?acode=G402035\" target=\"_blank\"><img alt=\"\" onerror=\"this.src='/image/restaurant/bestrest/noimg_50.gif'\" src=\"/restaurant/restimg/005/ssimg/g402035a_s.jpg\"/></a></p>\n",
       " <p class=\"listName\"><span class=\"restName\"><a href=\"/restaurant/onepage.asp?acode=G402035\" target=\"_blank\">바켄베이커리카페(BACKEN)</a></span><span class=\"ic_hot\"></span></p>\n",
       " <p class=\"listType\">베이커리</p>\n",
       " <p class=\"listArea\">경기 포천시 신읍동</p>\n",
       " <p class=\"listService\">\n",
       " </p>\n",
       " </li>,\n",
       " <li>\n",
       " <div class=\"listRank\"> <p class=\"rankNum\">8</p>\n",
       " <p class=\"fluc\"><span class=\"up\">8215</span></p>\n",
       " </div>\n",
       " <p class=\"listPhoto\"><a href=\"/restaurant/onepage.asp?acode=H493286\" target=\"_blank\"><img alt=\"\" onerror=\"this.src='/image/restaurant/bestrest/noimg_50.gif'\" src=\"/restaurant/restimg/006/ssimg/h493286a_s.jpg\"/></a></p>\n",
       " <p class=\"listName\"><span class=\"restName\"><a href=\"/restaurant/onepage.asp?acode=H493286\" target=\"_blank\">평양손만두</a></span><span class=\"ic_hot\"></span></p>\n",
       " <p class=\"listType\">한식</p>\n",
       " <p class=\"listArea\">고양시 일산서구 가좌동</p>\n",
       " <p class=\"listService\">\n",
       " </p>\n",
       " </li>,\n",
       " <li>\n",
       " <div class=\"listRank\"> <p class=\"rankNum\">9</p>\n",
       " <p class=\"fluc\"><span class=\"up\">9750</span></p>\n",
       " </div>\n",
       " <p class=\"listPhoto\"><a href=\"/restaurant/onepage.asp?acode=H493635\" target=\"_blank\"><img alt=\"\" onerror=\"this.src='/image/restaurant/bestrest/noimg_50.gif'\" src=\"/restaurant/restimg/005/ssimg/h493635a_s.jpg\"/></a></p>\n",
       " <p class=\"listName\"><span class=\"restName\"><a href=\"/restaurant/onepage.asp?acode=H493635\" target=\"_blank\">팽현숙의옛날순대국</a></span><span class=\"ic_hot\"></span></p>\n",
       " <p class=\"listType\">한식</p>\n",
       " <p class=\"listArea\">수원시 팔달구 우만동</p>\n",
       " <p class=\"listService\">\n",
       " </p>\n",
       " </li>,\n",
       " <li>\n",
       " <div class=\"listRank\"> <p class=\"rankNum\">10</p>\n",
       " <p class=\"fluc\"><span class=\"up\">7982</span></p>\n",
       " </div>\n",
       " <p class=\"listPhoto\"><a href=\"/restaurant/onepage.asp?acode=G402008\" target=\"_blank\"><img alt=\"\" onerror=\"this.src='/image/restaurant/bestrest/noimg_50.gif'\" src=\"/restaurant/restimg/008/ssimg/g402008a_s.jpg\"/></a></p>\n",
       " <p class=\"listName\"><span class=\"restName\"><a href=\"/restaurant/onepage.asp?acode=G402008\" target=\"_blank\">한스케익 영통점</a></span><span class=\"ic_hot\"></span></p>\n",
       " <p class=\"listType\">베이커리</p>\n",
       " <p class=\"listArea\">수원시 영통구 영통동</p>\n",
       " <p class=\"listService\">\n",
       " </p>\n",
       " </li>,\n",
       " <li class=\"img\">\n",
       " <p class=\"newIcon\"></p>\n",
       " <!-- <p class=\"newIcon2\"></p> -->\n",
       " <a class=\"tl\" href=\"/restaurant/onepage.asp?acode=H201857\" target=\"_blank\"><img class=\"pc\" src=\"/restaurant/restimg/007/zzimg/h201857a_z.jpg\"/></a>\n",
       " </li>,\n",
       " <li class=\"txt\"><a class=\"tl\" href=\"/restaurant/onepage.asp?acode=H201857\" target=\"_blank\">홍시갈비</a><br/>\n",
       " <p class=\"icoo\"> <img src=\"/mymenupan/myrestscrap/img/rest_icon/rest_icon_01.gif\"/><span>한식</span><span>| 강원 강릉시 </span><br/>\n",
       " <p class=\"com\"><a href=\"/restaurant/onepage.asp?acode=H201857\" target=\"_blank\">홍시갈비는 예로부터 곶감과 홍시를 팔던 이곳 강릉 곶감시장의 의...</a>\n",
       " <p>\n",
       " </p></p></p></li>,\n",
       " <li class=\"img\">\n",
       " <p class=\"newIcon\"></p>\n",
       " <!-- <p class=\"newIcon2\"></p> -->\n",
       " <a class=\"tl\" href=\"/restaurant/onepage.asp?acode=F200105\" target=\"_blank\"><img class=\"pc\" src=\"/restaurant/restimg/005/zzimg/f200105a_z.jpg\"/></a>\n",
       " </li>,\n",
       " <li class=\"txt\"><a class=\"tl\" href=\"/restaurant/onepage.asp?acode=F200105\" target=\"_blank\">킹콩부대찌개강릉옥천</a><br/>\n",
       " <p class=\"icoo\"> <img src=\"/mymenupan/myrestscrap/img/rest_icon/rest_icon_06.gif\"/><span>패스트푸드</span><span>| 강원 강릉시 </span><br/>\n",
       " <p class=\"com\"><a href=\"/restaurant/onepage.asp?acode=F200105\" target=\"_blank\">최상의 신선한 재료와 진한 육수로 만들어 가족의 건강까지 생각하...</a>\n",
       " <p>\n",
       " </p></p></p></li>,\n",
       " <li class=\"cid_banner_item none\"><span class=\"armband02\"></span><a cc=\"naver_post_7232780\" class=\"#cid_cnt_pub_vw_run cid_cnt_pub_act_run\" ct=\"C81A0011\" href=\"http://post.naver.com/viewer/postView.nhn?volumeNo=7232780\" target=\"_blank\"><img src=\"/common/inc/contentcare/img/c81a0011/7232780.jpg\"/></a></li>,\n",
       " <li class=\"cid_banner_item none\"><span class=\"armband02\"></span><a cc=\"naver_post_7279060\" class=\"#cid_cnt_pub_vw_run cid_cnt_pub_act_run\" ct=\"C81A0011\" href=\"http://post.naver.com/viewer/postView.nhn?volumeNo=7279060\" target=\"_blank\"><img src=\"/common/inc/contentcare/img/c81a0011/7279060.jpg\"/></a></li>,\n",
       " <li class=\"cid_banner_item none\"><span class=\"armband02\"></span><a cc=\"naver_post_6999271\" class=\"#cid_cnt_pub_vw_run cid_cnt_pub_act_run\" ct=\"C81A0011\" href=\"http://post.naver.com/viewer/postView.nhn?volumeNo=6999271\" target=\"_blank\"><img src=\"/common/inc/contentcare/img/c81a0011/6999271.jpg\"/></a></li>,\n",
       " <li class=\"cid_banner_item none\"><span class=\"armband02\"></span><a cc=\"naver_post_6258504\" class=\"#cid_cnt_pub_vw_run cid_cnt_pub_act_run\" ct=\"C81A0011\" href=\"http://post.naver.com/viewer/postView.nhn?volumeNo=6258504\" target=\"_blank\"><img src=\"/common/inc/contentcare/img/c81a0011/6258504.jpg\"/></a></li>,\n",
       " <li class=\"cid_banner_item none\"><span class=\"armband02\"></span><a cc=\"naver_post_6243252\" class=\"#cid_cnt_pub_vw_run cid_cnt_pub_act_run\" ct=\"C81A0011\" href=\"http://post.naver.com/viewer/postView.nhn?volumeNo=6243252\" target=\"_blank\"><img src=\"/common/inc/contentcare/img/c81a0011/6243252.jpg\"/></a></li>,\n",
       " <li class=\"cid_banner_item_2 none\"><p class=\"tit armband_txt02\"><a cc=\"naver_post_7232780\" class=\"#cid_cnt_pub_vw_run cid_cnt_pub_act_run\" ct=\"C81A0011\" href=\"http://post.naver.com/viewer/postView.nhn?volumeNo=7232780\" target=\"_blank\"><span class=\"armband_txt02\">일본 라멘 맛집!</span></a></p><p class=\"txt\"><a cc=\"naver_post_7232780\" class=\"#cid_cnt_pub_vw_run cid_cnt_pub_act_run\" ct=\"C81A0011\" href=\"http://post.naver.com/viewer/postView.nhn?volumeNo=7232780\" target=\"_blank\">찐한 국물 맛 좀 볼래?</a></p></li>,\n",
       " <li class=\"cid_banner_item_2 none\"><p class=\"tit armband_txt02\"><a cc=\"naver_post_7279060\" class=\"#cid_cnt_pub_vw_run cid_cnt_pub_act_run\" ct=\"C81A0011\" href=\"http://post.naver.com/viewer/postView.nhn?volumeNo=7279060\" target=\"_blank\"><span class=\"armband_txt02\">구수~한 감자탕 맛집</span></a></p><p class=\"txt\"><a cc=\"naver_post_7279060\" class=\"#cid_cnt_pub_vw_run cid_cnt_pub_act_run\" ct=\"C81A0011\" href=\"http://post.naver.com/viewer/postView.nhn?volumeNo=7279060\" target=\"_blank\">소주한잔을 부르는 그맛~</a></p></li>,\n",
       " <li class=\"cid_banner_item_2 none\"><p class=\"tit armband_txt02\"><a cc=\"naver_post_6999271\" class=\"#cid_cnt_pub_vw_run cid_cnt_pub_act_run\" ct=\"C81A0011\" href=\"http://post.naver.com/viewer/postView.nhn?volumeNo=6999271\" target=\"_blank\"><span class=\"armband_txt02\">함박스테이크 맛집</span></a></p><p class=\"txt\"><a cc=\"naver_post_6999271\" class=\"#cid_cnt_pub_vw_run cid_cnt_pub_act_run\" ct=\"C81A0011\" href=\"http://post.naver.com/viewer/postView.nhn?volumeNo=6999271\" target=\"_blank\">함박웃음 짓게 만드는 그곳!</a></p></li>,\n",
       " <li class=\"cid_banner_item_2 none\"><p class=\"tit armband_txt02\"><a cc=\"naver_post_6258504\" class=\"#cid_cnt_pub_vw_run cid_cnt_pub_act_run\" ct=\"C81A0011\" href=\"http://post.naver.com/viewer/postView.nhn?volumeNo=6258504\" target=\"_blank\"><span class=\"armband_txt02\">가족과 함께 하는 맛집</span></a></p><p class=\"txt\"><a cc=\"naver_post_6258504\" class=\"#cid_cnt_pub_vw_run cid_cnt_pub_act_run\" ct=\"C81A0011\" href=\"http://post.naver.com/viewer/postView.nhn?volumeNo=6258504\" target=\"_blank\">명절에 가족과 함께 가보자~</a></p></li>,\n",
       " <li class=\"cid_banner_item_2 none\"><p class=\"tit armband_txt02\"><a cc=\"naver_post_6243252\" class=\"#cid_cnt_pub_vw_run cid_cnt_pub_act_run\" ct=\"C81A0011\" href=\"http://post.naver.com/viewer/postView.nhn?volumeNo=6243252\" target=\"_blank\"><span class=\"armband_txt02\">합정맛집</span></a></p><p class=\"txt\"><a cc=\"naver_post_6243252\" class=\"#cid_cnt_pub_vw_run cid_cnt_pub_act_run\" ct=\"C81A0011\" href=\"http://post.naver.com/viewer/postView.nhn?volumeNo=6243252\" target=\"_blank\">혼자서도 가기 좋은 혼밥, 혼술집 3</a></p></li>,\n",
       " <li class=\"cid_banner_navi\">1</li>,\n",
       " <li class=\"cid_banner_navi\">2</li>,\n",
       " <li class=\"cid_banner_navi\">3</li>,\n",
       " <li class=\"cid_banner_navi\">4</li>,\n",
       " <li class=\"cid_banner_navi\">5</li>,\n",
       " <li><a href=\"/corporate/main.asp\" target=\"_blank\">회사소개</a></li>,\n",
       " <li><a href=\"/corporate/service/menupan.asp\" target=\"_blank\">사업분야</a></li>,\n",
       " <li><a href=\"/corporate/contact/ad.asp\" target=\"_blank\">광고및제휴</a></li>,\n",
       " <li><a href=\"/corporate/recruit/recruit.asp\" target=\"_blank\">채용정보</a></li>,\n",
       " <li><a href=\"/mymenupan/member/member_protect.asp\" target=\"_blank\">개인정보취급방침</a></li>,\n",
       " <li><a href=\"/mymenupan/guide/guide.asp\" target=\"_blank\">고객센터</a></li>,\n",
       " <li class=\"menupan\"><a href=\"/\"><img alt=\"메뉴판닷컴\" src=\"/common/nvimg/foot_menupan.gif\"/></a></li>,\n",
       " <li><a href=\"http://icoupon.menupan.com/main.asp\" target=\"_blank\"><img alt=\"아이쿠폰\" src=\"/common/nvimg/foot_icoupon.gif\"/></a></li>,\n",
       " <li>(주)메뉴판닷컴</li>,\n",
       " <li>서울시 서초구 신반포로 332</li>,\n",
       " <li>사업자등록번호 220-81-66003</li>,\n",
       " <li>통신판매신고 2015-서울서초-0332호</li>,\n",
       " <li>대표이사 이원우</li>,\n",
       " <li>대표전화 02-2017-7700 </li>,\n",
       " <li>FAX 050-5300-7731</li>,\n",
       " <li>meg@menupan.com</li>]"
      ]
     },
     "metadata": {},
     "execution_count": 55
    }
   ],
   "source": [
    "li[86:]"
   ]
  },
  {
   "cell_type": "code",
   "execution_count": 47,
   "metadata": {},
   "outputs": [
    {
     "output_type": "execute_result",
     "data": {
      "text/plain": [
       "131"
      ]
     },
     "metadata": {},
     "execution_count": 47
    }
   ],
   "source": [
    "len(li)"
   ]
  },
  {
   "cell_type": "code",
   "execution_count": 62,
   "metadata": {},
   "outputs": [
    {
     "output_type": "execute_result",
     "data": {
      "text/plain": [
       "<li>\n",
       "<div class=\"listRank\"> <p class=\"numTop\">1</p>\n",
       "<p class=\"fluc\"><span class=\"same\">same</span></p>\n",
       "</div>\n",
       "<p class=\"listPhoto\"><a href=\"/restaurant/onepage.asp?acode=D102947\" target=\"_blank\"><img alt=\"\" onerror=\"this.src='/image/restaurant/bestrest/noimg_50.gif'\" src=\"/restaurant/restimg/007/ssimg/d102947a_s.jpg\"/></a></p>\n",
       "<p class=\"listName\"><span class=\"restName\"><a href=\"/restaurant/onepage.asp?acode=D102947\" target=\"_blank\">피오니(Peony) 연남점</a></span></p>\n",
       "<p class=\"listType\">카페/주점</p>\n",
       "<p class=\"listArea\">마포구 연남동</p>\n",
       "<p class=\"listService\">\n",
       "</p>\n",
       "</li>"
      ]
     },
     "metadata": {},
     "execution_count": 62
    }
   ],
   "source": [
    "li[86]"
   ]
  },
  {
   "cell_type": "code",
   "execution_count": 69,
   "metadata": {},
   "outputs": [
    {
     "output_type": "execute_result",
     "data": {
      "text/plain": [
       "'\\n 1\\nsame\\n\\n\\n피오니(Peony) 연남점\\n카페/주점\\n마포구 연남동\\n\\n\\n'"
      ]
     },
     "metadata": {},
     "execution_count": 69
    }
   ],
   "source": [
    "lio = li[86].get_text()\n",
    "lio"
   ]
  },
  {
   "cell_type": "code",
   "execution_count": 78,
   "metadata": {},
   "outputs": [
    {
     "output_type": "execute_result",
     "data": {
      "text/plain": [
       "['', ' 1', 'same', '', '', '피오니(Peony) 연남점', '카페/주점', '마포구 연남동', '', '', '']"
      ]
     },
     "metadata": {},
     "execution_count": 78
    }
   ],
   "source": [
    "lio.split('\\n')"
   ]
  },
  {
   "cell_type": "code",
   "execution_count": 185,
   "metadata": {},
   "outputs": [],
   "source": [
    "if li[86].select_one('.numTop') == li[86].select_one('.numTop'):\n",
    "    int(li[86].select_one('.numTop').string)\n",
    "elif li[86].select_one('.rankNum') == li[86].select_one('.rankNum'):\n",
    "    int(li[86].select_one('.rankNum').string)"
   ]
  },
  {
   "cell_type": "code",
   "execution_count": 192,
   "metadata": {},
   "outputs": [
    {
     "output_type": "execute_result",
     "data": {
      "text/plain": [
       "4"
      ]
     },
     "metadata": {},
     "execution_count": 192
    }
   ],
   "source": [
    "num_tt = int(li[89].select_one('.rankNum').get_text())\n",
    "num_tt"
   ]
  },
  {
   "cell_type": "code",
   "execution_count": 125,
   "metadata": {},
   "outputs": [
    {
     "output_type": "execute_result",
     "data": {
      "text/plain": [
       "1"
      ]
     },
     "metadata": {},
     "execution_count": 125
    }
   ],
   "source": [
    "num = int(li[86].select_one('.numTop').string)\n",
    "num"
   ]
  },
  {
   "cell_type": "code",
   "execution_count": 112,
   "metadata": {},
   "outputs": [
    {
     "output_type": "execute_result",
     "data": {
      "text/plain": [
       "'http://www.menupan.com/restaurant/onepage.asp?acode=D102947'"
      ]
     },
     "metadata": {},
     "execution_count": 112
    }
   ],
   "source": [
    "url = 'http://www.menupan.com' + li[86].find('a').attrs['href']\n",
    "url"
   ]
  },
  {
   "cell_type": "code",
   "execution_count": 111,
   "metadata": {},
   "outputs": [
    {
     "output_type": "execute_result",
     "data": {
      "text/plain": [
       "'http://www.menupan.com/restaurant/restimg/007/ssimg/d102947a_s.jpg'"
      ]
     },
     "metadata": {},
     "execution_count": 111
    }
   ],
   "source": [
    "img = 'http://www.menupan.com' + li[86].find('img').attrs['src']\n",
    "img"
   ]
  },
  {
   "cell_type": "code",
   "execution_count": 102,
   "metadata": {},
   "outputs": [
    {
     "output_type": "execute_result",
     "data": {
      "text/plain": [
       "'피오니(Peony) 연남점'"
      ]
     },
     "metadata": {},
     "execution_count": 102
    }
   ],
   "source": [
    "name = li[86].select_one('.listName').get_text()\n",
    "name"
   ]
  },
  {
   "cell_type": "code",
   "execution_count": 101,
   "metadata": {},
   "outputs": [
    {
     "output_type": "execute_result",
     "data": {
      "text/plain": [
       "'카페/주점'"
      ]
     },
     "metadata": {},
     "execution_count": 101
    }
   ],
   "source": [
    "stype = li[86].select_one('.listType').get_text()\n",
    "stype"
   ]
  },
  {
   "cell_type": "code",
   "execution_count": 100,
   "metadata": {},
   "outputs": [
    {
     "output_type": "execute_result",
     "data": {
      "text/plain": [
       "'마포구 연남동'"
      ]
     },
     "metadata": {},
     "execution_count": 100
    }
   ],
   "source": [
    "area = li[86].select_one('.listArea').get_text()\n",
    "area"
   ]
  },
  {
   "cell_type": "code",
   "execution_count": 81,
   "metadata": {},
   "outputs": [],
   "source": [
    "rank = lio.split('\\n')[1].replace(' ','')"
   ]
  },
  {
   "cell_type": "code",
   "execution_count": 82,
   "metadata": {},
   "outputs": [
    {
     "output_type": "execute_result",
     "data": {
      "text/plain": [
       "'1'"
      ]
     },
     "metadata": {},
     "execution_count": 82
    }
   ],
   "source": [
    "rank"
   ]
  },
  {
   "cell_type": "code",
   "execution_count": null,
   "metadata": {},
   "outputs": [],
   "source": [
    "lison = lio.split('\\n')[1].replace(' ','')"
   ]
  },
  {
   "cell_type": "code",
   "execution_count": 88,
   "metadata": {},
   "outputs": [
    {
     "output_type": "execute_result",
     "data": {
      "text/plain": [
       "'1'"
      ]
     },
     "metadata": {},
     "execution_count": 88
    }
   ],
   "source": [
    "lison"
   ]
  },
  {
   "cell_type": "code",
   "execution_count": 113,
   "metadata": {},
   "outputs": [
    {
     "output_type": "execute_result",
     "data": {
      "text/plain": [
       "range(86, 131)"
      ]
     },
     "metadata": {},
     "execution_count": 113
    }
   ],
   "source": [
    "range(86, len(li))"
   ]
  },
  {
   "cell_type": "code",
   "execution_count": 197,
   "metadata": {},
   "outputs": [
    {
     "output_type": "error",
     "ename": "AttributeError",
     "evalue": "'int' object has no attribute 'select_one'",
     "traceback": [
      "\u001b[1;31m---------------------------------------------------------------------------\u001b[0m",
      "\u001b[1;31mAttributeError\u001b[0m                            Traceback (most recent call last)",
      "\u001b[1;32m<ipython-input-197-bbe0850b2c06>\u001b[0m in \u001b[0;36m<module>\u001b[1;34m\u001b[0m\n\u001b[0;32m      1\u001b[0m \u001b[0mnum_list\u001b[0m \u001b[1;33m=\u001b[0m \u001b[1;33m[\u001b[0m\u001b[1;33m]\u001b[0m\u001b[1;33m;\u001b[0m \u001b[0murl_list\u001b[0m \u001b[1;33m=\u001b[0m \u001b[1;33m[\u001b[0m\u001b[1;33m]\u001b[0m\u001b[1;33m;\u001b[0m \u001b[0mimg_list\u001b[0m \u001b[1;33m=\u001b[0m \u001b[1;33m[\u001b[0m\u001b[1;33m]\u001b[0m\u001b[1;33m;\u001b[0m \u001b[0mname_list\u001b[0m \u001b[1;33m=\u001b[0m \u001b[1;33m[\u001b[0m\u001b[1;33m]\u001b[0m\u001b[1;33m;\u001b[0m \u001b[0mstype_list\u001b[0m \u001b[1;33m=\u001b[0m \u001b[1;33m[\u001b[0m\u001b[1;33m]\u001b[0m\u001b[1;33m;\u001b[0m \u001b[0marea_list\u001b[0m \u001b[1;33m=\u001b[0m\u001b[1;33m[\u001b[0m\u001b[1;33m]\u001b[0m\u001b[1;33m\u001b[0m\u001b[1;33m\u001b[0m\u001b[0m\n\u001b[0;32m      2\u001b[0m \u001b[1;32mfor\u001b[0m \u001b[0mi\u001b[0m \u001b[1;32min\u001b[0m \u001b[0mrange\u001b[0m\u001b[1;33m(\u001b[0m\u001b[1;36m86\u001b[0m\u001b[1;33m,\u001b[0m \u001b[0mlen\u001b[0m\u001b[1;33m(\u001b[0m\u001b[0mli\u001b[0m\u001b[1;33m)\u001b[0m\u001b[1;33m)\u001b[0m\u001b[1;33m:\u001b[0m\u001b[1;33m\u001b[0m\u001b[1;33m\u001b[0m\u001b[0m\n\u001b[1;32m----> 3\u001b[1;33m     \u001b[1;32mif\u001b[0m \u001b[0mi\u001b[0m\u001b[1;33m.\u001b[0m\u001b[0mselect_one\u001b[0m\u001b[1;33m(\u001b[0m\u001b[1;34m'.numTop'\u001b[0m\u001b[1;33m)\u001b[0m \u001b[1;33m==\u001b[0m \u001b[0mi\u001b[0m\u001b[1;33m.\u001b[0m\u001b[0mselect_one\u001b[0m\u001b[1;33m(\u001b[0m\u001b[1;34m'.numTop'\u001b[0m\u001b[1;33m)\u001b[0m\u001b[1;33m:\u001b[0m\u001b[1;33m\u001b[0m\u001b[1;33m\u001b[0m\u001b[0m\n\u001b[0m\u001b[0;32m      4\u001b[0m          \u001b[0mnum_list\u001b[0m\u001b[1;33m.\u001b[0m\u001b[0mappend\u001b[0m\u001b[1;33m(\u001b[0m\u001b[0mint\u001b[0m\u001b[1;33m(\u001b[0m\u001b[0mi\u001b[0m\u001b[1;33m.\u001b[0m\u001b[0mselect_one\u001b[0m\u001b[1;33m(\u001b[0m\u001b[1;34m'.numTop'\u001b[0m\u001b[1;33m)\u001b[0m\u001b[1;33m.\u001b[0m\u001b[0mget_text\u001b[0m\u001b[1;33m(\u001b[0m\u001b[1;33m)\u001b[0m\u001b[1;33m)\u001b[0m\u001b[1;33m)\u001b[0m\u001b[1;33m\u001b[0m\u001b[1;33m\u001b[0m\u001b[0m\n\u001b[0;32m      5\u001b[0m     \u001b[1;32melif\u001b[0m \u001b[0mi\u001b[0m\u001b[1;33m.\u001b[0m\u001b[0mselect_one\u001b[0m\u001b[1;33m(\u001b[0m\u001b[1;34m'.rankNum'\u001b[0m\u001b[1;33m)\u001b[0m \u001b[1;33m==\u001b[0m \u001b[0mi\u001b[0m\u001b[1;33m.\u001b[0m\u001b[0mselect_one\u001b[0m\u001b[1;33m(\u001b[0m\u001b[1;34m'.rankNum'\u001b[0m\u001b[1;33m)\u001b[0m\u001b[1;33m:\u001b[0m\u001b[1;33m\u001b[0m\u001b[1;33m\u001b[0m\u001b[0m\n",
      "\u001b[1;31mAttributeError\u001b[0m: 'int' object has no attribute 'select_one'"
     ]
    }
   ],
   "source": [
    "num_list = []; url_list = []; img_list = []; name_list = []; stype_list = []; area_list =[]\n",
    "for i in range(86, len(li)):\n",
    "    if i.select_one('.numTop') == i.select_one('.numTop'):\n",
    "         num_list.append(int(i.select_one('.numTop').get_text()))\n",
    "    elif i.select_one('.rankNum') == i.select_one('.rankNum'):\n",
    "        num_list.append(int(i.select_one('.rankNum').get_text()))\n",
    "    \n",
    "    url = 'http://www.menupan.com' + i.find('a').attrs['href']\n",
    "    img = 'http://www.menupan.com' + i.find('img').attrs['src']\n",
    "    name = i.select_one('.listName').get_text()\n",
    "    stype = i.select_one('.listType').get_text()\n",
    "    area = i.select_one('.listArea').get_text()\n",
    "\n",
    "    print(num,url,img,name,stype,area)\n",
    "    url_list.append(url)\n",
    "    img_list.append(img)\n",
    "    name_list.append(name)\n",
    "    stype_list.append(stype)\n",
    "    area_list.append(area)"
   ]
  },
  {
   "cell_type": "code",
   "execution_count": null,
   "metadata": {},
   "outputs": [],
   "source": []
  }
 ]
}