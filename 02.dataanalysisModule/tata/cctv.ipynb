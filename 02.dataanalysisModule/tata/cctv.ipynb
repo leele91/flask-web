{
 "metadata": {
  "language_info": {
   "codemirror_mode": {
    "name": "ipython",
    "version": 3
   },
   "file_extension": ".py",
   "mimetype": "text/x-python",
   "name": "python",
   "nbconvert_exporter": "python",
   "pygments_lexer": "ipython3",
   "version": "3.8.3-final"
  },
  "orig_nbformat": 2,
  "kernelspec": {
   "name": "Python 3.8.3 64-bit ('wlsdu': virtualenv)",
   "display_name": "Python 3.8.3 64-bit ('wlsdu': virtualenv)",
   "metadata": {
    "interpreter": {
     "hash": "c2224539028b414c7f0940cdc86eeb3c7deaf138deef25179eca5056c4d821b9"
    }
   }
  }
 },
 "nbformat": 4,
 "nbformat_minor": 2,
 "cells": [
  {
   "cell_type": "code",
   "execution_count": 1,
   "metadata": {},
   "outputs": [],
   "source": [
    "import numpy as np\n",
    "import pandas as pd\n",
    "import seaborn as sns\n",
    "import matplotlib as mpl\n",
    "import matplotlib.pyplot as plt\n",
    "%matplotlib inline\n",
    "\n",
    "## 한글 폰트 사용\n",
    "# 폰트 설정\n",
    "mpl.rc('font', family='Malgun Gothic') #family에 사용할 폰트를 넣음\n",
    "# 유니코드에서  음수 부호설정\n",
    "mpl.rc('axes', unicode_minus=False)"
   ]
  },
  {
   "cell_type": "markdown",
   "metadata": {},
   "source": [
    "## 서울시 범죄 현황"
   ]
  },
  {
   "cell_type": "code",
   "execution_count": 2,
   "metadata": {},
   "outputs": [
    {
     "output_type": "execute_result",
     "data": {
      "text/plain": [
       "    구별  발생합계  검거합계  살인발생  살인검거  강도발생  강도검거  강간발생  강간검거  절도발생  절도검거  폭력발생  폭력검거\n",
       "0  종로구  3846  4117     4     5     7     8   238  1143  1515  1069  2082  1892\n",
       "1   중구  4327  2804     2     1     6     5   195   115  2202  1050  1922  1633\n",
       "2  용산구  3313  2611     3     3     3     4   272   237   999   544  2036  1823\n",
       "3  성동구  2512  1838     6     5     9    10   133    96   970   511  1394  1216\n",
       "4  광진구  4011  2816     4     5     6     5   273   213  1875  1008  1853  1585"
      ],
      "text/html": "<div>\n<style scoped>\n    .dataframe tbody tr th:only-of-type {\n        vertical-align: middle;\n    }\n\n    .dataframe tbody tr th {\n        vertical-align: top;\n    }\n\n    .dataframe thead th {\n        text-align: right;\n    }\n</style>\n<table border=\"1\" class=\"dataframe\">\n  <thead>\n    <tr style=\"text-align: right;\">\n      <th></th>\n      <th>구별</th>\n      <th>발생합계</th>\n      <th>검거합계</th>\n      <th>살인발생</th>\n      <th>살인검거</th>\n      <th>강도발생</th>\n      <th>강도검거</th>\n      <th>강간발생</th>\n      <th>강간검거</th>\n      <th>절도발생</th>\n      <th>절도검거</th>\n      <th>폭력발생</th>\n      <th>폭력검거</th>\n    </tr>\n  </thead>\n  <tbody>\n    <tr>\n      <th>0</th>\n      <td>종로구</td>\n      <td>3846</td>\n      <td>4117</td>\n      <td>4</td>\n      <td>5</td>\n      <td>7</td>\n      <td>8</td>\n      <td>238</td>\n      <td>1143</td>\n      <td>1515</td>\n      <td>1069</td>\n      <td>2082</td>\n      <td>1892</td>\n    </tr>\n    <tr>\n      <th>1</th>\n      <td>중구</td>\n      <td>4327</td>\n      <td>2804</td>\n      <td>2</td>\n      <td>1</td>\n      <td>6</td>\n      <td>5</td>\n      <td>195</td>\n      <td>115</td>\n      <td>2202</td>\n      <td>1050</td>\n      <td>1922</td>\n      <td>1633</td>\n    </tr>\n    <tr>\n      <th>2</th>\n      <td>용산구</td>\n      <td>3313</td>\n      <td>2611</td>\n      <td>3</td>\n      <td>3</td>\n      <td>3</td>\n      <td>4</td>\n      <td>272</td>\n      <td>237</td>\n      <td>999</td>\n      <td>544</td>\n      <td>2036</td>\n      <td>1823</td>\n    </tr>\n    <tr>\n      <th>3</th>\n      <td>성동구</td>\n      <td>2512</td>\n      <td>1838</td>\n      <td>6</td>\n      <td>5</td>\n      <td>9</td>\n      <td>10</td>\n      <td>133</td>\n      <td>96</td>\n      <td>970</td>\n      <td>511</td>\n      <td>1394</td>\n      <td>1216</td>\n    </tr>\n    <tr>\n      <th>4</th>\n      <td>광진구</td>\n      <td>4011</td>\n      <td>2816</td>\n      <td>4</td>\n      <td>5</td>\n      <td>6</td>\n      <td>5</td>\n      <td>273</td>\n      <td>213</td>\n      <td>1875</td>\n      <td>1008</td>\n      <td>1853</td>\n      <td>1585</td>\n    </tr>\n  </tbody>\n</table>\n</div>"
     },
     "metadata": {},
     "execution_count": 2
    }
   ],
   "source": [
    "pol = pd.read_csv('../static/data/pol_서울시범죄현황.csv')\n",
    "pol.head()"
   ]
  },
  {
   "cell_type": "code",
   "execution_count": 3,
   "metadata": {},
   "outputs": [],
   "source": [
    "# index=False : 인덱스 없이 저장\n",
    "# pol.to_csv('../static/results/pol_서울시범죄현황.csv', index=False)"
   ]
  },
  {
   "cell_type": "markdown",
   "metadata": {},
   "source": [
    "## 서울시 인구 현황"
   ]
  },
  {
   "cell_type": "code",
   "execution_count": 4,
   "metadata": {},
   "outputs": [
    {
     "output_type": "execute_result",
     "data": {
      "text/plain": [
       "    구별     인구수     내국인    외국인    고령자     외국인비율      고령자비율\n",
       "0  종로구  159842  149952   9890  28396  6.187360  17.765043\n",
       "1   중구  135321  125800   9521  24265  7.035863  17.931437\n",
       "2  용산구  244953  229786  15167  39995  6.191800  16.327622\n",
       "3  성동구  302695  295591   7104  45372  2.346917  14.989346\n",
       "4  광진구  361923  348064  13859  50047  3.829268  13.828079"
      ],
      "text/html": "<div>\n<style scoped>\n    .dataframe tbody tr th:only-of-type {\n        vertical-align: middle;\n    }\n\n    .dataframe tbody tr th {\n        vertical-align: top;\n    }\n\n    .dataframe thead th {\n        text-align: right;\n    }\n</style>\n<table border=\"1\" class=\"dataframe\">\n  <thead>\n    <tr style=\"text-align: right;\">\n      <th></th>\n      <th>구별</th>\n      <th>인구수</th>\n      <th>내국인</th>\n      <th>외국인</th>\n      <th>고령자</th>\n      <th>외국인비율</th>\n      <th>고령자비율</th>\n    </tr>\n  </thead>\n  <tbody>\n    <tr>\n      <th>0</th>\n      <td>종로구</td>\n      <td>159842</td>\n      <td>149952</td>\n      <td>9890</td>\n      <td>28396</td>\n      <td>6.187360</td>\n      <td>17.765043</td>\n    </tr>\n    <tr>\n      <th>1</th>\n      <td>중구</td>\n      <td>135321</td>\n      <td>125800</td>\n      <td>9521</td>\n      <td>24265</td>\n      <td>7.035863</td>\n      <td>17.931437</td>\n    </tr>\n    <tr>\n      <th>2</th>\n      <td>용산구</td>\n      <td>244953</td>\n      <td>229786</td>\n      <td>15167</td>\n      <td>39995</td>\n      <td>6.191800</td>\n      <td>16.327622</td>\n    </tr>\n    <tr>\n      <th>3</th>\n      <td>성동구</td>\n      <td>302695</td>\n      <td>295591</td>\n      <td>7104</td>\n      <td>45372</td>\n      <td>2.346917</td>\n      <td>14.989346</td>\n    </tr>\n    <tr>\n      <th>4</th>\n      <td>광진구</td>\n      <td>361923</td>\n      <td>348064</td>\n      <td>13859</td>\n      <td>50047</td>\n      <td>3.829268</td>\n      <td>13.828079</td>\n    </tr>\n  </tbody>\n</table>\n</div>"
     },
     "metadata": {},
     "execution_count": 4
    }
   ],
   "source": [
    "pop = pd.read_csv('../static/data/pop_인구현황.csv')\n",
    "pop.head()"
   ]
  },
  {
   "cell_type": "markdown",
   "metadata": {},
   "source": [
    "### Pivot_tabel을 이용해서 데이터 정리"
   ]
  },
  {
   "cell_type": "code",
   "execution_count": 5,
   "metadata": {},
   "outputs": [
    {
     "output_type": "execute_result",
     "data": {
      "text/plain": [
       "      강간  강도  살인    절도    폭력      강간검거율       강도검거율       살인검거율      절도검거율  \\\n",
       "구별                                                                           \n",
       "강남구  666   5   5  2970  3658  84.384384  100.000000   60.000000  45.084175   \n",
       "강동구  180  15   6  1650  2163  86.111111   93.333333   83.333333  54.969697   \n",
       "강북구  176   3   6  1229  2424  82.386364   66.666667  100.000000  54.027665   \n",
       "강서구  306   3   8  2050  2557  83.986928  100.000000  100.000000  52.536585   \n",
       "관악구  408  10  13  2223  2674  82.107843  100.000000   76.923077  48.807917   \n",
       "\n",
       "         폭력검거율  \n",
       "구별              \n",
       "강남구  86.358666  \n",
       "강동구  86.638927  \n",
       "강북구  91.006601  \n",
       "강서구  85.881893  \n",
       "관악구  88.593867  "
      ],
      "text/html": "<div>\n<style scoped>\n    .dataframe tbody tr th:only-of-type {\n        vertical-align: middle;\n    }\n\n    .dataframe tbody tr th {\n        vertical-align: top;\n    }\n\n    .dataframe thead th {\n        text-align: right;\n    }\n</style>\n<table border=\"1\" class=\"dataframe\">\n  <thead>\n    <tr style=\"text-align: right;\">\n      <th></th>\n      <th>강간</th>\n      <th>강도</th>\n      <th>살인</th>\n      <th>절도</th>\n      <th>폭력</th>\n      <th>강간검거율</th>\n      <th>강도검거율</th>\n      <th>살인검거율</th>\n      <th>절도검거율</th>\n      <th>폭력검거율</th>\n    </tr>\n    <tr>\n      <th>구별</th>\n      <th></th>\n      <th></th>\n      <th></th>\n      <th></th>\n      <th></th>\n      <th></th>\n      <th></th>\n      <th></th>\n      <th></th>\n      <th></th>\n    </tr>\n  </thead>\n  <tbody>\n    <tr>\n      <th>강남구</th>\n      <td>666</td>\n      <td>5</td>\n      <td>5</td>\n      <td>2970</td>\n      <td>3658</td>\n      <td>84.384384</td>\n      <td>100.000000</td>\n      <td>60.000000</td>\n      <td>45.084175</td>\n      <td>86.358666</td>\n    </tr>\n    <tr>\n      <th>강동구</th>\n      <td>180</td>\n      <td>15</td>\n      <td>6</td>\n      <td>1650</td>\n      <td>2163</td>\n      <td>86.111111</td>\n      <td>93.333333</td>\n      <td>83.333333</td>\n      <td>54.969697</td>\n      <td>86.638927</td>\n    </tr>\n    <tr>\n      <th>강북구</th>\n      <td>176</td>\n      <td>3</td>\n      <td>6</td>\n      <td>1229</td>\n      <td>2424</td>\n      <td>82.386364</td>\n      <td>66.666667</td>\n      <td>100.000000</td>\n      <td>54.027665</td>\n      <td>91.006601</td>\n    </tr>\n    <tr>\n      <th>강서구</th>\n      <td>306</td>\n      <td>3</td>\n      <td>8</td>\n      <td>2050</td>\n      <td>2557</td>\n      <td>83.986928</td>\n      <td>100.000000</td>\n      <td>100.000000</td>\n      <td>52.536585</td>\n      <td>85.881893</td>\n    </tr>\n    <tr>\n      <th>관악구</th>\n      <td>408</td>\n      <td>10</td>\n      <td>13</td>\n      <td>2223</td>\n      <td>2674</td>\n      <td>82.107843</td>\n      <td>100.000000</td>\n      <td>76.923077</td>\n      <td>48.807917</td>\n      <td>88.593867</td>\n    </tr>\n  </tbody>\n</table>\n</div>"
     },
     "metadata": {},
     "execution_count": 5
    }
   ],
   "source": [
    "crime_anal = pd.read_csv('../static/data/crime_anal.csv', index_col='구별')\n",
    "crime_anal.head()"
   ]
  },
  {
   "cell_type": "markdown",
   "metadata": {},
   "source": [
    "### cctv 설치현황"
   ]
  },
  {
   "cell_type": "code",
   "execution_count": 6,
   "metadata": {},
   "outputs": [
    {
     "output_type": "execute_result",
     "data": {
      "text/plain": [
       "       소계  2015년 이전  2016년  2017년  2018년\n",
       "구별                                      \n",
       "강남구  5221    3431.0    765    577    448\n",
       "강동구  1879    1027.0    194    273    385\n",
       "강북구  1265     691.0    254      1    319\n",
       "강서구  1617     909.0    190    264    254\n",
       "관악구  3985    2001.0    619    694    671"
      ],
      "text/html": "<div>\n<style scoped>\n    .dataframe tbody tr th:only-of-type {\n        vertical-align: middle;\n    }\n\n    .dataframe tbody tr th {\n        vertical-align: top;\n    }\n\n    .dataframe thead th {\n        text-align: right;\n    }\n</style>\n<table border=\"1\" class=\"dataframe\">\n  <thead>\n    <tr style=\"text-align: right;\">\n      <th></th>\n      <th>소계</th>\n      <th>2015년 이전</th>\n      <th>2016년</th>\n      <th>2017년</th>\n      <th>2018년</th>\n    </tr>\n    <tr>\n      <th>구별</th>\n      <th></th>\n      <th></th>\n      <th></th>\n      <th></th>\n      <th></th>\n    </tr>\n  </thead>\n  <tbody>\n    <tr>\n      <th>강남구</th>\n      <td>5221</td>\n      <td>3431.0</td>\n      <td>765</td>\n      <td>577</td>\n      <td>448</td>\n    </tr>\n    <tr>\n      <th>강동구</th>\n      <td>1879</td>\n      <td>1027.0</td>\n      <td>194</td>\n      <td>273</td>\n      <td>385</td>\n    </tr>\n    <tr>\n      <th>강북구</th>\n      <td>1265</td>\n      <td>691.0</td>\n      <td>254</td>\n      <td>1</td>\n      <td>319</td>\n    </tr>\n    <tr>\n      <th>강서구</th>\n      <td>1617</td>\n      <td>909.0</td>\n      <td>190</td>\n      <td>264</td>\n      <td>254</td>\n    </tr>\n    <tr>\n      <th>관악구</th>\n      <td>3985</td>\n      <td>2001.0</td>\n      <td>619</td>\n      <td>694</td>\n      <td>671</td>\n    </tr>\n  </tbody>\n</table>\n</div>"
     },
     "metadata": {},
     "execution_count": 6
    }
   ],
   "source": [
    "re_cctv = pd.read_csv('../static/data/re_cctv.csv', index_col='구별')\n",
    "re_cctv.head()"
   ]
  },
  {
   "cell_type": "code",
   "execution_count": 7,
   "metadata": {},
   "outputs": [
    {
     "output_type": "execute_result",
     "data": {
      "text/plain": [
       "        인구수     내국인    외국인    고령자\n",
       "구별                               \n",
       "종로구  159842  149952   9890  28396\n",
       "중구   135321  125800   9521  24265\n",
       "용산구  244953  229786  15167  39995\n",
       "성동구  302695  295591   7104  45372\n",
       "광진구  361923  348064  13859  50047"
      ],
      "text/html": "<div>\n<style scoped>\n    .dataframe tbody tr th:only-of-type {\n        vertical-align: middle;\n    }\n\n    .dataframe tbody tr th {\n        vertical-align: top;\n    }\n\n    .dataframe thead th {\n        text-align: right;\n    }\n</style>\n<table border=\"1\" class=\"dataframe\">\n  <thead>\n    <tr style=\"text-align: right;\">\n      <th></th>\n      <th>인구수</th>\n      <th>내국인</th>\n      <th>외국인</th>\n      <th>고령자</th>\n    </tr>\n    <tr>\n      <th>구별</th>\n      <th></th>\n      <th></th>\n      <th></th>\n      <th></th>\n    </tr>\n  </thead>\n  <tbody>\n    <tr>\n      <th>종로구</th>\n      <td>159842</td>\n      <td>149952</td>\n      <td>9890</td>\n      <td>28396</td>\n    </tr>\n    <tr>\n      <th>중구</th>\n      <td>135321</td>\n      <td>125800</td>\n      <td>9521</td>\n      <td>24265</td>\n    </tr>\n    <tr>\n      <th>용산구</th>\n      <td>244953</td>\n      <td>229786</td>\n      <td>15167</td>\n      <td>39995</td>\n    </tr>\n    <tr>\n      <th>성동구</th>\n      <td>302695</td>\n      <td>295591</td>\n      <td>7104</td>\n      <td>45372</td>\n    </tr>\n    <tr>\n      <th>광진구</th>\n      <td>361923</td>\n      <td>348064</td>\n      <td>13859</td>\n      <td>50047</td>\n    </tr>\n  </tbody>\n</table>\n</div>"
     },
     "metadata": {},
     "execution_count": 7
    }
   ],
   "source": [
    "pop_sv = pd.read_csv('../static/data/pop_sv.csv', index_col='구별')\n",
    "pop_sv.head()"
   ]
  },
  {
   "cell_type": "code",
   "execution_count": 8,
   "metadata": {},
   "outputs": [
    {
     "output_type": "execute_result",
     "data": {
      "text/plain": [
       "           강간        강도        살인        절도        폭력      강간검거율       강도검거율  \\\n",
       "구별                                                                             \n",
       "강남구  1.000000  0.285714  0.333333  1.000000  1.000000  84.384384  100.000000   \n",
       "강동구  0.156250  1.000000  0.416667  0.394495  0.385785  86.111111   93.333333   \n",
       "강북구  0.149306  0.142857  0.416667  0.201376  0.493016  82.386364   66.666667   \n",
       "강서구  0.375000  0.142857  0.583333  0.577982  0.547658  83.986928  100.000000   \n",
       "관악구  0.552083  0.642857  1.000000  0.657339  0.595727  82.107843  100.000000   \n",
       "\n",
       "          살인검거율      절도검거율      폭력검거율     인구수  CCTV        범죄          검거  \n",
       "구별                                                                         \n",
       "강남구   60.000000  45.084175  86.358666  544085  5221  3.619048  375.827225  \n",
       "강동구   83.333333  54.969697  86.638927  462275  1879  2.353197  404.386402  \n",
       "강북구  100.000000  54.027665  91.006601  313550  1265  1.403221  394.087296  \n",
       "강서구  100.000000  52.536585  85.881893  589536  1617  2.226830  422.405406  \n",
       "관악구   76.923077  48.807917  88.593867  514555  3985  3.448007  396.432704  "
      ],
      "text/html": "<div>\n<style scoped>\n    .dataframe tbody tr th:only-of-type {\n        vertical-align: middle;\n    }\n\n    .dataframe tbody tr th {\n        vertical-align: top;\n    }\n\n    .dataframe thead th {\n        text-align: right;\n    }\n</style>\n<table border=\"1\" class=\"dataframe\">\n  <thead>\n    <tr style=\"text-align: right;\">\n      <th></th>\n      <th>강간</th>\n      <th>강도</th>\n      <th>살인</th>\n      <th>절도</th>\n      <th>폭력</th>\n      <th>강간검거율</th>\n      <th>강도검거율</th>\n      <th>살인검거율</th>\n      <th>절도검거율</th>\n      <th>폭력검거율</th>\n      <th>인구수</th>\n      <th>CCTV</th>\n      <th>범죄</th>\n      <th>검거</th>\n    </tr>\n    <tr>\n      <th>구별</th>\n      <th></th>\n      <th></th>\n      <th></th>\n      <th></th>\n      <th></th>\n      <th></th>\n      <th></th>\n      <th></th>\n      <th></th>\n      <th></th>\n      <th></th>\n      <th></th>\n      <th></th>\n      <th></th>\n    </tr>\n  </thead>\n  <tbody>\n    <tr>\n      <th>강남구</th>\n      <td>1.000000</td>\n      <td>0.285714</td>\n      <td>0.333333</td>\n      <td>1.000000</td>\n      <td>1.000000</td>\n      <td>84.384384</td>\n      <td>100.000000</td>\n      <td>60.000000</td>\n      <td>45.084175</td>\n      <td>86.358666</td>\n      <td>544085</td>\n      <td>5221</td>\n      <td>3.619048</td>\n      <td>375.827225</td>\n    </tr>\n    <tr>\n      <th>강동구</th>\n      <td>0.156250</td>\n      <td>1.000000</td>\n      <td>0.416667</td>\n      <td>0.394495</td>\n      <td>0.385785</td>\n      <td>86.111111</td>\n      <td>93.333333</td>\n      <td>83.333333</td>\n      <td>54.969697</td>\n      <td>86.638927</td>\n      <td>462275</td>\n      <td>1879</td>\n      <td>2.353197</td>\n      <td>404.386402</td>\n    </tr>\n    <tr>\n      <th>강북구</th>\n      <td>0.149306</td>\n      <td>0.142857</td>\n      <td>0.416667</td>\n      <td>0.201376</td>\n      <td>0.493016</td>\n      <td>82.386364</td>\n      <td>66.666667</td>\n      <td>100.000000</td>\n      <td>54.027665</td>\n      <td>91.006601</td>\n      <td>313550</td>\n      <td>1265</td>\n      <td>1.403221</td>\n      <td>394.087296</td>\n    </tr>\n    <tr>\n      <th>강서구</th>\n      <td>0.375000</td>\n      <td>0.142857</td>\n      <td>0.583333</td>\n      <td>0.577982</td>\n      <td>0.547658</td>\n      <td>83.986928</td>\n      <td>100.000000</td>\n      <td>100.000000</td>\n      <td>52.536585</td>\n      <td>85.881893</td>\n      <td>589536</td>\n      <td>1617</td>\n      <td>2.226830</td>\n      <td>422.405406</td>\n    </tr>\n    <tr>\n      <th>관악구</th>\n      <td>0.552083</td>\n      <td>0.642857</td>\n      <td>1.000000</td>\n      <td>0.657339</td>\n      <td>0.595727</td>\n      <td>82.107843</td>\n      <td>100.000000</td>\n      <td>76.923077</td>\n      <td>48.807917</td>\n      <td>88.593867</td>\n      <td>514555</td>\n      <td>3985</td>\n      <td>3.448007</td>\n      <td>396.432704</td>\n    </tr>\n  </tbody>\n</table>\n</div>"
     },
     "metadata": {},
     "execution_count": 8
    }
   ],
   "source": [
    "crime_anal_norm = pd.read_csv('../static/data/crime_anal_norm.csv', index_col='구별')\n",
    "crime_anal_norm.head()"
   ]
  },
  {
   "cell_type": "code",
   "execution_count": 9,
   "metadata": {},
   "outputs": [
    {
     "output_type": "execute_result",
     "data": {
      "text/plain": [
       "           강간        강도        살인        절도        폭력       강간검거율  강도검거율  \\\n",
       "구별                                                                         \n",
       "종로구  0.256944  0.428571  0.250000  0.332569  0.352506  100.000000  100.0   \n",
       "은평구  0.180556  0.000000  0.166667  0.355505  0.366886   83.505155  100.0   \n",
       "성북구  0.149306  0.142857  0.166667  0.133945  0.159819   73.863636  100.0   \n",
       "용산구  0.315972  0.142857  0.166667  0.095872  0.333607   87.132353  100.0   \n",
       "도봉구  0.000000  0.285714  0.000000  0.000000  0.000000   92.222222  100.0   \n",
       "\n",
       "     살인검거율      절도검거율      폭력검거율     인구수  CCTV        범죄          검거  \n",
       "구별                                                                    \n",
       "종로구  100.0  70.561056  90.874159  159842  1471  1.620591  100.000000  \n",
       "은평구  100.0  62.428115  87.718470  485842  2962  1.069613   93.978900  \n",
       "성북구  100.0  67.560074  90.266584  449871  3003  0.752594   93.553825  \n",
       "용산구  100.0  54.454454  89.538310  244953  2063  1.054975   93.431343  \n",
       "도봉구  100.0  49.873418  82.843137  329300   858  0.285714   92.090669  "
      ],
      "text/html": "<div>\n<style scoped>\n    .dataframe tbody tr th:only-of-type {\n        vertical-align: middle;\n    }\n\n    .dataframe tbody tr th {\n        vertical-align: top;\n    }\n\n    .dataframe thead th {\n        text-align: right;\n    }\n</style>\n<table border=\"1\" class=\"dataframe\">\n  <thead>\n    <tr style=\"text-align: right;\">\n      <th></th>\n      <th>강간</th>\n      <th>강도</th>\n      <th>살인</th>\n      <th>절도</th>\n      <th>폭력</th>\n      <th>강간검거율</th>\n      <th>강도검거율</th>\n      <th>살인검거율</th>\n      <th>절도검거율</th>\n      <th>폭력검거율</th>\n      <th>인구수</th>\n      <th>CCTV</th>\n      <th>범죄</th>\n      <th>검거</th>\n    </tr>\n    <tr>\n      <th>구별</th>\n      <th></th>\n      <th></th>\n      <th></th>\n      <th></th>\n      <th></th>\n      <th></th>\n      <th></th>\n      <th></th>\n      <th></th>\n      <th></th>\n      <th></th>\n      <th></th>\n      <th></th>\n      <th></th>\n    </tr>\n  </thead>\n  <tbody>\n    <tr>\n      <th>종로구</th>\n      <td>0.256944</td>\n      <td>0.428571</td>\n      <td>0.250000</td>\n      <td>0.332569</td>\n      <td>0.352506</td>\n      <td>100.000000</td>\n      <td>100.0</td>\n      <td>100.0</td>\n      <td>70.561056</td>\n      <td>90.874159</td>\n      <td>159842</td>\n      <td>1471</td>\n      <td>1.620591</td>\n      <td>100.000000</td>\n    </tr>\n    <tr>\n      <th>은평구</th>\n      <td>0.180556</td>\n      <td>0.000000</td>\n      <td>0.166667</td>\n      <td>0.355505</td>\n      <td>0.366886</td>\n      <td>83.505155</td>\n      <td>100.0</td>\n      <td>100.0</td>\n      <td>62.428115</td>\n      <td>87.718470</td>\n      <td>485842</td>\n      <td>2962</td>\n      <td>1.069613</td>\n      <td>93.978900</td>\n    </tr>\n    <tr>\n      <th>성북구</th>\n      <td>0.149306</td>\n      <td>0.142857</td>\n      <td>0.166667</td>\n      <td>0.133945</td>\n      <td>0.159819</td>\n      <td>73.863636</td>\n      <td>100.0</td>\n      <td>100.0</td>\n      <td>67.560074</td>\n      <td>90.266584</td>\n      <td>449871</td>\n      <td>3003</td>\n      <td>0.752594</td>\n      <td>93.553825</td>\n    </tr>\n    <tr>\n      <th>용산구</th>\n      <td>0.315972</td>\n      <td>0.142857</td>\n      <td>0.166667</td>\n      <td>0.095872</td>\n      <td>0.333607</td>\n      <td>87.132353</td>\n      <td>100.0</td>\n      <td>100.0</td>\n      <td>54.454454</td>\n      <td>89.538310</td>\n      <td>244953</td>\n      <td>2063</td>\n      <td>1.054975</td>\n      <td>93.431343</td>\n    </tr>\n    <tr>\n      <th>도봉구</th>\n      <td>0.000000</td>\n      <td>0.285714</td>\n      <td>0.000000</td>\n      <td>0.000000</td>\n      <td>0.000000</td>\n      <td>92.222222</td>\n      <td>100.0</td>\n      <td>100.0</td>\n      <td>49.873418</td>\n      <td>82.843137</td>\n      <td>329300</td>\n      <td>858</td>\n      <td>0.285714</td>\n      <td>92.090669</td>\n    </tr>\n  </tbody>\n</table>\n</div>"
     },
     "metadata": {},
     "execution_count": 9
    }
   ],
   "source": [
    "# 검거율의 합계인 검거 항목 최고 값을 100으로 한정하고 그 값으로 정렬\n",
    "tmp_max = crime_anal_norm['검거'].max()\n",
    "crime_anal_norm['검거'] = crime_anal_norm['검거'] / tmp_max * 100\n",
    "crime_anal_nrom_sort = crime_anal_norm.sort_values(by='검거', ascending=False)\n",
    "crime_anal_nrom_sort.head()"
   ]
  },
  {
   "cell_type": "code",
   "execution_count": null,
   "metadata": {},
   "outputs": [],
   "source": []
  }
 ]
}