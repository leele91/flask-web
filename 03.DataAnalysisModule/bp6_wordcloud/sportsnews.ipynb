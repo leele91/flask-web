{
 "metadata": {
  "language_info": {
   "codemirror_mode": {
    "name": "ipython",
    "version": 3
   },
   "file_extension": ".py",
   "mimetype": "text/x-python",
   "name": "python",
   "nbconvert_exporter": "python",
   "pygments_lexer": "ipython3",
   "version": "3.8.3-final"
  },
  "orig_nbformat": 2,
  "kernelspec": {
   "name": "python3",
   "display_name": "Python 3",
   "language": "python"
  }
 },
 "nbformat": 4,
 "nbformat_minor": 2,
 "cells": [
  {
   "source": [
    "# 네이버 스포츠뉴스 최신뉴스 크롤링 "
   ],
   "cell_type": "markdown",
   "metadata": {}
  },
  {
   "cell_type": "code",
   "execution_count": 1,
   "metadata": {},
   "outputs": [],
   "source": [
    "import requests, time\n",
    "from selenium import webdriver\n",
    "from selenium.webdriver.common.keys import Keys"
   ]
  },
  {
   "cell_type": "code",
   "execution_count": 5,
   "metadata": {},
   "outputs": [],
   "source": [
    "driver = webdriver.Chrome('./chromedriver')\n",
    "url = 'https://sports.news.naver.com/wfootball/news/index.nhn?isphoto=N'\n",
    "driver.get(url)\n",
    "time.sleep(1)"
   ]
  },
  {
   "cell_type": "code",
   "execution_count": 10,
   "metadata": {},
   "outputs": [],
   "source": [
    "while True:\n",
    "    page = driver.find_element_by_id('_pageList')\n",
    "    try:\n",
    "        next = page.find_element_by_class_name('next')\n",
    "        if next:\n",
    "            next.click()\n",
    "    except:\n",
    "        break"
   ]
  },
  {
   "cell_type": "code",
   "execution_count": 12,
   "metadata": {},
   "outputs": [
    {
     "output_type": "execute_result",
     "data": {
      "text/plain": [
       "22"
      ]
     },
     "metadata": {},
     "execution_count": 12
    }
   ],
   "source": [
    "page = driver.find_element_by_id('_pageList')\n",
    "try:\n",
    "    atags = page.find_elements_by_tag_name('a')\n",
    "    numPage = int(atags[-1].text)\n",
    "except:\n",
    "    numPage=1\n",
    "numPage"
   ]
  },
  {
   "cell_type": "code",
   "execution_count": 52,
   "metadata": {},
   "outputs": [
    {
     "output_type": "execute_result",
     "data": {
      "text/plain": [
       "2"
      ]
     },
     "metadata": {},
     "execution_count": 52
    }
   ],
   "source": [
    "page = driver.find_element_by_id('_pageList')\n",
    "atags = page.find_elements_by_tag_name('a')\n",
    "numPage = int(atags[-1].text)\n",
    "numPage"
   ]
  },
  {
   "cell_type": "code",
   "execution_count": 32,
   "metadata": {},
   "outputs": [],
   "source": [
    "next.click()"
   ]
  },
  {
   "cell_type": "code",
   "execution_count": 9,
   "metadata": {},
   "outputs": [
    {
     "output_type": "execute_result",
     "data": {
      "text/plain": [
       "20"
      ]
     },
     "metadata": {},
     "execution_count": 9
    }
   ],
   "source": [
    "news = driver.find_element_by_css_selector('.news_list')\n",
    "ul = news.find_element_by_tag_name('ul')\n",
    "lis = ul.find_elements_by_tag_name('li')\n",
    "len(lis)"
   ]
  },
  {
   "cell_type": "code",
   "execution_count": 11,
   "metadata": {},
   "outputs": [
    {
     "output_type": "stream",
     "name": "stdout",
     "text": [
      "‘9억팔’ 숨은 도우미는 ‘바람의 손자’ 이정후…“누구의 아들 대신”\n",
      "롯데 자이언츠, 제13회 교육메세나탑 수상\n",
      "롯데자이언츠, 6년 연속 교육메세나탑 수상\n",
      "교육 기부 운동에 적극 참여한 롯데 자이언츠, 6년 연속 교육 메세나탑 수상 영예\n",
      "롯데, 제13회 교육메세나탑 수상\n",
      "[인터뷰]\"수베로, '코치 한' 기억하나?\" 한용덕 전 감독이 떠올린 7년전 기억\n",
      "외국인 FA 시장도 코로나19 쇼크 “진짜 데려올 만한 투수가 안 보인다” [김근한의 골든크로스]\n",
      "2년차 징크스 넘은 2019 신인왕 정우영 \"내년엔 홀드왕 도전\"\n",
      "[마니아노트]되돌아 본 2020 프로야구⑱안정적 선택인가, 변화의 조짐인가--외국인 선수들의 이동 패턴 달라지나?\n",
      "지역과 함께 하는 롯데, 6년 연속 교육메세나탑 수상\n",
      "美 댈러스 옵저버 '김하성 영입, TEX가 오프시즌 해야 할 5가지 중 한 가지'\n",
      "롯데자이언츠, 제13회 교육메세나탑 수상\n",
      "롯데 6년연속 우수 교육기부 활동 기업 선정 '메세나탑' 수상\n",
      "'팔꿈치 수술' 이대은, 명예회복 달린 2021년 늦은 출발\n",
      "LG 배재준, 무기한 자격정지 해제…‘폭행 물의’ 10개월 만에 복귀\n",
      "내 자리에서 최고가 된다! LG 정우영이 선발 욕심 뒤로한 이유\n",
      "\"타 팀 제시액 전달\" 이용찬 FA 영입전, 두산이 고민할 차례다\n",
      "민병헌 반응 속도, 에이징 커브를 의심케 하다 [정철우의 애플베이스볼]\n",
      "‘FA인 듯 FA 아닌 FA 같은’ 오승환, 내년 연봉 얼마 받을까 [엠스플 이슈]\n",
      "[스포츠박사 기자의 스포츠용어 산책 234] 왜 ‘어시스트(Assist)’라고 말할까\n"
     ]
    }
   ],
   "source": [
    "for li in lis:\n",
    "    text = li.find_element_by_css_selector('.text')\n",
    "    title = text.find_element_by_tag_name('span').text\n",
    "    print(title)"
   ]
  },
  {
   "cell_type": "code",
   "execution_count": 12,
   "metadata": {},
   "outputs": [
    {
     "output_type": "execute_result",
     "data": {
      "text/plain": [
       "2"
      ]
     },
     "metadata": {},
     "execution_count": 12
    }
   ],
   "source": [
    "page = driver.find_element_by_id('_pageList')\n",
    "atags = page.find_elements_by_tag_name('a')\n",
    "len(atags)"
   ]
  },
  {
   "cell_type": "code",
   "execution_count": 3,
   "metadata": {},
   "outputs": [],
   "source": [
    "menus = driver.find_elements_by_class_name('main_menu_item')\n",
    "events = []\n",
    "for i in range(1, len(menus)-4):\n",
    "    event = menus[i].find_element_by_tag_name('a').get_attribute('href')\n",
    "    events.append(event.split('/')[3])"
   ]
  },
  {
   "cell_type": "code",
   "execution_count": 4,
   "metadata": {},
   "outputs": [
    {
     "output_type": "execute_result",
     "data": {
      "text/plain": [
       "['kbaseball',\n",
       " 'wbaseball',\n",
       " 'kfootball',\n",
       " 'wfootball',\n",
       " 'basketball',\n",
       " 'volleyball',\n",
       " 'golf',\n",
       " 'general']"
      ]
     },
     "metadata": {},
     "execution_count": 4
    }
   ],
   "source": [
    "events"
   ]
  },
  {
   "cell_type": "code",
   "execution_count": 13,
   "metadata": {},
   "outputs": [
    {
     "output_type": "stream",
     "name": "stdout",
     "text": [
      "kbaseball: 1, 2, 3, 4, 5, 6, 7, 8, 9, \n",
      "wbaseball: 1, 2, \n",
      "kfootball: 1, 2, 3, 4, \n",
      "wfootball: 1, 2, 3, 4, 5, 6, 7, 8, 9, 10, 11, 12, 13, 14, 15, 16, 17, 18, 19, 20, 21, \n",
      "basketball: 1, 2, 3, 4, \n",
      "volleyball: 1, \n",
      "golf: 1, 2, 3, 4, 5, \n",
      "general: 1, 2, 3, 4, 5, 6, 7, \n"
     ]
    }
   ],
   "source": [
    "base_url = 'https://sports.news.naver.com/'\n",
    "option_url = '/news/index.nhn?isphoto=N&page='\n",
    "title_list = []\n",
    "for event in events:\n",
    "    print(event, end=': 1, ')\n",
    "    url = f'{base_url}{event}{option_url}{i}'\n",
    "    driver.get(url)\n",
    "    time.sleep(1)\n",
    "    news = driver.find_element_by_css_selector('.news_list')\n",
    "    ul = news.find_element_by_tag_name('ul')\n",
    "    lis = ul.find_elements_by_tag_name('li')\n",
    "    for li in lis:\n",
    "        text = li.find_element_by_css_selector('.text')\n",
    "        title = text.find_element_by_tag_name('span').text\n",
    "        title_list.append(title)\n",
    "\n",
    "    while True:\n",
    "        page = driver.find_element_by_id('_pageList')\n",
    "        try:\n",
    "            next = page.find_element_by_class_name('next')\n",
    "            if next:\n",
    "                next.click()\n",
    "        except:\n",
    "            break\n",
    "\n",
    "    page = driver.find_element_by_id('_pageList')\n",
    "    try:\n",
    "        atags = page.find_elements_by_tag_name('a')\n",
    "        numPage = int(atags[-1].text)\n",
    "    except:\n",
    "        numPage=1\n",
    "\n",
    "    for i in range(2, numPage+1):\n",
    "        print(i, end=', ')\n",
    "        url = f'{base_url}{event}{option_url}{i}'\n",
    "        driver.get(url)\n",
    "        time.sleep(1)\n",
    "        news = driver.find_element_by_css_selector('.news_list')\n",
    "        ul = news.find_element_by_tag_name('ul')\n",
    "        lis = ul.find_elements_by_tag_name('li')\n",
    "        for li in lis:\n",
    "            text = li.find_element_by_css_selector('.text')\n",
    "            title = text.find_element_by_tag_name('span').text\n",
    "            title_list.append(title)\n",
    "    print()"
   ]
  },
  {
   "cell_type": "code",
   "execution_count": 56,
   "metadata": {},
   "outputs": [
    {
     "output_type": "execute_result",
     "data": {
      "text/plain": [
       "828"
      ]
     },
     "metadata": {},
     "execution_count": 56
    }
   ],
   "source": [
    "len(title_list)"
   ]
  },
  {
   "cell_type": "code",
   "execution_count": 57,
   "metadata": {},
   "outputs": [],
   "source": [
    "title_str = ' '.join(title for title in title_list)"
   ]
  },
  {
   "cell_type": "code",
   "execution_count": 59,
   "metadata": {},
   "outputs": [],
   "source": [
    "file = open('./sports.txt', 'w', encoding='utf-8')\n",
    "file.write(title_str)\n",
    "file.close()"
   ]
  },
  {
   "cell_type": "code",
   "execution_count": null,
   "metadata": {},
   "outputs": [],
   "source": []
  }
 ]
}